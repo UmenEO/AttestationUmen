{
  "nbformat": 4,
  "nbformat_minor": 0,
  "metadata": {
    "colab": {
      "provenance": [],
      "authorship_tag": "ABX9TyPHmFNXcWh/QNiDVI9kRsXs",
      "include_colab_link": true
    },
    "kernelspec": {
      "name": "python3",
      "display_name": "Python 3"
    },
    "language_info": {
      "name": "python"
    }
  },
  "cells": [
    {
      "cell_type": "markdown",
      "metadata": {
        "id": "view-in-github",
        "colab_type": "text"
      },
      "source": [
        "<a href=\"https://colab.research.google.com/github/UmenEO/AttestationUmen/blob/main/UmenDZParser.ipynb\" target=\"_parent\"><img src=\"https://colab.research.google.com/assets/colab-badge.svg\" alt=\"Open In Colab\"/></a>"
      ]
    },
    {
      "cell_type": "code",
      "execution_count": null,
      "metadata": {
        "colab": {
          "base_uri": "https://localhost:8080/"
        },
        "id": "ihgtusFM9Hik",
        "outputId": "1ed19076-e8d7-479f-d218-8c267d560598"
      },
      "outputs": [
        {
          "output_type": "stream",
          "name": "stdout",
          "text": [
            "Введите город, в котором вы хотите узнать погоду: Москва\n",
            "Погода в Москва:\n",
            "Температура: 11.24°C\n",
            "Ощущается как: 9.99°C\n",
            "Описание: broken clouds\n"
          ]
        }
      ],
      "source": [
        "import requests\n",
        "\n",
        "# Ваш API-ключ с OpenWeatherMap\n",
        "api_key = \"c5faf347ba0e97e427d15b02467465b7\"\n",
        "city = input('Введите город, в котором вы хотите узнать погоду: ')\n",
        "url = f\"http://api.openweathermap.org/data/2.5/weather?q={city}&appid={api_key}&units=metric\"\n",
        "\n",
        "response = requests.get(url)\n",
        "data = response.json()\n",
        "\n",
        "if response.status_code == 200:\n",
        "    print(f\"Погода в {city}:\")\n",
        "    print(f\"Температура: {data['main']['temp']}°C\")\n",
        "    print(f\"Ощущается как: {data['main']['feels_like']}°C\")\n",
        "    print(f\"Описание: {data['weather'][0]['description']}\")\n",
        "else:\n",
        "    print(f\"Не удалось получить данные: {data['message']}\")\n"
      ]
    }
  ]
}