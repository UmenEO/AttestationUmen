{
  "cells": [
    {
      "cell_type": "markdown",
      "metadata": {
        "id": "view-in-github",
        "colab_type": "text"
      },
      "source": [
        "<a href=\"https://colab.research.google.com/github/UmenEO/AttestationUmen/blob/main/seminar2_sknn.ipynb\" target=\"_parent\"><img src=\"https://colab.research.google.com/assets/colab-badge.svg\" alt=\"Open In Colab\"/></a>"
      ]
    },
    {
      "cell_type": "code",
      "execution_count": null,
      "metadata": {
        "id": "rzvhhciwJA3m",
        "outputId": "fd8fc656-d7da-49eb-ba68-f0e4f4014422",
        "colab": {
          "base_uri": "https://localhost:8080/"
        }
      },
      "outputs": [
        {
          "output_type": "stream",
          "name": "stdout",
          "text": [
            "Cloning into 'ITP-SeqRecSys-2024'...\n",
            "remote: Enumerating objects: 39, done.\u001b[K\n",
            "remote: Counting objects: 100% (39/39), done.\u001b[K\n",
            "remote: Compressing objects: 100% (31/31), done.\u001b[K\n",
            "remote: Total 39 (delta 9), reused 30 (delta 4), pack-reused 0 (from 0)\u001b[K\n",
            "Receiving objects: 100% (39/39), 382.16 KiB | 3.44 MiB/s, done.\n",
            "Resolving deltas: 100% (9/9), done.\n"
          ]
        }
      ],
      "source": [
        "import os\n",
        "username = 'recspert'\n",
        "repo = 'ITP-SeqRecSys-2024'\n",
        "\n",
        "# remove local directory if it already exists\n",
        "if os.path.isdir(repo):\n",
        "    !rm -rf {repo}\n",
        "\n",
        "!git clone https://github.com/{username}/{repo}.git"
      ]
    },
    {
      "cell_type": "code",
      "execution_count": null,
      "metadata": {
        "id": "xO2PiYjwJA3n",
        "outputId": "d1410caa-009c-45fb-a946-9b918bf40c9f",
        "colab": {
          "base_uri": "https://localhost:8080/"
        }
      },
      "outputs": [
        {
          "output_type": "stream",
          "name": "stdout",
          "text": [
            "Collecting polara\n",
            "  Cloning https://github.com/evfro/polara.git (to revision develop) to /tmp/pip-install-627emsqy/polara_3fa473042a8a4e5f8a101ab4d9af6640\n",
            "  Running command git clone --filter=blob:none --quiet https://github.com/evfro/polara.git /tmp/pip-install-627emsqy/polara_3fa473042a8a4e5f8a101ab4d9af6640\n",
            "  Running command git checkout -b develop --track origin/develop\n",
            "  Switched to a new branch 'develop'\n",
            "  Branch 'develop' set up to track remote branch 'develop' from 'origin'.\n",
            "  Resolved https://github.com/evfro/polara.git to commit 8e48cfd88e616ca53f8bbda1702a3e2c8abaf38e\n",
            "  Preparing metadata (setup.py) ... \u001b[?25l\u001b[?25hdone\n",
            "Building wheels for collected packages: polara\n",
            "  Building wheel for polara (setup.py) ... \u001b[?25l\u001b[?25hdone\n",
            "  Created wheel for polara: filename=polara-0.7.2.dev0-py3-none-any.whl size=89446 sha256=2d3d9c7ce2ced74d556b270fb0c199fcdd5808cda03b14d64dda20bd185f9603\n",
            "  Stored in directory: /tmp/pip-ephem-wheel-cache-o5r35xgq/wheels/3f/3a/1f/42058978e585b23c384652846b96b72870f3c8c12976cdac50\n",
            "Successfully built polara\n",
            "Installing collected packages: polara\n",
            "Successfully installed polara-0.7.2.dev0\n"
          ]
        }
      ],
      "source": [
        "!pip install --no-cache-dir --upgrade git+https://github.com/evfro/polara.git@develop#egg=polara"
      ]
    },
    {
      "cell_type": "code",
      "execution_count": null,
      "metadata": {
        "id": "uV7GCoCSJA3n",
        "outputId": "dcbbb337-aff1-46e1-c551-d9ff368e33ad",
        "colab": {
          "base_uri": "https://localhost:8080/"
        }
      },
      "outputs": [
        {
          "output_type": "stream",
          "name": "stdout",
          "text": [
            "/content/ITP-SeqRecSys-2024\n",
            "/content\n"
          ]
        }
      ],
      "source": [
        "import numpy as np\n",
        "import pandas as pd\n",
        "from sklearn.metrics.pairwise import cosine_similarity\n",
        "from tqdm.notebook import tqdm\n",
        "from scipy.sparse import csr_matrix, coo_matrix, diags\n",
        "\n",
        "from polara import get_movielens_data\n",
        "from polara.preprocessing.dataframes import leave_one_out, reindex\n",
        "\n",
        "%cd {repo}\n",
        "from source.dataprep.dataprep import transform_indices, generate_interactions_matrix\n",
        "from source.evaluation.evaluation import topn_recommendations, model_evaluate, downvote_seen_items, build_evaluate_model\n",
        "from source.helpers.knn import truncate_similarity\n",
        "from source.helpers.similarity import jaccard_similarity, weighted_jaccard_similarity\n",
        "from source.helpers.plot import plot_histories\n",
        "from source.models.basic import Random, Popular\n",
        "%cd -"
      ]
    },
    {
      "cell_type": "code",
      "execution_count": null,
      "metadata": {
        "id": "ybV-b-h2JA3n"
      },
      "outputs": [],
      "source": [
        "data = get_movielens_data(include_time=True)\n",
        "data_description = {\n",
        "    'users':'userid',\n",
        "    'items':'movieid',\n",
        "    'feedback':'rating',\n",
        "    'timestamp':'timestamp'\n",
        "}"
      ]
    },
    {
      "cell_type": "code",
      "execution_count": null,
      "metadata": {
        "id": "kUDfnT8jJA3o"
      },
      "outputs": [],
      "source": [
        "# define the timepoint corresponding to the 95% percentile\n",
        "test_timepoint = data['timestamp'].quantile(\n",
        "    q=0.95, interpolation='nearest'\n",
        ")\n",
        "\n",
        "# users with interaction after timepoint go to test\n",
        "_test_data_ = data.query('timestamp >= @test_timepoint')\n",
        "test_users = _test_data_[data_description['users']].unique()\n",
        "test_data_ = data.query(\n",
        "    'userid in @test_users'\n",
        ")\n",
        "# interaction before timepoint go to train,\n",
        "# also hiding the interactions of test users\n",
        "# this ensures the warm-start strategy\n",
        "train_data_ = data.query(\n",
        "    'userid not in @test_data_.userid.unique() and timestamp < @test_timepoint'\n",
        ")"
      ]
    },
    {
      "cell_type": "code",
      "execution_count": null,
      "metadata": {
        "id": "4YObb7eIJA3o"
      },
      "outputs": [],
      "source": [
        "# transform user and item ids for convenience, reindex test data\n",
        "training, data_index = transform_indices(train_data_.copy(), data_description['users'], data_description['items'])\n",
        "\n",
        "# reindex items in test set, if item was not in train, assign -1 as itemid\n",
        "test_data = reindex(test_data_, data_index['items'], filter_invalid=False)"
      ]
    },
    {
      "cell_type": "code",
      "execution_count": null,
      "metadata": {
        "id": "KZ1_EJqXJA3o",
        "outputId": "9ac865d3-75e6-4654-855b-c80994d93eb8",
        "colab": {
          "base_uri": "https://localhost:8080/",
          "height": 419
        }
      },
      "outputs": [
        {
          "output_type": "execute_result",
          "data": {
            "text/plain": [
              "        userid  movieid  rating   timestamp\n",
              "16179      127       -1       3  1007224983\n",
              "23716      169       -1       4   977208529\n",
              "24559      173       -1       3   993227500\n",
              "27736      195       -1       4  1015890867\n",
              "27908      195       -1       4  1000996574\n",
              "...        ...      ...     ...         ...\n",
              "984215    5948       -1       5  1016563709\n",
              "993604    6001       -1       3   964030592\n",
              "993739    6001       -1       1   956807238\n",
              "996637    6016       -1       3   995663888\n",
              "996763    6016       -1       3   994453428\n",
              "\n",
              "[115 rows x 4 columns]"
            ],
            "text/html": [
              "\n",
              "  <div id=\"df-57581514-e35c-44d2-bc66-5c93c92b91aa\" class=\"colab-df-container\">\n",
              "    <div>\n",
              "<style scoped>\n",
              "    .dataframe tbody tr th:only-of-type {\n",
              "        vertical-align: middle;\n",
              "    }\n",
              "\n",
              "    .dataframe tbody tr th {\n",
              "        vertical-align: top;\n",
              "    }\n",
              "\n",
              "    .dataframe thead th {\n",
              "        text-align: right;\n",
              "    }\n",
              "</style>\n",
              "<table border=\"1\" class=\"dataframe\">\n",
              "  <thead>\n",
              "    <tr style=\"text-align: right;\">\n",
              "      <th></th>\n",
              "      <th>userid</th>\n",
              "      <th>movieid</th>\n",
              "      <th>rating</th>\n",
              "      <th>timestamp</th>\n",
              "    </tr>\n",
              "  </thead>\n",
              "  <tbody>\n",
              "    <tr>\n",
              "      <th>16179</th>\n",
              "      <td>127</td>\n",
              "      <td>-1</td>\n",
              "      <td>3</td>\n",
              "      <td>1007224983</td>\n",
              "    </tr>\n",
              "    <tr>\n",
              "      <th>23716</th>\n",
              "      <td>169</td>\n",
              "      <td>-1</td>\n",
              "      <td>4</td>\n",
              "      <td>977208529</td>\n",
              "    </tr>\n",
              "    <tr>\n",
              "      <th>24559</th>\n",
              "      <td>173</td>\n",
              "      <td>-1</td>\n",
              "      <td>3</td>\n",
              "      <td>993227500</td>\n",
              "    </tr>\n",
              "    <tr>\n",
              "      <th>27736</th>\n",
              "      <td>195</td>\n",
              "      <td>-1</td>\n",
              "      <td>4</td>\n",
              "      <td>1015890867</td>\n",
              "    </tr>\n",
              "    <tr>\n",
              "      <th>27908</th>\n",
              "      <td>195</td>\n",
              "      <td>-1</td>\n",
              "      <td>4</td>\n",
              "      <td>1000996574</td>\n",
              "    </tr>\n",
              "    <tr>\n",
              "      <th>...</th>\n",
              "      <td>...</td>\n",
              "      <td>...</td>\n",
              "      <td>...</td>\n",
              "      <td>...</td>\n",
              "    </tr>\n",
              "    <tr>\n",
              "      <th>984215</th>\n",
              "      <td>5948</td>\n",
              "      <td>-1</td>\n",
              "      <td>5</td>\n",
              "      <td>1016563709</td>\n",
              "    </tr>\n",
              "    <tr>\n",
              "      <th>993604</th>\n",
              "      <td>6001</td>\n",
              "      <td>-1</td>\n",
              "      <td>3</td>\n",
              "      <td>964030592</td>\n",
              "    </tr>\n",
              "    <tr>\n",
              "      <th>993739</th>\n",
              "      <td>6001</td>\n",
              "      <td>-1</td>\n",
              "      <td>1</td>\n",
              "      <td>956807238</td>\n",
              "    </tr>\n",
              "    <tr>\n",
              "      <th>996637</th>\n",
              "      <td>6016</td>\n",
              "      <td>-1</td>\n",
              "      <td>3</td>\n",
              "      <td>995663888</td>\n",
              "    </tr>\n",
              "    <tr>\n",
              "      <th>996763</th>\n",
              "      <td>6016</td>\n",
              "      <td>-1</td>\n",
              "      <td>3</td>\n",
              "      <td>994453428</td>\n",
              "    </tr>\n",
              "  </tbody>\n",
              "</table>\n",
              "<p>115 rows × 4 columns</p>\n",
              "</div>\n",
              "    <div class=\"colab-df-buttons\">\n",
              "\n",
              "  <div class=\"colab-df-container\">\n",
              "    <button class=\"colab-df-convert\" onclick=\"convertToInteractive('df-57581514-e35c-44d2-bc66-5c93c92b91aa')\"\n",
              "            title=\"Convert this dataframe to an interactive table.\"\n",
              "            style=\"display:none;\">\n",
              "\n",
              "  <svg xmlns=\"http://www.w3.org/2000/svg\" height=\"24px\" viewBox=\"0 -960 960 960\">\n",
              "    <path d=\"M120-120v-720h720v720H120Zm60-500h600v-160H180v160Zm220 220h160v-160H400v160Zm0 220h160v-160H400v160ZM180-400h160v-160H180v160Zm440 0h160v-160H620v160ZM180-180h160v-160H180v160Zm440 0h160v-160H620v160Z\"/>\n",
              "  </svg>\n",
              "    </button>\n",
              "\n",
              "  <style>\n",
              "    .colab-df-container {\n",
              "      display:flex;\n",
              "      gap: 12px;\n",
              "    }\n",
              "\n",
              "    .colab-df-convert {\n",
              "      background-color: #E8F0FE;\n",
              "      border: none;\n",
              "      border-radius: 50%;\n",
              "      cursor: pointer;\n",
              "      display: none;\n",
              "      fill: #1967D2;\n",
              "      height: 32px;\n",
              "      padding: 0 0 0 0;\n",
              "      width: 32px;\n",
              "    }\n",
              "\n",
              "    .colab-df-convert:hover {\n",
              "      background-color: #E2EBFA;\n",
              "      box-shadow: 0px 1px 2px rgba(60, 64, 67, 0.3), 0px 1px 3px 1px rgba(60, 64, 67, 0.15);\n",
              "      fill: #174EA6;\n",
              "    }\n",
              "\n",
              "    .colab-df-buttons div {\n",
              "      margin-bottom: 4px;\n",
              "    }\n",
              "\n",
              "    [theme=dark] .colab-df-convert {\n",
              "      background-color: #3B4455;\n",
              "      fill: #D2E3FC;\n",
              "    }\n",
              "\n",
              "    [theme=dark] .colab-df-convert:hover {\n",
              "      background-color: #434B5C;\n",
              "      box-shadow: 0px 1px 3px 1px rgba(0, 0, 0, 0.15);\n",
              "      filter: drop-shadow(0px 1px 2px rgba(0, 0, 0, 0.3));\n",
              "      fill: #FFFFFF;\n",
              "    }\n",
              "  </style>\n",
              "\n",
              "    <script>\n",
              "      const buttonEl =\n",
              "        document.querySelector('#df-57581514-e35c-44d2-bc66-5c93c92b91aa button.colab-df-convert');\n",
              "      buttonEl.style.display =\n",
              "        google.colab.kernel.accessAllowed ? 'block' : 'none';\n",
              "\n",
              "      async function convertToInteractive(key) {\n",
              "        const element = document.querySelector('#df-57581514-e35c-44d2-bc66-5c93c92b91aa');\n",
              "        const dataTable =\n",
              "          await google.colab.kernel.invokeFunction('convertToInteractive',\n",
              "                                                    [key], {});\n",
              "        if (!dataTable) return;\n",
              "\n",
              "        const docLinkHtml = 'Like what you see? Visit the ' +\n",
              "          '<a target=\"_blank\" href=https://colab.research.google.com/notebooks/data_table.ipynb>data table notebook</a>'\n",
              "          + ' to learn more about interactive tables.';\n",
              "        element.innerHTML = '';\n",
              "        dataTable['output_type'] = 'display_data';\n",
              "        await google.colab.output.renderOutput(dataTable, element);\n",
              "        const docLink = document.createElement('div');\n",
              "        docLink.innerHTML = docLinkHtml;\n",
              "        element.appendChild(docLink);\n",
              "      }\n",
              "    </script>\n",
              "  </div>\n",
              "\n",
              "\n",
              "<div id=\"df-e6e64018-2031-4317-af1c-0a78e552787d\">\n",
              "  <button class=\"colab-df-quickchart\" onclick=\"quickchart('df-e6e64018-2031-4317-af1c-0a78e552787d')\"\n",
              "            title=\"Suggest charts\"\n",
              "            style=\"display:none;\">\n",
              "\n",
              "<svg xmlns=\"http://www.w3.org/2000/svg\" height=\"24px\"viewBox=\"0 0 24 24\"\n",
              "     width=\"24px\">\n",
              "    <g>\n",
              "        <path d=\"M19 3H5c-1.1 0-2 .9-2 2v14c0 1.1.9 2 2 2h14c1.1 0 2-.9 2-2V5c0-1.1-.9-2-2-2zM9 17H7v-7h2v7zm4 0h-2V7h2v10zm4 0h-2v-4h2v4z\"/>\n",
              "    </g>\n",
              "</svg>\n",
              "  </button>\n",
              "\n",
              "<style>\n",
              "  .colab-df-quickchart {\n",
              "      --bg-color: #E8F0FE;\n",
              "      --fill-color: #1967D2;\n",
              "      --hover-bg-color: #E2EBFA;\n",
              "      --hover-fill-color: #174EA6;\n",
              "      --disabled-fill-color: #AAA;\n",
              "      --disabled-bg-color: #DDD;\n",
              "  }\n",
              "\n",
              "  [theme=dark] .colab-df-quickchart {\n",
              "      --bg-color: #3B4455;\n",
              "      --fill-color: #D2E3FC;\n",
              "      --hover-bg-color: #434B5C;\n",
              "      --hover-fill-color: #FFFFFF;\n",
              "      --disabled-bg-color: #3B4455;\n",
              "      --disabled-fill-color: #666;\n",
              "  }\n",
              "\n",
              "  .colab-df-quickchart {\n",
              "    background-color: var(--bg-color);\n",
              "    border: none;\n",
              "    border-radius: 50%;\n",
              "    cursor: pointer;\n",
              "    display: none;\n",
              "    fill: var(--fill-color);\n",
              "    height: 32px;\n",
              "    padding: 0;\n",
              "    width: 32px;\n",
              "  }\n",
              "\n",
              "  .colab-df-quickchart:hover {\n",
              "    background-color: var(--hover-bg-color);\n",
              "    box-shadow: 0 1px 2px rgba(60, 64, 67, 0.3), 0 1px 3px 1px rgba(60, 64, 67, 0.15);\n",
              "    fill: var(--button-hover-fill-color);\n",
              "  }\n",
              "\n",
              "  .colab-df-quickchart-complete:disabled,\n",
              "  .colab-df-quickchart-complete:disabled:hover {\n",
              "    background-color: var(--disabled-bg-color);\n",
              "    fill: var(--disabled-fill-color);\n",
              "    box-shadow: none;\n",
              "  }\n",
              "\n",
              "  .colab-df-spinner {\n",
              "    border: 2px solid var(--fill-color);\n",
              "    border-color: transparent;\n",
              "    border-bottom-color: var(--fill-color);\n",
              "    animation:\n",
              "      spin 1s steps(1) infinite;\n",
              "  }\n",
              "\n",
              "  @keyframes spin {\n",
              "    0% {\n",
              "      border-color: transparent;\n",
              "      border-bottom-color: var(--fill-color);\n",
              "      border-left-color: var(--fill-color);\n",
              "    }\n",
              "    20% {\n",
              "      border-color: transparent;\n",
              "      border-left-color: var(--fill-color);\n",
              "      border-top-color: var(--fill-color);\n",
              "    }\n",
              "    30% {\n",
              "      border-color: transparent;\n",
              "      border-left-color: var(--fill-color);\n",
              "      border-top-color: var(--fill-color);\n",
              "      border-right-color: var(--fill-color);\n",
              "    }\n",
              "    40% {\n",
              "      border-color: transparent;\n",
              "      border-right-color: var(--fill-color);\n",
              "      border-top-color: var(--fill-color);\n",
              "    }\n",
              "    60% {\n",
              "      border-color: transparent;\n",
              "      border-right-color: var(--fill-color);\n",
              "    }\n",
              "    80% {\n",
              "      border-color: transparent;\n",
              "      border-right-color: var(--fill-color);\n",
              "      border-bottom-color: var(--fill-color);\n",
              "    }\n",
              "    90% {\n",
              "      border-color: transparent;\n",
              "      border-bottom-color: var(--fill-color);\n",
              "    }\n",
              "  }\n",
              "</style>\n",
              "\n",
              "  <script>\n",
              "    async function quickchart(key) {\n",
              "      const quickchartButtonEl =\n",
              "        document.querySelector('#' + key + ' button');\n",
              "      quickchartButtonEl.disabled = true;  // To prevent multiple clicks.\n",
              "      quickchartButtonEl.classList.add('colab-df-spinner');\n",
              "      try {\n",
              "        const charts = await google.colab.kernel.invokeFunction(\n",
              "            'suggestCharts', [key], {});\n",
              "      } catch (error) {\n",
              "        console.error('Error during call to suggestCharts:', error);\n",
              "      }\n",
              "      quickchartButtonEl.classList.remove('colab-df-spinner');\n",
              "      quickchartButtonEl.classList.add('colab-df-quickchart-complete');\n",
              "    }\n",
              "    (() => {\n",
              "      let quickchartButtonEl =\n",
              "        document.querySelector('#df-e6e64018-2031-4317-af1c-0a78e552787d button');\n",
              "      quickchartButtonEl.style.display =\n",
              "        google.colab.kernel.accessAllowed ? 'block' : 'none';\n",
              "    })();\n",
              "  </script>\n",
              "</div>\n",
              "    </div>\n",
              "  </div>\n"
            ],
            "application/vnd.google.colaboratory.intrinsic+json": {
              "type": "dataframe",
              "summary": "{\n  \"name\": \"test_data[test_data[data_description['items']] == -1]\",\n  \"rows\": 115,\n  \"fields\": [\n    {\n      \"column\": \"userid\",\n      \"properties\": {\n        \"dtype\": \"number\",\n        \"std\": 1754,\n        \"min\": 127,\n        \"max\": 6016,\n        \"num_unique_values\": 80,\n        \"samples\": [\n          1352,\n          127,\n          1252\n        ],\n        \"semantic_type\": \"\",\n        \"description\": \"\"\n      }\n    },\n    {\n      \"column\": \"movieid\",\n      \"properties\": {\n        \"dtype\": \"number\",\n        \"std\": 0,\n        \"min\": -1,\n        \"max\": -1,\n        \"num_unique_values\": 1,\n        \"samples\": [\n          -1\n        ],\n        \"semantic_type\": \"\",\n        \"description\": \"\"\n      }\n    },\n    {\n      \"column\": \"rating\",\n      \"properties\": {\n        \"dtype\": \"number\",\n        \"std\": 1,\n        \"min\": 1,\n        \"max\": 5,\n        \"num_unique_values\": 5,\n        \"samples\": [\n          4\n        ],\n        \"semantic_type\": \"\",\n        \"description\": \"\"\n      }\n    },\n    {\n      \"column\": \"timestamp\",\n      \"properties\": {\n        \"dtype\": \"number\",\n        \"std\": 22233523,\n        \"min\": 956807238,\n        \"max\": 1042173050,\n        \"num_unique_values\": 112,\n        \"samples\": [\n          997908076\n        ],\n        \"semantic_type\": \"\",\n        \"description\": \"\"\n      }\n    }\n  ]\n}"
            }
          },
          "metadata": {},
          "execution_count": 7
        }
      ],
      "source": [
        "test_data[test_data[data_description['items']] == -1]"
      ]
    },
    {
      "cell_type": "code",
      "execution_count": null,
      "metadata": {
        "id": "6I_4IqhpJA3o"
      },
      "outputs": [],
      "source": [
        "# the items that were not in the training set have itemid -1\n",
        "# let's drop the items with itemid -1 and all consequtive interactions\n",
        "test_data = test_data.sort_values(by=[data_description['users'], data_description['timestamp']])\n",
        "mask = test_data.groupby(data_description['users']).cummin()[data_description['items']] == -1\n",
        "test_data_truncated = test_data[~mask]\n",
        "\n",
        "filtered = test_data_truncated[test_data_truncated[data_description['timestamp']] >= test_timepoint]\n",
        "interaction_counts = filtered.groupby(data_description['users']).size()\n",
        "test_users = interaction_counts[interaction_counts >= 2].index.tolist()\n",
        "\n",
        "test_prepared = test_data_truncated[test_data_truncated[data_description['users']].isin(test_users)]"
      ]
    },
    {
      "cell_type": "code",
      "execution_count": null,
      "metadata": {
        "id": "qRwBu421JA3o"
      },
      "outputs": [],
      "source": [
        "# last interaction for test holdout\n",
        "# second-to-last for validation holdout\n",
        "testset_, holdout_ = leave_one_out(\n",
        "    test_prepared, target='timestamp', sample_top=True, random_state=0\n",
        ")\n",
        "testset_valid_, holdout_valid_ = leave_one_out(\n",
        "    testset_, target='timestamp', sample_top=True, random_state=0\n",
        ")\n",
        "\n",
        "# assert the users in testset are the same as in holdout\n",
        "test_users = np.intersect1d(testset_valid_.userid.unique(), holdout_valid_.userid.unique())\n",
        "testset_valid = testset_valid_.query('userid in @test_users').sort_values('userid')\n",
        "holdout_valid = holdout_valid_.query('userid in @test_users').sort_values('userid')\n",
        "\n",
        "# assert the users in testset_valid are the same as in holdout_valid\n",
        "test_users_final = np.intersect1d(testset_valid_.userid.unique(), holdout_valid_.userid.unique())\n",
        "testset = testset_.query('userid in @test_users_final').sort_values('userid')\n",
        "holdout = holdout_.query('userid in @test_users_final').sort_values('userid')"
      ]
    },
    {
      "cell_type": "code",
      "execution_count": null,
      "metadata": {
        "id": "uur3yxl-JA3p"
      },
      "outputs": [],
      "source": [
        "data_description = {\n",
        "    'n_users':training.nunique()['userid'],\n",
        "    'n_items':training.nunique()['movieid'],\n",
        "    'users':'userid',\n",
        "    'items':'movieid',\n",
        "    'feedback':'rating',\n",
        "    'timestamp':'timestamp'\n",
        "}"
      ]
    },
    {
      "cell_type": "markdown",
      "metadata": {
        "id": "xnjsy7xaJA3p"
      },
      "source": [
        "## Association rules\n",
        "\n",
        "$$\n",
        "\\text{score}_{AR}(u, i) = \\text{PairCount}_{AR}(i_{|I_u|}, i)\n",
        "$$\n",
        "\n",
        "$$\n",
        "\\text{PairCount}_{AR}(i, j) = |U_i\\cap U_j|\n",
        "$$\n",
        "\n",
        "$I_u$ - interaction history of user $u$, $U_i$ - set of users who interacted with item $i$, $i_{|I_u|}$ - last item of user $u$"
      ]
    },
    {
      "cell_type": "code",
      "execution_count": null,
      "metadata": {
        "id": "ETf5ZeaMJA3q"
      },
      "outputs": [],
      "source": [
        "class AR:\n",
        "    def __init__(self, model_config=None) -> None:\n",
        "        pass\n",
        "\n",
        "    def build(self, data, data_description):\n",
        "        '''\n",
        "        Builds association rules matrix.\n",
        "        '''\n",
        "        interactions = generate_interactions_matrix(data, data_description)\n",
        "\n",
        "        similarity = interactions.T.dot(interactions)\n",
        "        similarity.setdiag(0)\n",
        "        similarity.eliminate_zeros()\n",
        "        self.rules = similarity\n",
        "\n",
        "    def recommend(self, data, data_description):\n",
        "        '''\n",
        "        Generate scores for given data.\n",
        "        '''\n",
        "        # Drop duplicates, keeping the last interaction for each user\n",
        "\n",
        "        data_sorted = data.sort_values(by=[data_description['users'], data_description['timestamp']])\n",
        "        data_last_interaction = data_sorted.drop_duplicates(subset=data_description['users'], keep='last')\n",
        "\n",
        "        interactions = generate_interactions_matrix(data_last_interaction, data_description, rebase_users=True)\n",
        "\n",
        "        scores = interactions.dot(self.rules).A\n",
        "        return scores"
      ]
    },
    {
      "cell_type": "code",
      "execution_count": null,
      "metadata": {
        "id": "-BofPJ5yJA3q"
      },
      "outputs": [],
      "source": [
        "ar_model = AR()\n",
        "ar_model.build(training, data_description)\n",
        "ar_scores = ar_model.recommend(testset_valid, data_description)"
      ]
    },
    {
      "cell_type": "code",
      "execution_count": null,
      "metadata": {
        "id": "DgweR23rJA3q",
        "outputId": "96a52727-f506-42eb-8606-06b5c233c031",
        "colab": {
          "base_uri": "https://localhost:8080/"
        }
      },
      "outputs": [
        {
          "output_type": "execute_result",
          "data": {
            "text/plain": [
              "array([[112.,  65.,  51., ...,   1.,   1.,  11.],\n",
              "       [461., 222., 117., ...,   3.,   5.,  37.],\n",
              "       [ 38.,  33.,  19., ...,   0.,   0.,   2.],\n",
              "       ...,\n",
              "       [117.,  59.,  52., ...,   0.,   2.,  11.],\n",
              "       [599., 245., 120., ...,   4.,   3.,  48.],\n",
              "       [612., 195., 164., ...,   1.,   3.,  46.]])"
            ]
          },
          "metadata": {},
          "execution_count": 13
        }
      ],
      "source": [
        "ar_scores"
      ]
    },
    {
      "cell_type": "markdown",
      "metadata": {
        "id": "nyjlpUFqJA3q"
      },
      "source": [
        "## Sequential rules\n",
        "\n",
        "$$\n",
        "\\text{score}_{SR}(u, i) = \\sum_{j \\in I_u  \\backslash \\{i\\}} \\textbf{1}[j=i_{|I_u|}]\\text{PairCount}_{SR}(j \\rightarrow i)\n",
        "$$\n",
        "\n",
        "$$\n",
        "\\text{PairCount}_{SR}(j \\rightarrow i) = \\sum_{v\\in U} \\textbf{1}[j\\rightarrow_v i]\n",
        "$$\n",
        "\n",
        "where $j\\rightarrow_u i$ means that item $i$ follows item $j$ in the interaction history of user $u$. $U$ is the set of users"
      ]
    },
    {
      "cell_type": "code",
      "execution_count": null,
      "metadata": {
        "id": "ac0P60KVJA3q"
      },
      "outputs": [],
      "source": [
        "class SR:\n",
        "    def __init__(self, model_config=None) -> None:\n",
        "        pass\n",
        "\n",
        "    def build(self, data, data_description):\n",
        "        'Builds sequential rules of size two'\n",
        "        rules = {}\n",
        "\n",
        "        # get chronological interaction history for each user\n",
        "        histories = (\n",
        "            data\n",
        "            .sort_values(\n",
        "                by=data_description['timestamp']\n",
        "                )\n",
        "            .groupby(data_description['users'])[data_description['items']]\n",
        "            .apply(list)\n",
        "            )\n",
        "\n",
        "        # count the number of pairs when item j is interacted with right after item i\n",
        "        for history in histories:\n",
        "            for i in range(len(history) - 1):\n",
        "                if (history[i], history[i + 1]) not in rules:\n",
        "                    rules[(history[i], history[i + 1])] = 0\n",
        "                rules[(history[i], history[i + 1])] += 1\n",
        "\n",
        "        # create a sparse matrix of sequential rules for easier recommendation\n",
        "        items, values = zip(*rules.items())\n",
        "        i1, i2 = zip(*items)\n",
        "        matrix_shape = (data_description['n_items'], data_description['n_items'])\n",
        "        similarity = coo_matrix((values, (list(i1), list(i2))), shape=matrix_shape).tocsr()\n",
        "\n",
        "        self.rules = similarity\n",
        "\n",
        "    def recommend(self, data, data_description):\n",
        "        '''\n",
        "        Generate scores for given data.\n",
        "        '''\n",
        "        data_sorted = data.sort_values(by=[data_description['users'], data_description['timestamp']])\n",
        "        data_last_interaction = data_sorted.drop_duplicates(subset=data_description['users'], keep='last')\n",
        "\n",
        "        interactions = generate_interactions_matrix(data_last_interaction, data_description, rebase_users=True)\n",
        "\n",
        "        scores = interactions.dot(self.rules).A\n",
        "        return scores"
      ]
    },
    {
      "cell_type": "code",
      "execution_count": null,
      "metadata": {
        "id": "dEoTedfdJA3r"
      },
      "outputs": [],
      "source": [
        "sr_model = SR()\n",
        "sr_model.build(training, data_description)\n",
        "sr_scores = sr_model.recommend(testset_valid, data_description)"
      ]
    },
    {
      "cell_type": "code",
      "execution_count": null,
      "metadata": {
        "id": "6LcyDHQKJA3r",
        "outputId": "d09d7153-58c9-4589-915e-00625bcb9d76",
        "colab": {
          "base_uri": "https://localhost:8080/"
        }
      },
      "outputs": [
        {
          "output_type": "execute_result",
          "data": {
            "text/plain": [
              "array([[ 0.,  0.,  0., ...,  0.,  0.,  0.],\n",
              "       [ 0.,  0.,  0., ...,  0.,  0.,  0.],\n",
              "       [ 0.,  0.,  0., ...,  0.,  0.,  0.],\n",
              "       ...,\n",
              "       [ 0.,  0.,  0., ...,  0.,  0.,  0.],\n",
              "       [ 3.,  0.,  0., ...,  0.,  0.,  0.],\n",
              "       [10.,  1.,  0., ...,  0.,  0.,  0.]])"
            ]
          },
          "metadata": {},
          "execution_count": 16
        }
      ],
      "source": [
        "sr_scores"
      ]
    },
    {
      "cell_type": "code",
      "execution_count": null,
      "metadata": {
        "id": "skyyMNI0JA3r"
      },
      "outputs": [],
      "source": [
        "data_dict = {\n",
        "    'train':training,\n",
        "    'test':testset,\n",
        "    'holdout':holdout\n",
        "}"
      ]
    },
    {
      "cell_type": "code",
      "execution_count": null,
      "metadata": {
        "id": "17-I4FN_JA3s"
      },
      "outputs": [],
      "source": [
        "ar_metrics, ar_model = build_evaluate_model(AR, {}, data_dict, data_description)\n",
        "sr_metrics, sr_model = build_evaluate_model(SR, {}, data_dict, data_description)\n",
        "pop_metrics, pop_model = build_evaluate_model(Popular, {}, data_dict, data_description)\n",
        "rand_metrics, rand_model = build_evaluate_model(Random, {}, data_dict, data_description)"
      ]
    },
    {
      "cell_type": "code",
      "execution_count": null,
      "metadata": {
        "id": "rCW82q52JA3s"
      },
      "outputs": [],
      "source": [
        "simple_models = {\n",
        "    'Rand': rand_metrics,\n",
        "    'Pop': pop_metrics,\n",
        "    'AR': ar_metrics,\n",
        "    'SR': sr_metrics,\n",
        "}"
      ]
    },
    {
      "cell_type": "code",
      "execution_count": null,
      "metadata": {
        "id": "qwHGaJCKJA3s",
        "outputId": "ec0bc640-b081-4243-b7cf-37c05f416dfa",
        "colab": {
          "base_uri": "https://localhost:8080/",
          "height": 173
        }
      },
      "outputs": [
        {
          "output_type": "execute_result",
          "data": {
            "text/plain": [
              "            hr       mrr       cov\n",
              "Rand  0.002717  0.001812  0.855422\n",
              "Pop   0.038043  0.015989  0.046002\n",
              "AR    0.072011  0.031098  0.148959\n",
              "SR    0.103261  0.048830  0.499179"
            ],
            "text/html": [
              "\n",
              "  <div id=\"df-6daa3596-79d7-4f55-8ae6-6110735e4c2b\" class=\"colab-df-container\">\n",
              "    <div>\n",
              "<style scoped>\n",
              "    .dataframe tbody tr th:only-of-type {\n",
              "        vertical-align: middle;\n",
              "    }\n",
              "\n",
              "    .dataframe tbody tr th {\n",
              "        vertical-align: top;\n",
              "    }\n",
              "\n",
              "    .dataframe thead th {\n",
              "        text-align: right;\n",
              "    }\n",
              "</style>\n",
              "<table border=\"1\" class=\"dataframe\">\n",
              "  <thead>\n",
              "    <tr style=\"text-align: right;\">\n",
              "      <th></th>\n",
              "      <th>hr</th>\n",
              "      <th>mrr</th>\n",
              "      <th>cov</th>\n",
              "    </tr>\n",
              "  </thead>\n",
              "  <tbody>\n",
              "    <tr>\n",
              "      <th>Rand</th>\n",
              "      <td>0.002717</td>\n",
              "      <td>0.001812</td>\n",
              "      <td>0.855422</td>\n",
              "    </tr>\n",
              "    <tr>\n",
              "      <th>Pop</th>\n",
              "      <td>0.038043</td>\n",
              "      <td>0.015989</td>\n",
              "      <td>0.046002</td>\n",
              "    </tr>\n",
              "    <tr>\n",
              "      <th>AR</th>\n",
              "      <td>0.072011</td>\n",
              "      <td>0.031098</td>\n",
              "      <td>0.148959</td>\n",
              "    </tr>\n",
              "    <tr>\n",
              "      <th>SR</th>\n",
              "      <td>0.103261</td>\n",
              "      <td>0.048830</td>\n",
              "      <td>0.499179</td>\n",
              "    </tr>\n",
              "  </tbody>\n",
              "</table>\n",
              "</div>\n",
              "    <div class=\"colab-df-buttons\">\n",
              "\n",
              "  <div class=\"colab-df-container\">\n",
              "    <button class=\"colab-df-convert\" onclick=\"convertToInteractive('df-6daa3596-79d7-4f55-8ae6-6110735e4c2b')\"\n",
              "            title=\"Convert this dataframe to an interactive table.\"\n",
              "            style=\"display:none;\">\n",
              "\n",
              "  <svg xmlns=\"http://www.w3.org/2000/svg\" height=\"24px\" viewBox=\"0 -960 960 960\">\n",
              "    <path d=\"M120-120v-720h720v720H120Zm60-500h600v-160H180v160Zm220 220h160v-160H400v160Zm0 220h160v-160H400v160ZM180-400h160v-160H180v160Zm440 0h160v-160H620v160ZM180-180h160v-160H180v160Zm440 0h160v-160H620v160Z\"/>\n",
              "  </svg>\n",
              "    </button>\n",
              "\n",
              "  <style>\n",
              "    .colab-df-container {\n",
              "      display:flex;\n",
              "      gap: 12px;\n",
              "    }\n",
              "\n",
              "    .colab-df-convert {\n",
              "      background-color: #E8F0FE;\n",
              "      border: none;\n",
              "      border-radius: 50%;\n",
              "      cursor: pointer;\n",
              "      display: none;\n",
              "      fill: #1967D2;\n",
              "      height: 32px;\n",
              "      padding: 0 0 0 0;\n",
              "      width: 32px;\n",
              "    }\n",
              "\n",
              "    .colab-df-convert:hover {\n",
              "      background-color: #E2EBFA;\n",
              "      box-shadow: 0px 1px 2px rgba(60, 64, 67, 0.3), 0px 1px 3px 1px rgba(60, 64, 67, 0.15);\n",
              "      fill: #174EA6;\n",
              "    }\n",
              "\n",
              "    .colab-df-buttons div {\n",
              "      margin-bottom: 4px;\n",
              "    }\n",
              "\n",
              "    [theme=dark] .colab-df-convert {\n",
              "      background-color: #3B4455;\n",
              "      fill: #D2E3FC;\n",
              "    }\n",
              "\n",
              "    [theme=dark] .colab-df-convert:hover {\n",
              "      background-color: #434B5C;\n",
              "      box-shadow: 0px 1px 3px 1px rgba(0, 0, 0, 0.15);\n",
              "      filter: drop-shadow(0px 1px 2px rgba(0, 0, 0, 0.3));\n",
              "      fill: #FFFFFF;\n",
              "    }\n",
              "  </style>\n",
              "\n",
              "    <script>\n",
              "      const buttonEl =\n",
              "        document.querySelector('#df-6daa3596-79d7-4f55-8ae6-6110735e4c2b button.colab-df-convert');\n",
              "      buttonEl.style.display =\n",
              "        google.colab.kernel.accessAllowed ? 'block' : 'none';\n",
              "\n",
              "      async function convertToInteractive(key) {\n",
              "        const element = document.querySelector('#df-6daa3596-79d7-4f55-8ae6-6110735e4c2b');\n",
              "        const dataTable =\n",
              "          await google.colab.kernel.invokeFunction('convertToInteractive',\n",
              "                                                    [key], {});\n",
              "        if (!dataTable) return;\n",
              "\n",
              "        const docLinkHtml = 'Like what you see? Visit the ' +\n",
              "          '<a target=\"_blank\" href=https://colab.research.google.com/notebooks/data_table.ipynb>data table notebook</a>'\n",
              "          + ' to learn more about interactive tables.';\n",
              "        element.innerHTML = '';\n",
              "        dataTable['output_type'] = 'display_data';\n",
              "        await google.colab.output.renderOutput(dataTable, element);\n",
              "        const docLink = document.createElement('div');\n",
              "        docLink.innerHTML = docLinkHtml;\n",
              "        element.appendChild(docLink);\n",
              "      }\n",
              "    </script>\n",
              "  </div>\n",
              "\n",
              "\n",
              "<div id=\"df-df06737d-3081-482c-a777-73c0ee05818a\">\n",
              "  <button class=\"colab-df-quickchart\" onclick=\"quickchart('df-df06737d-3081-482c-a777-73c0ee05818a')\"\n",
              "            title=\"Suggest charts\"\n",
              "            style=\"display:none;\">\n",
              "\n",
              "<svg xmlns=\"http://www.w3.org/2000/svg\" height=\"24px\"viewBox=\"0 0 24 24\"\n",
              "     width=\"24px\">\n",
              "    <g>\n",
              "        <path d=\"M19 3H5c-1.1 0-2 .9-2 2v14c0 1.1.9 2 2 2h14c1.1 0 2-.9 2-2V5c0-1.1-.9-2-2-2zM9 17H7v-7h2v7zm4 0h-2V7h2v10zm4 0h-2v-4h2v4z\"/>\n",
              "    </g>\n",
              "</svg>\n",
              "  </button>\n",
              "\n",
              "<style>\n",
              "  .colab-df-quickchart {\n",
              "      --bg-color: #E8F0FE;\n",
              "      --fill-color: #1967D2;\n",
              "      --hover-bg-color: #E2EBFA;\n",
              "      --hover-fill-color: #174EA6;\n",
              "      --disabled-fill-color: #AAA;\n",
              "      --disabled-bg-color: #DDD;\n",
              "  }\n",
              "\n",
              "  [theme=dark] .colab-df-quickchart {\n",
              "      --bg-color: #3B4455;\n",
              "      --fill-color: #D2E3FC;\n",
              "      --hover-bg-color: #434B5C;\n",
              "      --hover-fill-color: #FFFFFF;\n",
              "      --disabled-bg-color: #3B4455;\n",
              "      --disabled-fill-color: #666;\n",
              "  }\n",
              "\n",
              "  .colab-df-quickchart {\n",
              "    background-color: var(--bg-color);\n",
              "    border: none;\n",
              "    border-radius: 50%;\n",
              "    cursor: pointer;\n",
              "    display: none;\n",
              "    fill: var(--fill-color);\n",
              "    height: 32px;\n",
              "    padding: 0;\n",
              "    width: 32px;\n",
              "  }\n",
              "\n",
              "  .colab-df-quickchart:hover {\n",
              "    background-color: var(--hover-bg-color);\n",
              "    box-shadow: 0 1px 2px rgba(60, 64, 67, 0.3), 0 1px 3px 1px rgba(60, 64, 67, 0.15);\n",
              "    fill: var(--button-hover-fill-color);\n",
              "  }\n",
              "\n",
              "  .colab-df-quickchart-complete:disabled,\n",
              "  .colab-df-quickchart-complete:disabled:hover {\n",
              "    background-color: var(--disabled-bg-color);\n",
              "    fill: var(--disabled-fill-color);\n",
              "    box-shadow: none;\n",
              "  }\n",
              "\n",
              "  .colab-df-spinner {\n",
              "    border: 2px solid var(--fill-color);\n",
              "    border-color: transparent;\n",
              "    border-bottom-color: var(--fill-color);\n",
              "    animation:\n",
              "      spin 1s steps(1) infinite;\n",
              "  }\n",
              "\n",
              "  @keyframes spin {\n",
              "    0% {\n",
              "      border-color: transparent;\n",
              "      border-bottom-color: var(--fill-color);\n",
              "      border-left-color: var(--fill-color);\n",
              "    }\n",
              "    20% {\n",
              "      border-color: transparent;\n",
              "      border-left-color: var(--fill-color);\n",
              "      border-top-color: var(--fill-color);\n",
              "    }\n",
              "    30% {\n",
              "      border-color: transparent;\n",
              "      border-left-color: var(--fill-color);\n",
              "      border-top-color: var(--fill-color);\n",
              "      border-right-color: var(--fill-color);\n",
              "    }\n",
              "    40% {\n",
              "      border-color: transparent;\n",
              "      border-right-color: var(--fill-color);\n",
              "      border-top-color: var(--fill-color);\n",
              "    }\n",
              "    60% {\n",
              "      border-color: transparent;\n",
              "      border-right-color: var(--fill-color);\n",
              "    }\n",
              "    80% {\n",
              "      border-color: transparent;\n",
              "      border-right-color: var(--fill-color);\n",
              "      border-bottom-color: var(--fill-color);\n",
              "    }\n",
              "    90% {\n",
              "      border-color: transparent;\n",
              "      border-bottom-color: var(--fill-color);\n",
              "    }\n",
              "  }\n",
              "</style>\n",
              "\n",
              "  <script>\n",
              "    async function quickchart(key) {\n",
              "      const quickchartButtonEl =\n",
              "        document.querySelector('#' + key + ' button');\n",
              "      quickchartButtonEl.disabled = true;  // To prevent multiple clicks.\n",
              "      quickchartButtonEl.classList.add('colab-df-spinner');\n",
              "      try {\n",
              "        const charts = await google.colab.kernel.invokeFunction(\n",
              "            'suggestCharts', [key], {});\n",
              "      } catch (error) {\n",
              "        console.error('Error during call to suggestCharts:', error);\n",
              "      }\n",
              "      quickchartButtonEl.classList.remove('colab-df-spinner');\n",
              "      quickchartButtonEl.classList.add('colab-df-quickchart-complete');\n",
              "    }\n",
              "    (() => {\n",
              "      let quickchartButtonEl =\n",
              "        document.querySelector('#df-df06737d-3081-482c-a777-73c0ee05818a button');\n",
              "      quickchartButtonEl.style.display =\n",
              "        google.colab.kernel.accessAllowed ? 'block' : 'none';\n",
              "    })();\n",
              "  </script>\n",
              "</div>\n",
              "    </div>\n",
              "  </div>\n"
            ],
            "application/vnd.google.colaboratory.intrinsic+json": {
              "type": "dataframe",
              "variable_name": "simple_models_results",
              "summary": "{\n  \"name\": \"simple_models_results\",\n  \"rows\": 4,\n  \"fields\": [\n    {\n      \"column\": \"hr\",\n      \"properties\": {\n        \"dtype\": \"number\",\n        \"std\": 0.043341823402758065,\n        \"min\": 0.002717391304347826,\n        \"max\": 0.10326086956521739,\n        \"num_unique_values\": 4,\n        \"samples\": [\n          0.03804347826086957,\n          0.10326086956521739,\n          0.002717391304347826\n        ],\n        \"semantic_type\": \"\",\n        \"description\": \"\"\n      }\n    },\n    {\n      \"column\": \"mrr\",\n      \"properties\": {\n        \"dtype\": \"number\",\n        \"std\": 0.020188000051848648,\n        \"min\": 0.0018115942028985505,\n        \"max\": 0.04883001207729469,\n        \"num_unique_values\": 4,\n        \"samples\": [\n          0.015988936335403724,\n          0.04883001207729469,\n          0.0018115942028985505\n        ],\n        \"semantic_type\": \"\",\n        \"description\": \"\"\n      }\n    },\n    {\n      \"column\": \"cov\",\n      \"properties\": {\n        \"dtype\": \"number\",\n        \"std\": 0.3673985518839072,\n        \"min\": 0.04600219058050383,\n        \"max\": 0.8554216867469879,\n        \"num_unique_values\": 4,\n        \"samples\": [\n          0.04600219058050383,\n          0.4991785323110624,\n          0.8554216867469879\n        ],\n        \"semantic_type\": \"\",\n        \"description\": \"\"\n      }\n    }\n  ]\n}"
            }
          },
          "metadata": {},
          "execution_count": 20
        }
      ],
      "source": [
        "simple_models_results = pd.DataFrame.from_dict(simple_models).T\n",
        "simple_models_results"
      ]
    },
    {
      "cell_type": "markdown",
      "metadata": {
        "id": "F49iOjRzJA3s"
      },
      "source": [
        "# Jaccard similarity"
      ]
    },
    {
      "cell_type": "markdown",
      "metadata": {
        "id": "vxliSFe1JA3s"
      },
      "source": [
        "Reminder on Jaccard Index:\n",
        "\n",
        "$$\n",
        "\\text{jaccard}(u, v) = \\frac{\\sum_i(\\min(u_i, v_i))}{\\sum_i(\\max(u_i, v_i))}\n",
        "$$\n",
        "\n",
        "where $u=(u_1, ..., u_n)^\\top$ and $v=(v_1, ..., v_n)^\\top$ are vectors."
      ]
    },
    {
      "cell_type": "markdown",
      "metadata": {
        "id": "9v37FaaRJA3s"
      },
      "source": [
        "In the binary case\n",
        "\n",
        "$$\n",
        "\\text{Sim}(i, j) = \\frac{|U_i\\cap U_j|}{|U_i\\cup U_j|}\n",
        "$$\n",
        "\n",
        "$$\n",
        "|U_i\\cup U_j| = |U_i| + |U_j| - |U_i\\cap U_j|\n",
        "$$"
      ]
    },
    {
      "cell_type": "code",
      "execution_count": null,
      "metadata": {
        "id": "vJmKgN3AJA3t"
      },
      "outputs": [],
      "source": [
        "def jaccard_similarity(A, B):\n",
        "    '''\n",
        "    Computes the jaccard similarity index between the rows of two input matrices.\n",
        "    The matrices are binarized.\n",
        "    Jaccard(u, v) = \\frac{\\sum_{i=1}^k \\min(u_k, v_k)}{\\sum_{i=1}^k \\max(u_k, v_k)}\n",
        "\n",
        "    Args:\n",
        "        A (scipy.sparse.csr_matrix): n_users_A x n_items\n",
        "        B (scipy.sparse.csr_matrix): n_users_B x n_items\n",
        "\n",
        "    Returns:\n",
        "        scipy.sparse.csr_matrix: A sparse matrix of shape (n_users_A, n_users_B) containing the similarities between users\n",
        "    '''\n",
        "    assert A.shape[1] == B.shape[1]\n",
        "    A_bin = A.astype('bool').astype('int')\n",
        "    B_bin = B.astype('bool').astype('int')\n",
        "\n",
        "    numerator = A_bin @ B_bin.T\n",
        "    denominator = A_bin.sum(axis=1) + B_bin.sum(axis=1).T - A_bin @ B_bin.T\n",
        "    similarity = csr_matrix(numerator / denominator)\n",
        "    return similarity"
      ]
    },
    {
      "cell_type": "code",
      "source": [
        "a = np.array([1, 2, 3])\n",
        "b = np.array([[1], [2]])"
      ],
      "metadata": {
        "id": "8OG7Ji1ts8Z0"
      },
      "execution_count": null,
      "outputs": []
    },
    {
      "cell_type": "code",
      "source": [
        "print(a)"
      ],
      "metadata": {
        "id": "gPGzB7-ftIJd",
        "outputId": "4d39f32d-7b0a-4e2a-e1d4-93bd4eafbaa3",
        "colab": {
          "base_uri": "https://localhost:8080/"
        }
      },
      "execution_count": null,
      "outputs": [
        {
          "output_type": "stream",
          "name": "stdout",
          "text": [
            "[1 2 3]\n"
          ]
        }
      ]
    },
    {
      "cell_type": "code",
      "source": [
        "print(b)"
      ],
      "metadata": {
        "id": "BFS1ifkLtDfc",
        "outputId": "d8864239-6690-4411-d18f-bfd29ba8902a",
        "colab": {
          "base_uri": "https://localhost:8080/"
        }
      },
      "execution_count": null,
      "outputs": [
        {
          "output_type": "stream",
          "name": "stdout",
          "text": [
            "[[1]\n",
            " [2]]\n"
          ]
        }
      ]
    },
    {
      "cell_type": "code",
      "source": [
        "print(a + b)"
      ],
      "metadata": {
        "id": "69tCZ7xgtKYH",
        "outputId": "0a604b2b-eaf1-45a2-d02a-a4d681b5b992",
        "colab": {
          "base_uri": "https://localhost:8080/"
        }
      },
      "execution_count": null,
      "outputs": [
        {
          "output_type": "stream",
          "name": "stdout",
          "text": [
            "[[2 3 4]\n",
            " [3 4 5]]\n"
          ]
        }
      ]
    },
    {
      "cell_type": "code",
      "execution_count": null,
      "metadata": {
        "id": "_jUrgtaVJA3t"
      },
      "outputs": [],
      "source": [
        "def compute_similarity(type, m1, m2):\n",
        "    if type == 'jaccard':\n",
        "        similarity = jaccard_similarity(m1, m2)\n",
        "    elif type == 'weighted_jaccard':\n",
        "        similarity = weighted_jaccard_similarity(m1, m2)\n",
        "    elif type == 'cosine':\n",
        "        similarity = cosine_similarity(m1, m2, dense_output=False)\n",
        "    else:\n",
        "        raise ValueError(f'Unknown similarity type: {type}')\n",
        "    return similarity"
      ]
    },
    {
      "cell_type": "markdown",
      "metadata": {
        "id": "qt7B-aAaJA3t"
      },
      "source": [
        "# KNN"
      ]
    },
    {
      "cell_type": "markdown",
      "metadata": {
        "id": "Yt3-tCVAJA3t"
      },
      "source": [
        "To encode the information about the sequential nature of the interactions, let's build the user-item interaction matrix where non-zero entries mean that user and item interacted, and the value encodes the inverse position of the item in user's interaction history."
      ]
    },
    {
      "cell_type": "code",
      "execution_count": null,
      "metadata": {
        "id": "jEb7NCagJA3t"
      },
      "outputs": [],
      "source": [
        "def generate_sequential_matrix(data, data_description, rebase_users=False):\n",
        "    '''\n",
        "    Converts a pandas dataframe with user-item interactions into a sparse matrix representation.\n",
        "    Allows reindexing user ids, which help ensure data consistency at the scoring stage\n",
        "    (assumes user ids are sorted in the scoring array).\n",
        "\n",
        "    Args:\n",
        "        data (pandas.DataFrame): The input dataframe containing the user-item interactions.\n",
        "        data_description (dict): A dictionary containing the data description with the following keys:\n",
        "            - 'n_users' (int): The total number of unique users in the data.\n",
        "            - 'n_items' (int): The total number of unique items in the data.\n",
        "            - 'users' (str): The name of the column in the dataframe containing the user ids.\n",
        "            - 'items' (str): The name of the column in the dataframe containing the item ids.\n",
        "            - 'feedback' (str): The name of the column in the dataframe containing the user-item interaction feedback.\n",
        "            - 'timestamp' (str): The name of the column in the dataframe containing the user-item interaction timestamp.\n",
        "        rebase_users (bool, optional): Whether to reindex the user ids to make contiguous index starting from 0. Defaults to False.\n",
        "\n",
        "    Returns:\n",
        "        scipy.sparse.csr_matrix: A sparse matrix of shape (n_users, n_items) containing the user-item interactions with reciprocal weighting.\n",
        "    '''\n",
        "\n",
        "    data_sorted = data.sort_values(by=[data_description['timestamp']], ascending=False)\n",
        "    data_sorted['reciprocal_rank'] = (1.0 / (data_sorted.groupby(data_description['users']).cumcount() + 1))\n",
        "\n",
        "    n_users = data_description['n_users']\n",
        "    n_items = data_description['n_items']\n",
        "    # get indices of observed data\n",
        "    user_idx = data_sorted[data_description['users']].values\n",
        "    if rebase_users: # handle non-contiguous index of test users\n",
        "        # This ensures that all user ids are contiguous and start from 0,\n",
        "        # which helps ensure data consistency at the scoring stage.\n",
        "        user_idx, user_index = pd.factorize(user_idx, sort=True)\n",
        "        n_users = len(user_index)\n",
        "    item_idx = data_sorted[data_description['items']].values\n",
        "    ranks = data_sorted['reciprocal_rank'].values\n",
        "    # construct the matrix\n",
        "    return csr_matrix((ranks, (user_idx, item_idx)), shape=(n_users, n_items), dtype='f8')"
      ]
    },
    {
      "cell_type": "markdown",
      "metadata": {
        "id": "tAMOtu5KJA3u"
      },
      "source": [
        "To adapt the regular KNN for the sequential task, one can encode the positional information of the interactions in user history, and calculate the similarity matrix using the encoded interactions matrix. One of the most simplest ways is to encode reciprocal rank. Also linear weighting can be applied."
      ]
    },
    {
      "cell_type": "markdown",
      "metadata": {
        "id": "OaO9S7xmJA3u"
      },
      "source": [
        "There are 3 types of nearest neighbor models that can be applied to the sequential recommendation task. All of them were applied to session-based recommendation task, that is why they all named SKNN (Session-based KNN), and we follow the same notation;\n",
        "\n",
        "- Session-based KNN (SKNN): we compute similarities using binary interaction matrix, and generate predictions using weighted interactions matrix.\n",
        "- Vector multiplication Session-based KNN (V-SKNN): the idea is to put more emphasis on the more recent events of interaction history when computing similarities.\n",
        "- Sequential Session-based KNN (S-SKNN): the similarity is computed as in V-SKNN, but during the scoring step we give more weight to the interactions later in history. More formally, user-based scoring:\n",
        "$$\n",
        "\\text{score}_{\\text{S-SKNN}}(u, i) = \\sum_{v\\in N_i(u)} \\text{sim}(u, v) w(i) a_{vi}\n",
        "$$\n",
        "where $N_i(u)$ is the neighborhood of user $u$; $w(i)$ is the weighting function, which takes into account the order of interactions; $a_{ui}$ is interaction between user $u$ and item $i$.\n",
        "\n",
        "We follow the same notation as in [Ludewig](https://arxiv.org/pdf/1803.09587). This paper investigate next-session prediction task. Comparison in session-based setup can be found there."
      ]
    },
    {
      "cell_type": "markdown",
      "metadata": {
        "id": "QKb-9BwSJA3u"
      },
      "source": [
        "SKNN:\n",
        "$$\n",
        "R = \\text{Sim}(A_{\\text{bin}}, A_{\\text{bin}}) A\n",
        "$$"
      ]
    },
    {
      "cell_type": "code",
      "execution_count": null,
      "metadata": {
        "id": "sdPPrn8fJA3u"
      },
      "outputs": [],
      "source": [
        "class SKNN:\n",
        "    def __init__(self, model_config=None) -> None:\n",
        "        self.similarity_type = model_config['similarity']\n",
        "        self.n_neighbors = model_config['n_neighbors']\n",
        "\n",
        "    def build(self, data, data_description):\n",
        "        interactions = generate_sequential_matrix(data, data_description=data_description)\n",
        "        self.interactions = interactions\n",
        "\n",
        "    def recommend(self, test_data, data_description):\n",
        "        test_interactions = generate_sequential_matrix(data=test_data,\n",
        "                                                       data_description = data_description,\n",
        "                                                       rebase_users=True)\n",
        "        full_similarity = compute_similarity(self.similarity_type,\n",
        "                                             test_interactions.astype('bool').astype('int'),\n",
        "                                             self.interactions.astype('bool').astype('int'))\n",
        "        similarity = truncate_similarity(similarity=full_similarity, k=self.n_neighbors)\n",
        "        scores = similarity.dot(self.interactions).A\n",
        "        return scores"
      ]
    },
    {
      "cell_type": "code",
      "execution_count": null,
      "metadata": {
        "id": "Ejc-L2HVJA3u"
      },
      "outputs": [],
      "source": [
        "sknn_model = SKNN({'similarity':'jaccard', 'n_neighbors':10})"
      ]
    },
    {
      "cell_type": "code",
      "execution_count": null,
      "metadata": {
        "id": "G9G_XblaJA3u"
      },
      "outputs": [],
      "source": [
        "sknn_model.build(training, data_description)"
      ]
    },
    {
      "cell_type": "code",
      "execution_count": null,
      "metadata": {
        "id": "xNvY7ifuJA3u"
      },
      "outputs": [],
      "source": [
        "scores = sknn_model.recommend(testset_valid, data_description)"
      ]
    },
    {
      "cell_type": "code",
      "execution_count": null,
      "metadata": {
        "id": "YCqJtPYoJA3u",
        "outputId": "6809094c-4d0c-4b04-b3fc-b21bc8c69cc9",
        "colab": {
          "base_uri": "https://localhost:8080/"
        }
      },
      "outputs": [
        {
          "output_type": "execute_result",
          "data": {
            "text/plain": [
              "((736, 3652),\n",
              " array([[0.06073019, 0.01963514, 0.0013736 , ..., 0.        , 0.        ,\n",
              "         0.00214433],\n",
              "        [0.05931294, 0.        , 0.00808898, ..., 0.        , 0.        ,\n",
              "         0.00452284],\n",
              "        [0.01483367, 0.00889535, 0.        , ..., 0.        , 0.        ,\n",
              "         0.        ],\n",
              "        ...,\n",
              "        [0.00145579, 0.        , 0.        , ..., 0.        , 0.        ,\n",
              "         0.25397268],\n",
              "        [0.08280272, 0.00205707, 0.        , ..., 0.        , 0.        ,\n",
              "         0.00136745],\n",
              "        [0.01925817, 0.00087149, 0.        , ..., 0.        , 0.        ,\n",
              "         0.        ]]))"
            ]
          },
          "metadata": {},
          "execution_count": 33
        }
      ],
      "source": [
        "scores.shape, scores"
      ]
    },
    {
      "cell_type": "code",
      "execution_count": null,
      "metadata": {
        "id": "wrLdyOIvJA3u",
        "outputId": "f7743e53-3042-433b-e9c7-82800cf205b3",
        "colab": {
          "base_uri": "https://localhost:8080/"
        }
      },
      "outputs": [
        {
          "output_type": "execute_result",
          "data": {
            "text/plain": [
              "(userid         5227\n",
              " movieid        3652\n",
              " rating            5\n",
              " timestamp    312716\n",
              " dtype: int64,\n",
              " userid          736\n",
              " movieid        3412\n",
              " rating            5\n",
              " timestamp    129330\n",
              " dtype: int64)"
            ]
          },
          "metadata": {},
          "execution_count": 34
        }
      ],
      "source": [
        "training.nunique(), testset_valid.nunique()"
      ]
    },
    {
      "cell_type": "markdown",
      "metadata": {
        "id": "iEL3dBDUJA3v"
      },
      "source": [
        "V-SKNN:\n",
        "$$\n",
        "R = \\text{Sim}(A, A) A_{\\text{bin}}\n",
        "$$"
      ]
    },
    {
      "cell_type": "code",
      "execution_count": null,
      "metadata": {
        "id": "sDkq-aqQJA3v"
      },
      "outputs": [],
      "source": [
        "class V_SKNN:\n",
        "    def __init__(self, model_config=None) -> None:\n",
        "        self.similarity_type = model_config['similarity']\n",
        "        self.n_neighbors = model_config['n_neighbors']\n",
        "\n",
        "    def build(self, data, data_description):\n",
        "        interactions = generate_sequential_matrix(data, data_description)\n",
        "        self.interactions = interactions\n",
        "\n",
        "    def recommend(self, test_data, data_description):\n",
        "        test_interactions = generate_sequential_matrix(test_data, data_description, rebase_users=True)\n",
        "        full_similarity = compute_similarity(self.similarity_type, test_interactions, self.interactions)\n",
        "        similarity = truncate_similarity(similarity=full_similarity, k=self.n_neighbors)\n",
        "        scores = similarity.dot(self.interactions.astype('bool').astype('int')).A\n",
        "        return scores"
      ]
    },
    {
      "cell_type": "markdown",
      "metadata": {
        "id": "TUVzh6U7JA3v"
      },
      "source": [
        "S-SKNN:\n",
        "$$\n",
        "R = \\text{Sim}(A, A) A\n",
        "$$"
      ]
    },
    {
      "cell_type": "code",
      "execution_count": null,
      "metadata": {
        "id": "VhuO3VDKJA3v"
      },
      "outputs": [],
      "source": [
        "class S_SKNN:\n",
        "    def __init__(self, model_config=None) -> None:\n",
        "        self.similarity_type = model_config['similarity']\n",
        "        self.n_neighbors = model_config['n_neighbors']\n",
        "\n",
        "    def build(self, data, data_description):\n",
        "        interactions = generate_sequential_matrix(data, data_description)\n",
        "        self.interactions = interactions\n",
        "\n",
        "    def recommend(self, test_data, data_description):\n",
        "        test_interactions = generate_sequential_matrix(test_data, data_description, rebase_users=True)\n",
        "        full_similarity = compute_similarity(self.similarity_type, test_interactions, self.interactions)\n",
        "        similarity = truncate_similarity(similarity=full_similarity, k=self.n_neighbors)\n",
        "        scores = similarity.dot(self.interactions).A\n",
        "        return scores\n"
      ]
    },
    {
      "cell_type": "markdown",
      "metadata": {
        "id": "66b4QsIxJA3v"
      },
      "source": [
        "The following function enables random search over the model hyperparameter grid."
      ]
    },
    {
      "cell_type": "code",
      "execution_count": null,
      "metadata": {
        "id": "FsFCmbVtJA3v"
      },
      "outputs": [],
      "source": [
        "from polara.evaluation.pipelines import random_grid\n",
        "import random\n",
        "\n",
        "def find_best_model(Model_class, model_configs, data, data_description, target_metric='hr', gridsearch_size=None, seed=2024):\n",
        "    history = {}\n",
        "\n",
        "    if gridsearch_size:\n",
        "        # seed is for reproducibility of config sampling\n",
        "        random.seed(seed)\n",
        "        param_grid, param_names = random_grid(model_configs, n=gridsearch_size)\n",
        "    else:\n",
        "        # perform the full search\n",
        "        whole_grid_size = 1\n",
        "        for lst in model_configs.values():\n",
        "            whole_grid_size *= len(lst)\n",
        "        param_grid, param_names = random_grid(model_configs, n=whole_grid_size)\n",
        "\n",
        "\n",
        "    for config in tqdm(param_grid):\n",
        "        # for each sampled config measure the quality of the model on val set\n",
        "        # and save the results in a dictionary\n",
        "        current_config = dict(zip(param_names, config))\n",
        "        data_dict_val = {\n",
        "            'train':data['train'],\n",
        "            'test':data['val'],\n",
        "            'holdout':data['holdout_val']\n",
        "        }\n",
        "\n",
        "        metrics, _ = build_evaluate_model(Model_class, current_config, data_dict_val, data_description)\n",
        "        history[config] = metrics\n",
        "\n",
        "    best_config = dict(zip(\n",
        "        param_names,\n",
        "        max(history, key=lambda x: history[x][target_metric]),\n",
        "    ))\n",
        "    data_dict_test = {\n",
        "        'train':data['train'],\n",
        "        'test':data['test'],\n",
        "        'holdout':data['holdout']\n",
        "    }\n",
        "    test_metrics, best_model = build_evaluate_model(Model_class, best_config, data_dict_test, data_description)\n",
        "\n",
        "    return test_metrics, best_model, history, param_names"
      ]
    },
    {
      "cell_type": "code",
      "execution_count": null,
      "metadata": {
        "id": "MP8LWD-5JA3v"
      },
      "outputs": [],
      "source": [
        "data_dict = {\n",
        "    'train':training,\n",
        "    'val':testset_valid,\n",
        "    'holdout_val':holdout_valid,\n",
        "    'test':testset,\n",
        "    'holdout':holdout,\n",
        "}"
      ]
    },
    {
      "cell_type": "code",
      "execution_count": null,
      "metadata": {
        "id": "Hb7WEQNLJA3w"
      },
      "outputs": [],
      "source": [
        "knn_configs = {\n",
        "    'similarity':['weighted_jaccard', 'jaccard', 'cosine'],\n",
        "    'n_neighbors':np.arange(50, 401, 100)\n",
        "}"
      ]
    },
    {
      "cell_type": "code",
      "execution_count": null,
      "metadata": {
        "id": "jaCIhx-RJA3w",
        "outputId": "adc1619f-2a23-44d5-acda-fe9fccfc58a3",
        "colab": {
          "base_uri": "https://localhost:8080/",
          "height": 66,
          "referenced_widgets": [
            "a0cb1860def54f71a57cb1bdbdbed8a9",
            "204f5f176b1d4c04aec4b1d4ddd954ef",
            "a72583b4c12545e5a8f3221d9337f324",
            "1d37075320ba49a1b10c1d166d9f3c80",
            "6e977c8c7102441283de55701dfcf82e",
            "c89afcaae01c41fd8faf6a2752837dd5",
            "2f07700cd98141ebb0df51b6b5bedf09",
            "e4b82e202a3740f994568c6876fed5ee",
            "b4d3a399d9fc4cdd9859314b92a1535c",
            "a203c290e9454997924fc2acb008f6a4",
            "fe396482fdb943d9a0adf58ee5136200"
          ]
        }
      },
      "outputs": [
        {
          "output_type": "display_data",
          "data": {
            "text/plain": [
              "  0%|          | 0/12 [00:00<?, ?it/s]"
            ],
            "application/vnd.jupyter.widget-view+json": {
              "version_major": 2,
              "version_minor": 0,
              "model_id": "a0cb1860def54f71a57cb1bdbdbed8a9"
            }
          },
          "metadata": {}
        },
        {
          "output_type": "stream",
          "name": "stdout",
          "text": [
            "('jaccard', 350) {'hr': 0.05298913043478261, 'mrr': 0.02042033298826777, 'cov': 0.11281489594742607}\n"
          ]
        }
      ],
      "source": [
        "metrics_sknn, best_sknn_model, history_sknn, param_names_sknn = find_best_model(SKNN,\n",
        "                                                    knn_configs,\n",
        "                                                    data_dict,\n",
        "                                                    data_description,\n",
        "                                                    target_metric='hr')\n",
        "\n",
        "print(max(history_sknn, key=lambda x: history_sknn[x]['hr']), metrics_sknn)"
      ]
    },
    {
      "cell_type": "code",
      "execution_count": null,
      "metadata": {
        "id": "FCeBX8gsJA3w",
        "outputId": "334db780-14c0-4f13-93a1-5cd2d1011de7",
        "colab": {
          "base_uri": "https://localhost:8080/",
          "height": 66,
          "referenced_widgets": [
            "5afbcbd7915d46a2a9c1001e520f42ba",
            "8b2f4a5b100b41309d327134770d39d7",
            "85cfb71354f0492299a524be0b816658",
            "c8a3b41fb75341faa025406f3a0f4e7f",
            "28ce3bfd82264ff08c68468a185930d7",
            "8420e6339d1e4391a19ac41f882a9c81",
            "063eb890bad548cd8da6089a1a13dd72",
            "e3bfd57e8abb4dff8baf6c112de8fa2b",
            "2659a83239584daf8e124660548a35f5",
            "450309d56c444bbc87703b5fef6b508f",
            "4da45312e404497b9798dd47fecc4fa0"
          ]
        }
      },
      "outputs": [
        {
          "output_type": "display_data",
          "data": {
            "text/plain": [
              "  0%|          | 0/12 [00:00<?, ?it/s]"
            ],
            "application/vnd.jupyter.widget-view+json": {
              "version_major": 2,
              "version_minor": 0,
              "model_id": "5afbcbd7915d46a2a9c1001e520f42ba"
            }
          },
          "metadata": {}
        },
        {
          "output_type": "stream",
          "name": "stdout",
          "text": [
            "('weighted_jaccard', 150) {'hr': 0.050271739130434784, 'mrr': 0.02168952726017943, 'cov': 0.09556407447973712}\n"
          ]
        }
      ],
      "source": [
        "metrics_v_sknn, best_v_sknn_model, history_v_sknn, param_names_v_sknn = find_best_model(V_SKNN,\n",
        "                                                    knn_configs,\n",
        "                                                    data_dict,\n",
        "                                                    data_description,\n",
        "                                                    target_metric='hr')\n",
        "\n",
        "print(max(history_v_sknn, key=lambda x: history_v_sknn[x]['hr']), metrics_v_sknn)"
      ]
    },
    {
      "cell_type": "code",
      "execution_count": null,
      "metadata": {
        "id": "1Z9HoKRVJA3w",
        "outputId": "0b755cc3-0b6c-4d1e-e414-fb5c8cbac1d2",
        "colab": {
          "base_uri": "https://localhost:8080/",
          "height": 66,
          "referenced_widgets": [
            "95e995e99a6e43a680409430efd6c341",
            "bbb451d4308340a5bebeb3ec4acbd68b",
            "4733360e54e2446d9fd88e18641810d7",
            "70cb5d4f813245d6b883bacc392a5cd1",
            "5c07ca9c791b48909ac771a1a3d6ecae",
            "76ded33881cb427bb745b554f6f8c0bb",
            "d2407fdefe2a4a268fec4b4614e7dbd7",
            "173e09c0d2e941b19c3608b3e4a51e39",
            "21923e4f73aa42b582378dccc0357979",
            "b0baebb5fd1f4bf1b4711719098fe9a3",
            "e9e45ac6d45d497f9b1865941663e413"
          ]
        }
      },
      "outputs": [
        {
          "output_type": "display_data",
          "data": {
            "text/plain": [
              "  0%|          | 0/12 [00:00<?, ?it/s]"
            ],
            "application/vnd.jupyter.widget-view+json": {
              "version_major": 2,
              "version_minor": 0,
              "model_id": "95e995e99a6e43a680409430efd6c341"
            }
          },
          "metadata": {}
        },
        {
          "output_type": "stream",
          "name": "stdout",
          "text": [
            "('cosine', 350) {'hr': 0.11684782608695653, 'mrr': 0.05328782781228434, 'cov': 0.2839539978094195}\n"
          ]
        }
      ],
      "source": [
        "metrics_s_sknn, best_s_sknn_model, history_s_sknn, param_names_s_sknn = find_best_model(S_SKNN,\n",
        "                                                    knn_configs,\n",
        "                                                    data_dict,\n",
        "                                                    data_description,\n",
        "                                                    target_metric='hr')\n",
        "\n",
        "print(max(history_s_sknn, key=lambda x: history_s_sknn[x]['hr']), metrics_s_sknn)"
      ]
    },
    {
      "cell_type": "code",
      "execution_count": null,
      "metadata": {
        "id": "VXVH1AOuJA3w"
      },
      "outputs": [],
      "source": [
        "test_metrics = {\n",
        "    'SKNN':metrics_sknn,\n",
        "    'V-SKNN':metrics_v_sknn,\n",
        "    'S-SKNN':metrics_s_sknn\n",
        "}"
      ]
    },
    {
      "cell_type": "code",
      "execution_count": null,
      "metadata": {
        "id": "YIauO35xJA3w",
        "outputId": "07c456ed-a253-4964-aa11-14dc483d69b9",
        "colab": {
          "base_uri": "https://localhost:8080/",
          "height": 266
        }
      },
      "outputs": [
        {
          "output_type": "execute_result",
          "data": {
            "text/plain": [
              "              hr       mrr       cov\n",
              "Rand    0.002717  0.001812  0.855422\n",
              "Pop     0.038043  0.015989  0.046002\n",
              "AR      0.072011  0.031098  0.148959\n",
              "SR      0.103261  0.048830  0.499179\n",
              "SKNN    0.052989  0.020420  0.112815\n",
              "V-SKNN  0.050272  0.021690  0.095564\n",
              "S-SKNN  0.116848  0.053288  0.283954"
            ],
            "text/html": [
              "\n",
              "  <div id=\"df-143f89df-fc66-47ca-bd15-0c9c08593350\" class=\"colab-df-container\">\n",
              "    <div>\n",
              "<style scoped>\n",
              "    .dataframe tbody tr th:only-of-type {\n",
              "        vertical-align: middle;\n",
              "    }\n",
              "\n",
              "    .dataframe tbody tr th {\n",
              "        vertical-align: top;\n",
              "    }\n",
              "\n",
              "    .dataframe thead th {\n",
              "        text-align: right;\n",
              "    }\n",
              "</style>\n",
              "<table border=\"1\" class=\"dataframe\">\n",
              "  <thead>\n",
              "    <tr style=\"text-align: right;\">\n",
              "      <th></th>\n",
              "      <th>hr</th>\n",
              "      <th>mrr</th>\n",
              "      <th>cov</th>\n",
              "    </tr>\n",
              "  </thead>\n",
              "  <tbody>\n",
              "    <tr>\n",
              "      <th>Rand</th>\n",
              "      <td>0.002717</td>\n",
              "      <td>0.001812</td>\n",
              "      <td>0.855422</td>\n",
              "    </tr>\n",
              "    <tr>\n",
              "      <th>Pop</th>\n",
              "      <td>0.038043</td>\n",
              "      <td>0.015989</td>\n",
              "      <td>0.046002</td>\n",
              "    </tr>\n",
              "    <tr>\n",
              "      <th>AR</th>\n",
              "      <td>0.072011</td>\n",
              "      <td>0.031098</td>\n",
              "      <td>0.148959</td>\n",
              "    </tr>\n",
              "    <tr>\n",
              "      <th>SR</th>\n",
              "      <td>0.103261</td>\n",
              "      <td>0.048830</td>\n",
              "      <td>0.499179</td>\n",
              "    </tr>\n",
              "    <tr>\n",
              "      <th>SKNN</th>\n",
              "      <td>0.052989</td>\n",
              "      <td>0.020420</td>\n",
              "      <td>0.112815</td>\n",
              "    </tr>\n",
              "    <tr>\n",
              "      <th>V-SKNN</th>\n",
              "      <td>0.050272</td>\n",
              "      <td>0.021690</td>\n",
              "      <td>0.095564</td>\n",
              "    </tr>\n",
              "    <tr>\n",
              "      <th>S-SKNN</th>\n",
              "      <td>0.116848</td>\n",
              "      <td>0.053288</td>\n",
              "      <td>0.283954</td>\n",
              "    </tr>\n",
              "  </tbody>\n",
              "</table>\n",
              "</div>\n",
              "    <div class=\"colab-df-buttons\">\n",
              "\n",
              "  <div class=\"colab-df-container\">\n",
              "    <button class=\"colab-df-convert\" onclick=\"convertToInteractive('df-143f89df-fc66-47ca-bd15-0c9c08593350')\"\n",
              "            title=\"Convert this dataframe to an interactive table.\"\n",
              "            style=\"display:none;\">\n",
              "\n",
              "  <svg xmlns=\"http://www.w3.org/2000/svg\" height=\"24px\" viewBox=\"0 -960 960 960\">\n",
              "    <path d=\"M120-120v-720h720v720H120Zm60-500h600v-160H180v160Zm220 220h160v-160H400v160Zm0 220h160v-160H400v160ZM180-400h160v-160H180v160Zm440 0h160v-160H620v160ZM180-180h160v-160H180v160Zm440 0h160v-160H620v160Z\"/>\n",
              "  </svg>\n",
              "    </button>\n",
              "\n",
              "  <style>\n",
              "    .colab-df-container {\n",
              "      display:flex;\n",
              "      gap: 12px;\n",
              "    }\n",
              "\n",
              "    .colab-df-convert {\n",
              "      background-color: #E8F0FE;\n",
              "      border: none;\n",
              "      border-radius: 50%;\n",
              "      cursor: pointer;\n",
              "      display: none;\n",
              "      fill: #1967D2;\n",
              "      height: 32px;\n",
              "      padding: 0 0 0 0;\n",
              "      width: 32px;\n",
              "    }\n",
              "\n",
              "    .colab-df-convert:hover {\n",
              "      background-color: #E2EBFA;\n",
              "      box-shadow: 0px 1px 2px rgba(60, 64, 67, 0.3), 0px 1px 3px 1px rgba(60, 64, 67, 0.15);\n",
              "      fill: #174EA6;\n",
              "    }\n",
              "\n",
              "    .colab-df-buttons div {\n",
              "      margin-bottom: 4px;\n",
              "    }\n",
              "\n",
              "    [theme=dark] .colab-df-convert {\n",
              "      background-color: #3B4455;\n",
              "      fill: #D2E3FC;\n",
              "    }\n",
              "\n",
              "    [theme=dark] .colab-df-convert:hover {\n",
              "      background-color: #434B5C;\n",
              "      box-shadow: 0px 1px 3px 1px rgba(0, 0, 0, 0.15);\n",
              "      filter: drop-shadow(0px 1px 2px rgba(0, 0, 0, 0.3));\n",
              "      fill: #FFFFFF;\n",
              "    }\n",
              "  </style>\n",
              "\n",
              "    <script>\n",
              "      const buttonEl =\n",
              "        document.querySelector('#df-143f89df-fc66-47ca-bd15-0c9c08593350 button.colab-df-convert');\n",
              "      buttonEl.style.display =\n",
              "        google.colab.kernel.accessAllowed ? 'block' : 'none';\n",
              "\n",
              "      async function convertToInteractive(key) {\n",
              "        const element = document.querySelector('#df-143f89df-fc66-47ca-bd15-0c9c08593350');\n",
              "        const dataTable =\n",
              "          await google.colab.kernel.invokeFunction('convertToInteractive',\n",
              "                                                    [key], {});\n",
              "        if (!dataTable) return;\n",
              "\n",
              "        const docLinkHtml = 'Like what you see? Visit the ' +\n",
              "          '<a target=\"_blank\" href=https://colab.research.google.com/notebooks/data_table.ipynb>data table notebook</a>'\n",
              "          + ' to learn more about interactive tables.';\n",
              "        element.innerHTML = '';\n",
              "        dataTable['output_type'] = 'display_data';\n",
              "        await google.colab.output.renderOutput(dataTable, element);\n",
              "        const docLink = document.createElement('div');\n",
              "        docLink.innerHTML = docLinkHtml;\n",
              "        element.appendChild(docLink);\n",
              "      }\n",
              "    </script>\n",
              "  </div>\n",
              "\n",
              "\n",
              "<div id=\"df-e0699b0c-5676-4f98-9b4b-22f10ecb3e49\">\n",
              "  <button class=\"colab-df-quickchart\" onclick=\"quickchart('df-e0699b0c-5676-4f98-9b4b-22f10ecb3e49')\"\n",
              "            title=\"Suggest charts\"\n",
              "            style=\"display:none;\">\n",
              "\n",
              "<svg xmlns=\"http://www.w3.org/2000/svg\" height=\"24px\"viewBox=\"0 0 24 24\"\n",
              "     width=\"24px\">\n",
              "    <g>\n",
              "        <path d=\"M19 3H5c-1.1 0-2 .9-2 2v14c0 1.1.9 2 2 2h14c1.1 0 2-.9 2-2V5c0-1.1-.9-2-2-2zM9 17H7v-7h2v7zm4 0h-2V7h2v10zm4 0h-2v-4h2v4z\"/>\n",
              "    </g>\n",
              "</svg>\n",
              "  </button>\n",
              "\n",
              "<style>\n",
              "  .colab-df-quickchart {\n",
              "      --bg-color: #E8F0FE;\n",
              "      --fill-color: #1967D2;\n",
              "      --hover-bg-color: #E2EBFA;\n",
              "      --hover-fill-color: #174EA6;\n",
              "      --disabled-fill-color: #AAA;\n",
              "      --disabled-bg-color: #DDD;\n",
              "  }\n",
              "\n",
              "  [theme=dark] .colab-df-quickchart {\n",
              "      --bg-color: #3B4455;\n",
              "      --fill-color: #D2E3FC;\n",
              "      --hover-bg-color: #434B5C;\n",
              "      --hover-fill-color: #FFFFFF;\n",
              "      --disabled-bg-color: #3B4455;\n",
              "      --disabled-fill-color: #666;\n",
              "  }\n",
              "\n",
              "  .colab-df-quickchart {\n",
              "    background-color: var(--bg-color);\n",
              "    border: none;\n",
              "    border-radius: 50%;\n",
              "    cursor: pointer;\n",
              "    display: none;\n",
              "    fill: var(--fill-color);\n",
              "    height: 32px;\n",
              "    padding: 0;\n",
              "    width: 32px;\n",
              "  }\n",
              "\n",
              "  .colab-df-quickchart:hover {\n",
              "    background-color: var(--hover-bg-color);\n",
              "    box-shadow: 0 1px 2px rgba(60, 64, 67, 0.3), 0 1px 3px 1px rgba(60, 64, 67, 0.15);\n",
              "    fill: var(--button-hover-fill-color);\n",
              "  }\n",
              "\n",
              "  .colab-df-quickchart-complete:disabled,\n",
              "  .colab-df-quickchart-complete:disabled:hover {\n",
              "    background-color: var(--disabled-bg-color);\n",
              "    fill: var(--disabled-fill-color);\n",
              "    box-shadow: none;\n",
              "  }\n",
              "\n",
              "  .colab-df-spinner {\n",
              "    border: 2px solid var(--fill-color);\n",
              "    border-color: transparent;\n",
              "    border-bottom-color: var(--fill-color);\n",
              "    animation:\n",
              "      spin 1s steps(1) infinite;\n",
              "  }\n",
              "\n",
              "  @keyframes spin {\n",
              "    0% {\n",
              "      border-color: transparent;\n",
              "      border-bottom-color: var(--fill-color);\n",
              "      border-left-color: var(--fill-color);\n",
              "    }\n",
              "    20% {\n",
              "      border-color: transparent;\n",
              "      border-left-color: var(--fill-color);\n",
              "      border-top-color: var(--fill-color);\n",
              "    }\n",
              "    30% {\n",
              "      border-color: transparent;\n",
              "      border-left-color: var(--fill-color);\n",
              "      border-top-color: var(--fill-color);\n",
              "      border-right-color: var(--fill-color);\n",
              "    }\n",
              "    40% {\n",
              "      border-color: transparent;\n",
              "      border-right-color: var(--fill-color);\n",
              "      border-top-color: var(--fill-color);\n",
              "    }\n",
              "    60% {\n",
              "      border-color: transparent;\n",
              "      border-right-color: var(--fill-color);\n",
              "    }\n",
              "    80% {\n",
              "      border-color: transparent;\n",
              "      border-right-color: var(--fill-color);\n",
              "      border-bottom-color: var(--fill-color);\n",
              "    }\n",
              "    90% {\n",
              "      border-color: transparent;\n",
              "      border-bottom-color: var(--fill-color);\n",
              "    }\n",
              "  }\n",
              "</style>\n",
              "\n",
              "  <script>\n",
              "    async function quickchart(key) {\n",
              "      const quickchartButtonEl =\n",
              "        document.querySelector('#' + key + ' button');\n",
              "      quickchartButtonEl.disabled = true;  // To prevent multiple clicks.\n",
              "      quickchartButtonEl.classList.add('colab-df-spinner');\n",
              "      try {\n",
              "        const charts = await google.colab.kernel.invokeFunction(\n",
              "            'suggestCharts', [key], {});\n",
              "      } catch (error) {\n",
              "        console.error('Error during call to suggestCharts:', error);\n",
              "      }\n",
              "      quickchartButtonEl.classList.remove('colab-df-spinner');\n",
              "      quickchartButtonEl.classList.add('colab-df-quickchart-complete');\n",
              "    }\n",
              "    (() => {\n",
              "      let quickchartButtonEl =\n",
              "        document.querySelector('#df-e0699b0c-5676-4f98-9b4b-22f10ecb3e49 button');\n",
              "      quickchartButtonEl.style.display =\n",
              "        google.colab.kernel.accessAllowed ? 'block' : 'none';\n",
              "    })();\n",
              "  </script>\n",
              "</div>\n",
              "    </div>\n",
              "  </div>\n"
            ],
            "application/vnd.google.colaboratory.intrinsic+json": {
              "type": "dataframe",
              "summary": "{\n  \"name\": \"pd\",\n  \"rows\": 7,\n  \"fields\": [\n    {\n      \"column\": \"hr\",\n      \"properties\": {\n        \"dtype\": \"number\",\n        \"std\": 0.0389816118356033,\n        \"min\": 0.002717391304347826,\n        \"max\": 0.11684782608695653,\n        \"num_unique_values\": 7,\n        \"samples\": [\n          0.002717391304347826,\n          0.03804347826086957,\n          0.050271739130434784\n        ],\n        \"semantic_type\": \"\",\n        \"description\": \"\"\n      }\n    },\n    {\n      \"column\": \"mrr\",\n      \"properties\": {\n        \"dtype\": \"number\",\n        \"std\": 0.018299147539952196,\n        \"min\": 0.0018115942028985505,\n        \"max\": 0.05328782781228434,\n        \"num_unique_values\": 7,\n        \"samples\": [\n          0.0018115942028985505,\n          0.015988936335403724,\n          0.02168952726017943\n        ],\n        \"semantic_type\": \"\",\n        \"description\": \"\"\n      }\n    },\n    {\n      \"column\": \"cov\",\n      \"properties\": {\n        \"dtype\": \"number\",\n        \"std\": 0.2921474898626946,\n        \"min\": 0.04600219058050383,\n        \"max\": 0.8554216867469879,\n        \"num_unique_values\": 7,\n        \"samples\": [\n          0.8554216867469879,\n          0.04600219058050383,\n          0.09556407447973712\n        ],\n        \"semantic_type\": \"\",\n        \"description\": \"\"\n      }\n    }\n  ]\n}"
            }
          },
          "metadata": {},
          "execution_count": 48
        }
      ],
      "source": [
        "knn_results = pd.DataFrame.from_dict(test_metrics).T\n",
        "\n",
        "pd.concat([simple_models_results, knn_results], axis=0)"
      ]
    },
    {
      "cell_type": "code",
      "execution_count": null,
      "metadata": {
        "id": "DnJJfxjSJA3w",
        "outputId": "16f21c3e-15b9-475d-880e-6b34218f92bd",
        "colab": {
          "base_uri": "https://localhost:8080/",
          "height": 707
        }
      },
      "outputs": [
        {
          "output_type": "display_data",
          "data": {
            "text/plain": [
              "<Figure size 1000x700 with 9 Axes>"
            ],
            "image/png": "[encoded data removed]"
          },
          "metadata": {}
        }
      ],
      "source": [
        "histories = {\n",
        "    'SKNN':history_sknn,\n",
        "    'V-SKNN':history_v_sknn,\n",
        "    'S-SKNN':history_s_sknn\n",
        "}\n",
        "\n",
        "plot_histories(histories)"
      ]
    },
    {
      "cell_type": "markdown",
      "metadata": {
        "id": "Iyu8eGOGJA3w"
      },
      "source": [
        "# Extra. Scalable weighted jaccard index, MinHash."
      ]
    },
    {
      "cell_type": "markdown",
      "metadata": {
        "id": "Bc0aqyi9JA3w"
      },
      "source": [
        "All proofs and detailed derivations can be found in [Ioffe's original paper](http://static.googleusercontent.com/media/research.google.com/en//pubs/archive/36928.pdf) and [Moulton's work](https://arxiv.org/pdf/1809.04052). There exists a python implementation available on [GitHub](https://github.com/ekzhu/datasketch). When feature vectors are very large and the Jaccard index needs to be computed frequently, using MinHash can significantly speed up the computations while maintaining comparable accuracy."
      ]
    },
    {
      "cell_type": "code",
      "execution_count": null,
      "metadata": {
        "id": "R5mYAgfuJA3w"
      },
      "outputs": [],
      "source": [
        "!pip install datasketch"
      ]
    },
    {
      "cell_type": "code",
      "execution_count": null,
      "metadata": {
        "id": "VRNLXJuAJA3x"
      },
      "outputs": [],
      "source": [
        "from datasketch import WeightedMinHashGenerator\n",
        "import numpy as np\n",
        "import time\n",
        "import matplotlib.pyplot as plt\n",
        "from tqdm.notebook import tqdm"
      ]
    },
    {
      "cell_type": "code",
      "execution_count": null,
      "metadata": {
        "id": "_aXueZ7dJA3x"
      },
      "outputs": [],
      "source": [
        "v1 = [0.1, 0.3, 0.4, 0.5, 0.6, 0.7, 0.8, 0.9, 0.0, 0.4]\n",
        "v2 = [0.2, 0.4, 0.3, 0.8, 0.4, 0.7, 0.0, 0.9, 0.1, 0.0]\n",
        "\n",
        "min_sum = np.sum(np.minimum(v1, v2))\n",
        "max_sum = np.sum(np.maximum(v1, v2))\n",
        "true_jaccard = float(min_sum) / float(max_sum)\n",
        "\n",
        "wmg = WeightedMinHashGenerator(len(v1))\n",
        "wm1 = wmg.minhash(v1)\n",
        "wm2 = wmg.minhash(v2)\n",
        "print(\"Estimated Jaccard is\", wm1.jaccard(wm2))\n",
        "print(\"True Jaccard is\", true_jaccard)"
      ]
    },
    {
      "cell_type": "code",
      "execution_count": null,
      "metadata": {
        "id": "7ryVRcJZJA3x"
      },
      "outputs": [],
      "source": [
        "v1 = np.random.rand(1000000)\n",
        "v2 = np.random.rand(1000000)\n",
        "wmg = WeightedMinHashGenerator(len(v1))\n",
        "\n",
        "wm1 = wmg.minhash(v1)\n",
        "wm2 = wmg.minhash(v2)\n"
      ]
    },
    {
      "cell_type": "code",
      "execution_count": null,
      "metadata": {
        "id": "BOtOHoppJA3x"
      },
      "outputs": [],
      "source": [
        "%%timeit -n 10 -r 10\n",
        "\n",
        "min_sum = np.sum(np.minimum(v1, v2))\n",
        "max_sum = np.sum(np.maximum(v1, v2))\n",
        "float(min_sum) / float(max_sum)"
      ]
    },
    {
      "cell_type": "code",
      "execution_count": null,
      "metadata": {
        "id": "wo8ehxPCJA3x"
      },
      "outputs": [],
      "source": [
        "%%timeit -n 10 -r 10\n",
        "wm1.jaccard(wm2)\n"
      ]
    },
    {
      "cell_type": "code",
      "execution_count": null,
      "metadata": {
        "id": "ipzOX0EvJA3x"
      },
      "outputs": [],
      "source": [
        "err = {}\n",
        "n_samples = 100\n",
        "sample_sizes = [10, 50, 100, 200, 500, 1000]\n",
        "for sample_size in sample_sizes:\n",
        "    if sample_size not in err:\n",
        "        err[sample_size] = []\n",
        "    for i in tqdm(range(n_samples)):\n",
        "        v1 = np.random.rand(1000)\n",
        "        v2 = np.random.rand(1000)\n",
        "        wmg = WeightedMinHashGenerator(len(v1), seed=i, sample_size=sample_size)\n",
        "\n",
        "        wm1 = wmg.minhash(v1)\n",
        "        wm2 = wmg.minhash(v2)\n",
        "\n",
        "        min_sum = np.sum(np.minimum(v1, v2))\n",
        "        max_sum = np.sum(np.maximum(v1, v2))\n",
        "        true = float(min_sum) / float(max_sum)\n",
        "        err[sample_size].append((true - wm1.jaccard(wm2)) / true)"
      ]
    },
    {
      "cell_type": "code",
      "execution_count": null,
      "metadata": {
        "id": "QAOEu1jkJA3x"
      },
      "outputs": [],
      "source": [
        "for key in err:\n",
        "    print(f'sample size: {key}, mean relative error: {np.mean(err[key]):.3f}')"
      ]
    },
    {
      "cell_type": "code",
      "execution_count": null,
      "metadata": {
        "id": "sClVJwLsJA3x"
      },
      "outputs": [],
      "source": [
        "plot_err = {}\n",
        "for key in err:\n",
        "    plot_err[key] = np.std(err[key])\n",
        "x, y = zip(*plot_err.items())\n",
        "plt.plot(x, y)\n",
        "plt.xlabel('Sample size')\n",
        "plt.ylabel('Std of relative error')\n",
        "plt.show()"
      ]
    },
    {
      "cell_type": "code",
      "execution_count": null,
      "metadata": {
        "id": "dZmQkMVBJA3x"
      },
      "outputs": [],
      "source": []
    }
  ],
  "metadata": {
    "kernelspec": {
      "display_name": "Python 3",
      "language": "python",
      "name": "python3"
    },
    "language_info": {
      "codemirror_mode": {
        "name": "ipython",
        "version": 3
      },
      "file_extension": ".py",
      "mimetype": "text/x-python",
      "name": "python",
      "nbconvert_exporter": "python",
      "pygments_lexer": "ipython3",
      "version": "3.10.10"
    },
    "orig_nbformat": 4,
    "colab": {
      "provenance": [],
      "include_colab_link": true
    },
    "widgets": {
      "application/vnd.jupyter.widget-state+json": {
        "a0cb1860def54f71a57cb1bdbdbed8a9": {
          "model_module": "@jupyter-widgets/controls",
          "model_name": "HBoxModel",
          "model_module_version": "1.5.0",
          "state": {
            "_dom_classes": [],
            "_model_module": "@jupyter-widgets/controls",
            "_model_module_version": "1.5.0",
            "_model_name": "HBoxModel",
            "_view_count": null,
            "_view_module": "@jupyter-widgets/controls",
            "_view_module_version": "1.5.0",
            "_view_name": "HBoxView",
            "box_style": "",
            "children": [
              "IPY_MODEL_204f5f176b1d4c04aec4b1d4ddd954ef",
              "IPY_MODEL_a72583b4c12545e5a8f3221d9337f324",
              "IPY_MODEL_1d37075320ba49a1b10c1d166d9f3c80"
            ],
            "layout": "IPY_MODEL_6e977c8c7102441283de55701dfcf82e"
          }
        },
        "204f5f176b1d4c04aec4b1d4ddd954ef": {
          "model_module": "@jupyter-widgets/controls",
          "model_name": "HTMLModel",
          "model_module_version": "1.5.0",
          "state": {
            "_dom_classes": [],
            "_model_module": "@jupyter-widgets/controls",
            "_model_module_version": "1.5.0",
            "_model_name": "HTMLModel",
            "_view_count": null,
            "_view_module": "@jupyter-widgets/controls",
            "_view_module_version": "1.5.0",
            "_view_name": "HTMLView",
            "description": "",
            "description_tooltip": null,
            "layout": "IPY_MODEL_c89afcaae01c41fd8faf6a2752837dd5",
            "placeholder": "​",
            "style": "IPY_MODEL_2f07700cd98141ebb0df51b6b5bedf09",
            "value": "100%"
          }
        },
        "a72583b4c12545e5a8f3221d9337f324": {
          "model_module": "@jupyter-widgets/controls",
          "model_name": "FloatProgressModel",
          "model_module_version": "1.5.0",
          "state": {
            "_dom_classes": [],
            "_model_module": "@jupyter-widgets/controls",
            "_model_module_version": "1.5.0",
            "_model_name": "FloatProgressModel",
            "_view_count": null,
            "_view_module": "@jupyter-widgets/controls",
            "_view_module_version": "1.5.0",
            "_view_name": "ProgressView",
            "bar_style": "success",
            "description": "",
            "description_tooltip": null,
            "layout": "IPY_MODEL_e4b82e202a3740f994568c6876fed5ee",
            "max": 12,
            "min": 0,
            "orientation": "horizontal",
            "style": "IPY_MODEL_b4d3a399d9fc4cdd9859314b92a1535c",
            "value": 12
          }
        },
        "1d37075320ba49a1b10c1d166d9f3c80": {
          "model_module": "@jupyter-widgets/controls",
          "model_name": "HTMLModel",
          "model_module_version": "1.5.0",
          "state": {
            "_dom_classes": [],
            "_model_module": "@jupyter-widgets/controls",
            "_model_module_version": "1.5.0",
            "_model_name": "HTMLModel",
            "_view_count": null,
            "_view_module": "@jupyter-widgets/controls",
            "_view_module_version": "1.5.0",
            "_view_name": "HTMLView",
            "description": "",
            "description_tooltip": null,
            "layout": "IPY_MODEL_a203c290e9454997924fc2acb008f6a4",
            "placeholder": "​",
            "style": "IPY_MODEL_fe396482fdb943d9a0adf58ee5136200",
            "value": " 12/12 [02:22&lt;00:00, 12.47s/it]"
          }
        },
        "6e977c8c7102441283de55701dfcf82e": {
          "model_module": "@jupyter-widgets/base",
          "model_name": "LayoutModel",
          "model_module_version": "1.2.0",
          "state": {
            "_model_module": "@jupyter-widgets/base",
            "_model_module_version": "1.2.0",
            "_model_name": "LayoutModel",
            "_view_count": null,
            "_view_module": "@jupyter-widgets/base",
            "_view_module_version": "1.2.0",
            "_view_name": "LayoutView",
            "align_content": null,
            "align_items": null,
            "align_self": null,
            "border": null,
            "bottom": null,
            "display": null,
            "flex": null,
            "flex_flow": null,
            "grid_area": null,
            "grid_auto_columns": null,
            "grid_auto_flow": null,
            "grid_auto_rows": null,
            "grid_column": null,
            "grid_gap": null,
            "grid_row": null,
            "grid_template_areas": null,
            "grid_template_columns": null,
            "grid_template_rows": null,
            "height": null,
            "justify_content": null,
            "justify_items": null,
            "left": null,
            "margin": null,
            "max_height": null,
            "max_width": null,
            "min_height": null,
            "min_width": null,
            "object_fit": null,
            "object_position": null,
            "order": null,
            "overflow": null,
            "overflow_x": null,
            "overflow_y": null,
            "padding": null,
            "right": null,
            "top": null,
            "visibility": null,
            "width": null
          }
        },
        "c89afcaae01c41fd8faf6a2752837dd5": {
          "model_module": "@jupyter-widgets/base",
          "model_name": "LayoutModel",
          "model_module_version": "1.2.0",
          "state": {
            "_model_module": "@jupyter-widgets/base",
            "_model_module_version": "1.2.0",
            "_model_name": "LayoutModel",
            "_view_count": null,
            "_view_module": "@jupyter-widgets/base",
            "_view_module_version": "1.2.0",
            "_view_name": "LayoutView",
            "align_content": null,
            "align_items": null,
            "align_self": null,
            "border": null,
            "bottom": null,
            "display": null,
            "flex": null,
            "flex_flow": null,
            "grid_area": null,
            "grid_auto_columns": null,
            "grid_auto_flow": null,
            "grid_auto_rows": null,
            "grid_column": null,
            "grid_gap": null,
            "grid_row": null,
            "grid_template_areas": null,
            "grid_template_columns": null,
            "grid_template_rows": null,
            "height": null,
            "justify_content": null,
            "justify_items": null,
            "left": null,
            "margin": null,
            "max_height": null,
            "max_width": null,
            "min_height": null,
            "min_width": null,
            "object_fit": null,
            "object_position": null,
            "order": null,
            "overflow": null,
            "overflow_x": null,
            "overflow_y": null,
            "padding": null,
            "right": null,
            "top": null,
            "visibility": null,
            "width": null
          }
        },
        "2f07700cd98141ebb0df51b6b5bedf09": {
          "model_module": "@jupyter-widgets/controls",
          "model_name": "DescriptionStyleModel",
          "model_module_version": "1.5.0",
          "state": {
            "_model_module": "@jupyter-widgets/controls",
            "_model_module_version": "1.5.0",
            "_model_name": "DescriptionStyleModel",
            "_view_count": null,
            "_view_module": "@jupyter-widgets/base",
            "_view_module_version": "1.2.0",
            "_view_name": "StyleView",
            "description_width": ""
          }
        },
        "e4b82e202a3740f994568c6876fed5ee": {
          "model_module": "@jupyter-widgets/base",
          "model_name": "LayoutModel",
          "model_module_version": "1.2.0",
          "state": {
            "_model_module": "@jupyter-widgets/base",
            "_model_module_version": "1.2.0",
            "_model_name": "LayoutModel",
            "_view_count": null,
            "_view_module": "@jupyter-widgets/base",
            "_view_module_version": "1.2.0",
            "_view_name": "LayoutView",
            "align_content": null,
            "align_items": null,
            "align_self": null,
            "border": null,
            "bottom": null,
            "display": null,
            "flex": null,
            "flex_flow": null,
            "grid_area": null,
            "grid_auto_columns": null,
            "grid_auto_flow": null,
            "grid_auto_rows": null,
            "grid_column": null,
            "grid_gap": null,
            "grid_row": null,
            "grid_template_areas": null,
            "grid_template_columns": null,
            "grid_template_rows": null,
            "height": null,
            "justify_content": null,
            "justify_items": null,
            "left": null,
            "margin": null,
            "max_height": null,
            "max_width": null,
            "min_height": null,
            "min_width": null,
            "object_fit": null,
            "object_position": null,
            "order": null,
            "overflow": null,
            "overflow_x": null,
            "overflow_y": null,
            "padding": null,
            "right": null,
            "top": null,
            "visibility": null,
            "width": null
          }
        },
        "b4d3a399d9fc4cdd9859314b92a1535c": {
          "model_module": "@jupyter-widgets/controls",
          "model_name": "ProgressStyleModel",
          "model_module_version": "1.5.0",
          "state": {
            "_model_module": "@jupyter-widgets/controls",
            "_model_module_version": "1.5.0",
            "_model_name": "ProgressStyleModel",
            "_view_count": null,
            "_view_module": "@jupyter-widgets/base",
            "_view_module_version": "1.2.0",
            "_view_name": "StyleView",
            "bar_color": null,
            "description_width": ""
          }
        },
        "a203c290e9454997924fc2acb008f6a4": {
          "model_module": "@jupyter-widgets/base",
          "model_name": "LayoutModel",
          "model_module_version": "1.2.0",
          "state": {
            "_model_module": "@jupyter-widgets/base",
            "_model_module_version": "1.2.0",
            "_model_name": "LayoutModel",
            "_view_count": null,
            "_view_module": "@jupyter-widgets/base",
            "_view_module_version": "1.2.0",
            "_view_name": "LayoutView",
            "align_content": null,
            "align_items": null,
            "align_self": null,
            "border": null,
            "bottom": null,
            "display": null,
            "flex": null,
            "flex_flow": null,
            "grid_area": null,
            "grid_auto_columns": null,
            "grid_auto_flow": null,
            "grid_auto_rows": null,
            "grid_column": null,
            "grid_gap": null,
            "grid_row": null,
            "grid_template_areas": null,
            "grid_template_columns": null,
            "grid_template_rows": null,
            "height": null,
            "justify_content": null,
            "justify_items": null,
            "left": null,
            "margin": null,
            "max_height": null,
            "max_width": null,
            "min_height": null,
            "min_width": null,
            "object_fit": null,
            "object_position": null,
            "order": null,
            "overflow": null,
            "overflow_x": null,
            "overflow_y": null,
            "padding": null,
            "right": null,
            "top": null,
            "visibility": null,
            "width": null
          }
        },
        "fe396482fdb943d9a0adf58ee5136200": {
          "model_module": "@jupyter-widgets/controls",
          "model_name": "DescriptionStyleModel",
          "model_module_version": "1.5.0",
          "state": {
            "_model_module": "@jupyter-widgets/controls",
            "_model_module_version": "1.5.0",
            "_model_name": "DescriptionStyleModel",
            "_view_count": null,
            "_view_module": "@jupyter-widgets/base",
            "_view_module_version": "1.2.0",
            "_view_name": "StyleView",
            "description_width": ""
          }
        },
        "5afbcbd7915d46a2a9c1001e520f42ba": {
          "model_module": "@jupyter-widgets/controls",
          "model_name": "HBoxModel",
          "model_module_version": "1.5.0",
          "state": {
            "_dom_classes": [],
            "_model_module": "@jupyter-widgets/controls",
            "_model_module_version": "1.5.0",
            "_model_name": "HBoxModel",
            "_view_count": null,
            "_view_module": "@jupyter-widgets/controls",
            "_view_module_version": "1.5.0",
            "_view_name": "HBoxView",
            "box_style": "",
            "children": [
              "IPY_MODEL_8b2f4a5b100b41309d327134770d39d7",
              "IPY_MODEL_85cfb71354f0492299a524be0b816658",
              "IPY_MODEL_c8a3b41fb75341faa025406f3a0f4e7f"
            ],
            "layout": "IPY_MODEL_28ce3bfd82264ff08c68468a185930d7"
          }
        },
        "8b2f4a5b100b41309d327134770d39d7": {
          "model_module": "@jupyter-widgets/controls",
          "model_name": "HTMLModel",
          "model_module_version": "1.5.0",
          "state": {
            "_dom_classes": [],
            "_model_module": "@jupyter-widgets/controls",
            "_model_module_version": "1.5.0",
            "_model_name": "HTMLModel",
            "_view_count": null,
            "_view_module": "@jupyter-widgets/controls",
            "_view_module_version": "1.5.0",
            "_view_name": "HTMLView",
            "description": "",
            "description_tooltip": null,
            "layout": "IPY_MODEL_8420e6339d1e4391a19ac41f882a9c81",
            "placeholder": "​",
            "style": "IPY_MODEL_063eb890bad548cd8da6089a1a13dd72",
            "value": "100%"
          }
        },
        "85cfb71354f0492299a524be0b816658": {
          "model_module": "@jupyter-widgets/controls",
          "model_name": "FloatProgressModel",
          "model_module_version": "1.5.0",
          "state": {
            "_dom_classes": [],
            "_model_module": "@jupyter-widgets/controls",
            "_model_module_version": "1.5.0",
            "_model_name": "FloatProgressModel",
            "_view_count": null,
            "_view_module": "@jupyter-widgets/controls",
            "_view_module_version": "1.5.0",
            "_view_name": "ProgressView",
            "bar_style": "success",
            "description": "",
            "description_tooltip": null,
            "layout": "IPY_MODEL_e3bfd57e8abb4dff8baf6c112de8fa2b",
            "max": 12,
            "min": 0,
            "orientation": "horizontal",
            "style": "IPY_MODEL_2659a83239584daf8e124660548a35f5",
            "value": 12
          }
        },
        "c8a3b41fb75341faa025406f3a0f4e7f": {
          "model_module": "@jupyter-widgets/controls",
          "model_name": "HTMLModel",
          "model_module_version": "1.5.0",
          "state": {
            "_dom_classes": [],
            "_model_module": "@jupyter-widgets/controls",
            "_model_module_version": "1.5.0",
            "_model_name": "HTMLModel",
            "_view_count": null,
            "_view_module": "@jupyter-widgets/controls",
            "_view_module_version": "1.5.0",
            "_view_name": "HTMLView",
            "description": "",
            "description_tooltip": null,
            "layout": "IPY_MODEL_450309d56c444bbc87703b5fef6b508f",
            "placeholder": "​",
            "style": "IPY_MODEL_4da45312e404497b9798dd47fecc4fa0",
            "value": " 12/12 [02:07&lt;00:00, 11.05s/it]"
          }
        },
        "28ce3bfd82264ff08c68468a185930d7": {
          "model_module": "@jupyter-widgets/base",
          "model_name": "LayoutModel",
          "model_module_version": "1.2.0",
          "state": {
            "_model_module": "@jupyter-widgets/base",
            "_model_module_version": "1.2.0",
            "_model_name": "LayoutModel",
            "_view_count": null,
            "_view_module": "@jupyter-widgets/base",
            "_view_module_version": "1.2.0",
            "_view_name": "LayoutView",
            "align_content": null,
            "align_items": null,
            "align_self": null,
            "border": null,
            "bottom": null,
            "display": null,
            "flex": null,
            "flex_flow": null,
            "grid_area": null,
            "grid_auto_columns": null,
            "grid_auto_flow": null,
            "grid_auto_rows": null,
            "grid_column": null,
            "grid_gap": null,
            "grid_row": null,
            "grid_template_areas": null,
            "grid_template_columns": null,
            "grid_template_rows": null,
            "height": null,
            "justify_content": null,
            "justify_items": null,
            "left": null,
            "margin": null,
            "max_height": null,
            "max_width": null,
            "min_height": null,
            "min_width": null,
            "object_fit": null,
            "object_position": null,
            "order": null,
            "overflow": null,
            "overflow_x": null,
            "overflow_y": null,
            "padding": null,
            "right": null,
            "top": null,
            "visibility": null,
            "width": null
          }
        },
        "8420e6339d1e4391a19ac41f882a9c81": {
          "model_module": "@jupyter-widgets/base",
          "model_name": "LayoutModel",
          "model_module_version": "1.2.0",
          "state": {
            "_model_module": "@jupyter-widgets/base",
            "_model_module_version": "1.2.0",
            "_model_name": "LayoutModel",
            "_view_count": null,
            "_view_module": "@jupyter-widgets/base",
            "_view_module_version": "1.2.0",
            "_view_name": "LayoutView",
            "align_content": null,
            "align_items": null,
            "align_self": null,
            "border": null,
            "bottom": null,
            "display": null,
            "flex": null,
            "flex_flow": null,
            "grid_area": null,
            "grid_auto_columns": null,
            "grid_auto_flow": null,
            "grid_auto_rows": null,
            "grid_column": null,
            "grid_gap": null,
            "grid_row": null,
            "grid_template_areas": null,
            "grid_template_columns": null,
            "grid_template_rows": null,
            "height": null,
            "justify_content": null,
            "justify_items": null,
            "left": null,
            "margin": null,
            "max_height": null,
            "max_width": null,
            "min_height": null,
            "min_width": null,
            "object_fit": null,
            "object_position": null,
            "order": null,
            "overflow": null,
            "overflow_x": null,
            "overflow_y": null,
            "padding": null,
            "right": null,
            "top": null,
            "visibility": null,
            "width": null
          }
        },
        "063eb890bad548cd8da6089a1a13dd72": {
          "model_module": "@jupyter-widgets/controls",
          "model_name": "DescriptionStyleModel",
          "model_module_version": "1.5.0",
          "state": {
            "_model_module": "@jupyter-widgets/controls",
            "_model_module_version": "1.5.0",
            "_model_name": "DescriptionStyleModel",
            "_view_count": null,
            "_view_module": "@jupyter-widgets/base",
            "_view_module_version": "1.2.0",
            "_view_name": "StyleView",
            "description_width": ""
          }
        },
        "e3bfd57e8abb4dff8baf6c112de8fa2b": {
          "model_module": "@jupyter-widgets/base",
          "model_name": "LayoutModel",
          "model_module_version": "1.2.0",
          "state": {
            "_model_module": "@jupyter-widgets/base",
            "_model_module_version": "1.2.0",
            "_model_name": "LayoutModel",
            "_view_count": null,
            "_view_module": "@jupyter-widgets/base",
            "_view_module_version": "1.2.0",
            "_view_name": "LayoutView",
            "align_content": null,
            "align_items": null,
            "align_self": null,
            "border": null,
            "bottom": null,
            "display": null,
            "flex": null,
            "flex_flow": null,
            "grid_area": null,
            "grid_auto_columns": null,
            "grid_auto_flow": null,
            "grid_auto_rows": null,
            "grid_column": null,
            "grid_gap": null,
            "grid_row": null,
            "grid_template_areas": null,
            "grid_template_columns": null,
            "grid_template_rows": null,
            "height": null,
            "justify_content": null,
            "justify_items": null,
            "left": null,
            "margin": null,
            "max_height": null,
            "max_width": null,
            "min_height": null,
            "min_width": null,
            "object_fit": null,
            "object_position": null,
            "order": null,
            "overflow": null,
            "overflow_x": null,
            "overflow_y": null,
            "padding": null,
            "right": null,
            "top": null,
            "visibility": null,
            "width": null
          }
        },
        "2659a83239584daf8e124660548a35f5": {
          "model_module": "@jupyter-widgets/controls",
          "model_name": "ProgressStyleModel",
          "model_module_version": "1.5.0",
          "state": {
            "_model_module": "@jupyter-widgets/controls",
            "_model_module_version": "1.5.0",
            "_model_name": "ProgressStyleModel",
            "_view_count": null,
            "_view_module": "@jupyter-widgets/base",
            "_view_module_version": "1.2.0",
            "_view_name": "StyleView",
            "bar_color": null,
            "description_width": ""
          }
        },
        "450309d56c444bbc87703b5fef6b508f": {
          "model_module": "@jupyter-widgets/base",
          "model_name": "LayoutModel",
          "model_module_version": "1.2.0",
          "state": {
            "_model_module": "@jupyter-widgets/base",
            "_model_module_version": "1.2.0",
            "_model_name": "LayoutModel",
            "_view_count": null,
            "_view_module": "@jupyter-widgets/base",
            "_view_module_version": "1.2.0",
            "_view_name": "LayoutView",
            "align_content": null,
            "align_items": null,
            "align_self": null,
            "border": null,
            "bottom": null,
            "display": null,
            "flex": null,
            "flex_flow": null,
            "grid_area": null,
            "grid_auto_columns": null,
            "grid_auto_flow": null,
            "grid_auto_rows": null,
            "grid_column": null,
            "grid_gap": null,
            "grid_row": null,
            "grid_template_areas": null,
            "grid_template_columns": null,
            "grid_template_rows": null,
            "height": null,
            "justify_content": null,
            "justify_items": null,
            "left": null,
            "margin": null,
            "max_height": null,
            "max_width": null,
            "min_height": null,
            "min_width": null,
            "object_fit": null,
            "object_position": null,
            "order": null,
            "overflow": null,
            "overflow_x": null,
            "overflow_y": null,
            "padding": null,
            "right": null,
            "top": null,
            "visibility": null,
            "width": null
          }
        },
        "4da45312e404497b9798dd47fecc4fa0": {
          "model_module": "@jupyter-widgets/controls",
          "model_name": "DescriptionStyleModel",
          "model_module_version": "1.5.0",
          "state": {
            "_model_module": "@jupyter-widgets/controls",
            "_model_module_version": "1.5.0",
            "_model_name": "DescriptionStyleModel",
            "_view_count": null,
            "_view_module": "@jupyter-widgets/base",
            "_view_module_version": "1.2.0",
            "_view_name": "StyleView",
            "description_width": ""
          }
        },
        "95e995e99a6e43a680409430efd6c341": {
          "model_module": "@jupyter-widgets/controls",
          "model_name": "HBoxModel",
          "model_module_version": "1.5.0",
          "state": {
            "_dom_classes": [],
            "_model_module": "@jupyter-widgets/controls",
            "_model_module_version": "1.5.0",
            "_model_name": "HBoxModel",
            "_view_count": null,
            "_view_module": "@jupyter-widgets/controls",
            "_view_module_version": "1.5.0",
            "_view_name": "HBoxView",
            "box_style": "",
            "children": [
              "IPY_MODEL_bbb451d4308340a5bebeb3ec4acbd68b",
              "IPY_MODEL_4733360e54e2446d9fd88e18641810d7",
              "IPY_MODEL_70cb5d4f813245d6b883bacc392a5cd1"
            ],
            "layout": "IPY_MODEL_5c07ca9c791b48909ac771a1a3d6ecae"
          }
        },
        "bbb451d4308340a5bebeb3ec4acbd68b": {
          "model_module": "@jupyter-widgets/controls",
          "model_name": "HTMLModel",
          "model_module_version": "1.5.0",
          "state": {
            "_dom_classes": [],
            "_model_module": "@jupyter-widgets/controls",
            "_model_module_version": "1.5.0",
            "_model_name": "HTMLModel",
            "_view_count": null,
            "_view_module": "@jupyter-widgets/controls",
            "_view_module_version": "1.5.0",
            "_view_name": "HTMLView",
            "description": "",
            "description_tooltip": null,
            "layout": "IPY_MODEL_76ded33881cb427bb745b554f6f8c0bb",
            "placeholder": "​",
            "style": "IPY_MODEL_d2407fdefe2a4a268fec4b4614e7dbd7",
            "value": "100%"
          }
        },
        "4733360e54e2446d9fd88e18641810d7": {
          "model_module": "@jupyter-widgets/controls",
          "model_name": "FloatProgressModel",
          "model_module_version": "1.5.0",
          "state": {
            "_dom_classes": [],
            "_model_module": "@jupyter-widgets/controls",
            "_model_module_version": "1.5.0",
            "_model_name": "FloatProgressModel",
            "_view_count": null,
            "_view_module": "@jupyter-widgets/controls",
            "_view_module_version": "1.5.0",
            "_view_name": "ProgressView",
            "bar_style": "success",
            "description": "",
            "description_tooltip": null,
            "layout": "IPY_MODEL_173e09c0d2e941b19c3608b3e4a51e39",
            "max": 12,
            "min": 0,
            "orientation": "horizontal",
            "style": "IPY_MODEL_21923e4f73aa42b582378dccc0357979",
            "value": 12
          }
        },
        "70cb5d4f813245d6b883bacc392a5cd1": {
          "model_module": "@jupyter-widgets/controls",
          "model_name": "HTMLModel",
          "model_module_version": "1.5.0",
          "state": {
            "_dom_classes": [],
            "_model_module": "@jupyter-widgets/controls",
            "_model_module_version": "1.5.0",
            "_model_name": "HTMLModel",
            "_view_count": null,
            "_view_module": "@jupyter-widgets/controls",
            "_view_module_version": "1.5.0",
            "_view_name": "HTMLView",
            "description": "",
            "description_tooltip": null,
            "layout": "IPY_MODEL_b0baebb5fd1f4bf1b4711719098fe9a3",
            "placeholder": "​",
            "style": "IPY_MODEL_e9e45ac6d45d497f9b1865941663e413",
            "value": " 12/12 [02:07&lt;00:00, 11.47s/it]"
          }
        },
        "5c07ca9c791b48909ac771a1a3d6ecae": {
          "model_module": "@jupyter-widgets/base",
          "model_name": "LayoutModel",
          "model_module_version": "1.2.0",
          "state": {
            "_model_module": "@jupyter-widgets/base",
            "_model_module_version": "1.2.0",
            "_model_name": "LayoutModel",
            "_view_count": null,
            "_view_module": "@jupyter-widgets/base",
            "_view_module_version": "1.2.0",
            "_view_name": "LayoutView",
            "align_content": null,
            "align_items": null,
            "align_self": null,
            "border": null,
            "bottom": null,
            "display": null,
            "flex": null,
            "flex_flow": null,
            "grid_area": null,
            "grid_auto_columns": null,
            "grid_auto_flow": null,
            "grid_auto_rows": null,
            "grid_column": null,
            "grid_gap": null,
            "grid_row": null,
            "grid_template_areas": null,
            "grid_template_columns": null,
            "grid_template_rows": null,
            "height": null,
            "justify_content": null,
            "justify_items": null,
            "left": null,
            "margin": null,
            "max_height": null,
            "max_width": null,
            "min_height": null,
            "min_width": null,
            "object_fit": null,
            "object_position": null,
            "order": null,
            "overflow": null,
            "overflow_x": null,
            "overflow_y": null,
            "padding": null,
            "right": null,
            "top": null,
            "visibility": null,
            "width": null
          }
        },
        "76ded33881cb427bb745b554f6f8c0bb": {
          "model_module": "@jupyter-widgets/base",
          "model_name": "LayoutModel",
          "model_module_version": "1.2.0",
          "state": {
            "_model_module": "@jupyter-widgets/base",
            "_model_module_version": "1.2.0",
            "_model_name": "LayoutModel",
            "_view_count": null,
            "_view_module": "@jupyter-widgets/base",
            "_view_module_version": "1.2.0",
            "_view_name": "LayoutView",
            "align_content": null,
            "align_items": null,
            "align_self": null,
            "border": null,
            "bottom": null,
            "display": null,
            "flex": null,
            "flex_flow": null,
            "grid_area": null,
            "grid_auto_columns": null,
            "grid_auto_flow": null,
            "grid_auto_rows": null,
            "grid_column": null,
            "grid_gap": null,
            "grid_row": null,
            "grid_template_areas": null,
            "grid_template_columns": null,
            "grid_template_rows": null,
            "height": null,
            "justify_content": null,
            "justify_items": null,
            "left": null,
            "margin": null,
            "max_height": null,
            "max_width": null,
            "min_height": null,
            "min_width": null,
            "object_fit": null,
            "object_position": null,
            "order": null,
            "overflow": null,
            "overflow_x": null,
            "overflow_y": null,
            "padding": null,
            "right": null,
            "top": null,
            "visibility": null,
            "width": null
          }
        },
        "d2407fdefe2a4a268fec4b4614e7dbd7": {
          "model_module": "@jupyter-widgets/controls",
          "model_name": "DescriptionStyleModel",
          "model_module_version": "1.5.0",
          "state": {
            "_model_module": "@jupyter-widgets/controls",
            "_model_module_version": "1.5.0",
            "_model_name": "DescriptionStyleModel",
            "_view_count": null,
            "_view_module": "@jupyter-widgets/base",
            "_view_module_version": "1.2.0",
            "_view_name": "StyleView",
            "description_width": ""
          }
        },
        "173e09c0d2e941b19c3608b3e4a51e39": {
          "model_module": "@jupyter-widgets/base",
          "model_name": "LayoutModel",
          "model_module_version": "1.2.0",
          "state": {
            "_model_module": "@jupyter-widgets/base",
            "_model_module_version": "1.2.0",
            "_model_name": "LayoutModel",
            "_view_count": null,
            "_view_module": "@jupyter-widgets/base",
            "_view_module_version": "1.2.0",
            "_view_name": "LayoutView",
            "align_content": null,
            "align_items": null,
            "align_self": null,
            "border": null,
            "bottom": null,
            "display": null,
            "flex": null,
            "flex_flow": null,
            "grid_area": null,
            "grid_auto_columns": null,
            "grid_auto_flow": null,
            "grid_auto_rows": null,
            "grid_column": null,
            "grid_gap": null,
            "grid_row": null,
            "grid_template_areas": null,
            "grid_template_columns": null,
            "grid_template_rows": null,
            "height": null,
            "justify_content": null,
            "justify_items": null,
            "left": null,
            "margin": null,
            "max_height": null,
            "max_width": null,
            "min_height": null,
            "min_width": null,
            "object_fit": null,
            "object_position": null,
            "order": null,
            "overflow": null,
            "overflow_x": null,
            "overflow_y": null,
            "padding": null,
            "right": null,
            "top": null,
            "visibility": null,
            "width": null
          }
        },
        "21923e4f73aa42b582378dccc0357979": {
          "model_module": "@jupyter-widgets/controls",
          "model_name": "ProgressStyleModel",
          "model_module_version": "1.5.0",
          "state": {
            "_model_module": "@jupyter-widgets/controls",
            "_model_module_version": "1.5.0",
            "_model_name": "ProgressStyleModel",
            "_view_count": null,
            "_view_module": "@jupyter-widgets/base",
            "_view_module_version": "1.2.0",
            "_view_name": "StyleView",
            "bar_color": null,
            "description_width": ""
          }
        },
        "b0baebb5fd1f4bf1b4711719098fe9a3": {
          "model_module": "@jupyter-widgets/base",
          "model_name": "LayoutModel",
          "model_module_version": "1.2.0",
          "state": {
            "_model_module": "@jupyter-widgets/base",
            "_model_module_version": "1.2.0",
            "_model_name": "LayoutModel",
            "_view_count": null,
            "_view_module": "@jupyter-widgets/base",
            "_view_module_version": "1.2.0",
            "_view_name": "LayoutView",
            "align_content": null,
            "align_items": null,
            "align_self": null,
            "border": null,
            "bottom": null,
            "display": null,
            "flex": null,
            "flex_flow": null,
            "grid_area": null,
            "grid_auto_columns": null,
            "grid_auto_flow": null,
            "grid_auto_rows": null,
            "grid_column": null,
            "grid_gap": null,
            "grid_row": null,
            "grid_template_areas": null,
            "grid_template_columns": null,
            "grid_template_rows": null,
            "height": null,
            "justify_content": null,
            "justify_items": null,
            "left": null,
            "margin": null,
            "max_height": null,
            "max_width": null,
            "min_height": null,
            "min_width": null,
            "object_fit": null,
            "object_position": null,
            "order": null,
            "overflow": null,
            "overflow_x": null,
            "overflow_y": null,
            "padding": null,
            "right": null,
            "top": null,
            "visibility": null,
            "width": null
          }
        },
        "e9e45ac6d45d497f9b1865941663e413": {
          "model_module": "@jupyter-widgets/controls",
          "model_name": "DescriptionStyleModel",
          "model_module_version": "1.5.0",
          "state": {
            "_model_module": "@jupyter-widgets/controls",
            "_model_module_version": "1.5.0",
            "_model_name": "DescriptionStyleModel",
            "_view_count": null,
            "_view_module": "@jupyter-widgets/base",
            "_view_module_version": "1.2.0",
            "_view_name": "StyleView",
            "description_width": ""
          }
        }
      }
    }
  },
  "nbformat": 4,
  "nbformat_minor": 0
}