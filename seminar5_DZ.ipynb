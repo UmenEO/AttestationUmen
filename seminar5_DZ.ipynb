{
  "cells": [
    {
      "cell_type": "markdown",
      "metadata": {
        "id": "view-in-github",
        "colab_type": "text"
      },
      "source": [
        "<a href=\"https://colab.research.google.com/github/UmenEO/AttestationUmen/blob/main/seminar5_DZ.ipynb\" target=\"_parent\"><img src=\"https://colab.research.google.com/assets/colab-badge.svg\" alt=\"Open In Colab\"/></a>"
      ]
    },
    {
      "cell_type": "markdown",
      "metadata": {
        "id": "qqYGgEBoKF9F"
      },
      "source": [
        "# Setting up Colab environment"
      ]
    },
    {
      "cell_type": "code",
      "execution_count": null,
      "metadata": {
        "colab": {
          "base_uri": "https://localhost:8080/"
        },
        "id": "Jh6zoBplKF9G",
        "outputId": "adfeb519-b481-45be-f82b-230bf1f5f00f"
      },
      "outputs": [
        {
          "output_type": "stream",
          "name": "stdout",
          "text": [
            "Cloning into 'ITP-SeqRecSys-2024'...\n",
            "remote: Enumerating objects: 84, done.\u001b[K\n",
            "remote: Counting objects: 100% (84/84), done.\u001b[K\n",
            "remote: Compressing objects: 100% (60/60), done.\u001b[K\n",
            "remote: Total 84 (delta 30), reused 67 (delta 17), pack-reused 0 (from 0)\u001b[K\n",
            "Receiving objects: 100% (84/84), 580.45 KiB | 8.66 MiB/s, done.\n",
            "Resolving deltas: 100% (30/30), done.\n"
          ]
        }
      ],
      "source": [
        "import os\n",
        "username = 'recspert'\n",
        "repo = 'ITP-SeqRecSys-2024'\n",
        "\n",
        "# remove local directory if it already exists\n",
        "if os.path.isdir(repo):\n",
        "    !rm -rf {repo}\n",
        "\n",
        "!git clone https://github.com/{username}/{repo}.git"
      ]
    },
    {
      "cell_type": "code",
      "execution_count": null,
      "metadata": {
        "colab": {
          "base_uri": "https://localhost:8080/"
        },
        "id": "i4nuoPohKF9H",
        "outputId": "019f33f8-2823-400c-b75a-a3c25ef05a23"
      },
      "outputs": [
        {
          "output_type": "stream",
          "name": "stdout",
          "text": [
            "Collecting polara\n",
            "  Cloning https://github.com/evfro/polara.git (to revision develop) to /tmp/pip-install-c7w880_e/polara_c771cced7f0f4bc4bf9d59c4a627312e\n",
            "  Running command git clone --filter=blob:none --quiet https://github.com/evfro/polara.git /tmp/pip-install-c7w880_e/polara_c771cced7f0f4bc4bf9d59c4a627312e\n",
            "  Running command git checkout -b develop --track origin/develop\n",
            "  Switched to a new branch 'develop'\n",
            "  Branch 'develop' set up to track remote branch 'develop' from 'origin'.\n",
            "  Resolved https://github.com/evfro/polara.git to commit ef7a5360e3f9793f4f0fdd4f31e32399d2e52069\n",
            "  Preparing metadata (setup.py) ... \u001b[?25l\u001b[?25hdone\n",
            "Building wheels for collected packages: polara\n",
            "  Building wheel for polara (setup.py) ... \u001b[?25l\u001b[?25hdone\n",
            "  Created wheel for polara: filename=polara-0.7.2.dev0-py3-none-any.whl size=89422 sha256=b1d16d2a6832621977c972a2040f3e328e2d628fb844e5f9229af531ef732268\n",
            "  Stored in directory: /tmp/pip-ephem-wheel-cache-herkoh00/wheels/3f/3a/1f/42058978e585b23c384652846b96b72870f3c8c12976cdac50\n",
            "Successfully built polara\n",
            "Installing collected packages: polara\n",
            "Successfully installed polara-0.7.2.dev0\n"
          ]
        }
      ],
      "source": [
        "!pip install --no-cache-dir --upgrade git+https://github.com/evfro/polara.git@develop#egg=polara"
      ]
    },
    {
      "cell_type": "code",
      "execution_count": null,
      "metadata": {
        "colab": {
          "base_uri": "https://localhost:8080/"
        },
        "id": "WpTWjqwaKF9H",
        "outputId": "50986b63-6d53-4296-edaf-fbfe7a159c1d"
      },
      "outputs": [
        {
          "output_type": "stream",
          "name": "stdout",
          "text": [
            "/content/ITP-SeqRecSys-2024\n",
            "/content\n"
          ]
        }
      ],
      "source": [
        "from math import ceil\n",
        "\n",
        "import pandas as pd\n",
        "import numpy as np\n",
        "from tqdm.auto import tqdm\n",
        "\n",
        "import matplotlib.pyplot as plt\n",
        "\n",
        "import torch\n",
        "import torch.nn as nn\n",
        "import torch.nn.functional as F\n",
        "from torch.utils.data import Dataset, DataLoader\n",
        "\n",
        "from numba.typed import List\n",
        "from numba import njit\n",
        "from random import seed as set_seed\n",
        "\n",
        "from time import time\n",
        "\n",
        "from polara import get_movielens_data\n",
        "from polara.preprocessing.dataframes import reindex, leave_one_out\n",
        "\n",
        "# navigating to cloned repo directory in Colab\n",
        "%cd {repo}\n",
        "from source.dataprep.dataprep import split_data_global_timepoint\n",
        "from source.evaluation.evaluation import topn_recommendations, model_evaluate, downvote_seen_items\n",
        "%cd -"
      ]
    },
    {
      "cell_type": "code",
      "execution_count": null,
      "metadata": {
        "id": "qexICHN-KF9H"
      },
      "outputs": [],
      "source": [
        "def fix_torch_seed(seed):\n",
        "    torch.manual_seed(seed)\n",
        "    torch.cuda.manual_seed_all(seed)"
      ]
    },
    {
      "cell_type": "markdown",
      "metadata": {
        "id": "rMe9caTGKF9H"
      },
      "source": [
        "# Preparing data"
      ]
    },
    {
      "cell_type": "code",
      "execution_count": null,
      "metadata": {
        "id": "oYAdLV76CipP"
      },
      "outputs": [],
      "source": [
        "data = get_movielens_data(include_time=True)\n",
        "data_description = {\n",
        "    'users':'userid',\n",
        "    'items':'movieid',\n",
        "    'feedback':'rating',\n",
        "    'timestamp':'timestamp'\n",
        "}"
      ]
    },
    {
      "cell_type": "code",
      "execution_count": null,
      "metadata": {
        "id": "Wdka5BVAB8XJ"
      },
      "outputs": [],
      "source": [
        "training, testset_valid_, holdout_valid_, testset_, holdout_, data_index, data_description = split_data_global_timepoint(data=data, data_description=data_description)"
      ]
    },
    {
      "cell_type": "markdown",
      "metadata": {
        "id": "PahNxVL8KF9K"
      },
      "source": [
        "Let's focus on validation part. For convenience, let us also reindex the test users."
      ]
    },
    {
      "cell_type": "code",
      "execution_count": null,
      "metadata": {
        "id": "NwQ7VYxVKF9K"
      },
      "outputs": [],
      "source": [
        "userid = data_index['users'].name\n",
        "test_users = pd.Index(\n",
        "    # ensure test users are the same across testing data\n",
        "    np.intersect1d(\n",
        "        testset_valid_[userid].unique(),\n",
        "        holdout_valid_[userid].unique()\n",
        "    )\n",
        ")\n",
        "testset_valid = (\n",
        "    testset_valid_\n",
        "    # reindex warm-start users for convenience\n",
        "    .assign(**{userid: lambda x: test_users.get_indexer(x[userid])})\n",
        "    .query(f'{userid} >= 0')\n",
        "    .sort_values('userid')\n",
        ")\n",
        "holdout_valid = (\n",
        "    holdout_valid_\n",
        "    # reindex warm-start users for convenience\n",
        "    .assign(**{userid: lambda x: test_users.get_indexer(x[userid])})\n",
        "    .query(f'{userid} >= 0')\n",
        "    .sort_values('userid')\n",
        ")"
      ]
    },
    {
      "cell_type": "code",
      "execution_count": null,
      "metadata": {
        "colab": {
          "base_uri": "https://localhost:8080/",
          "height": 209
        },
        "id": "eTKtYWnqJzK2",
        "outputId": "ca51f077-27dd-4bae-bee8-dcb7bfb7f9aa"
      },
      "outputs": [
        {
          "output_type": "execute_result",
          "data": {
            "text/plain": [
              "userid       736\n",
              "movieid      551\n",
              "rating         5\n",
              "timestamp    736\n",
              "dtype: int64"
            ],
            "text/html": [
              "<div>\n",
              "<style scoped>\n",
              "    .dataframe tbody tr th:only-of-type {\n",
              "        vertical-align: middle;\n",
              "    }\n",
              "\n",
              "    .dataframe tbody tr th {\n",
              "        vertical-align: top;\n",
              "    }\n",
              "\n",
              "    .dataframe thead th {\n",
              "        text-align: right;\n",
              "    }\n",
              "</style>\n",
              "<table border=\"1\" class=\"dataframe\">\n",
              "  <thead>\n",
              "    <tr style=\"text-align: right;\">\n",
              "      <th></th>\n",
              "      <th>0</th>\n",
              "    </tr>\n",
              "  </thead>\n",
              "  <tbody>\n",
              "    <tr>\n",
              "      <th>userid</th>\n",
              "      <td>736</td>\n",
              "    </tr>\n",
              "    <tr>\n",
              "      <th>movieid</th>\n",
              "      <td>551</td>\n",
              "    </tr>\n",
              "    <tr>\n",
              "      <th>rating</th>\n",
              "      <td>5</td>\n",
              "    </tr>\n",
              "    <tr>\n",
              "      <th>timestamp</th>\n",
              "      <td>736</td>\n",
              "    </tr>\n",
              "  </tbody>\n",
              "</table>\n",
              "</div><br><label><b>dtype:</b> int64</label>"
            ]
          },
          "metadata": {},
          "execution_count": 8
        }
      ],
      "source": [
        "holdout_valid.nunique()"
      ]
    },
    {
      "cell_type": "code",
      "execution_count": null,
      "metadata": {
        "id": "w7KlCCtikaHZ"
      },
      "outputs": [],
      "source": [
        "testset = (\n",
        "    testset_\n",
        "    # reindex warm-start users for convenience\n",
        "    .assign(**{userid: lambda x: test_users.get_indexer(x[userid])})\n",
        "    .query(f'{userid} >= 0')\n",
        "    .sort_values('userid')\n",
        ")\n",
        "holdout = (\n",
        "    holdout_\n",
        "    # reindex warm-start users for convenience\n",
        "    .assign(**{userid: lambda x: test_users.get_indexer(x[userid])})\n",
        "    .query(f'{userid} >= 0')\n",
        "    .sort_values('userid')\n",
        ")"
      ]
    },
    {
      "cell_type": "code",
      "execution_count": null,
      "metadata": {
        "colab": {
          "base_uri": "https://localhost:8080/",
          "height": 209
        },
        "id": "Z-NR13IdKyNw",
        "outputId": "2a7bff95-4fff-4297-dcf5-147153a6eec7"
      },
      "outputs": [
        {
          "output_type": "execute_result",
          "data": {
            "text/plain": [
              "userid       736\n",
              "movieid      574\n",
              "rating         5\n",
              "timestamp    736\n",
              "dtype: int64"
            ],
            "text/html": [
              "<div>\n",
              "<style scoped>\n",
              "    .dataframe tbody tr th:only-of-type {\n",
              "        vertical-align: middle;\n",
              "    }\n",
              "\n",
              "    .dataframe tbody tr th {\n",
              "        vertical-align: top;\n",
              "    }\n",
              "\n",
              "    .dataframe thead th {\n",
              "        text-align: right;\n",
              "    }\n",
              "</style>\n",
              "<table border=\"1\" class=\"dataframe\">\n",
              "  <thead>\n",
              "    <tr style=\"text-align: right;\">\n",
              "      <th></th>\n",
              "      <th>0</th>\n",
              "    </tr>\n",
              "  </thead>\n",
              "  <tbody>\n",
              "    <tr>\n",
              "      <th>userid</th>\n",
              "      <td>736</td>\n",
              "    </tr>\n",
              "    <tr>\n",
              "      <th>movieid</th>\n",
              "      <td>574</td>\n",
              "    </tr>\n",
              "    <tr>\n",
              "      <th>rating</th>\n",
              "      <td>5</td>\n",
              "    </tr>\n",
              "    <tr>\n",
              "      <th>timestamp</th>\n",
              "      <td>736</td>\n",
              "    </tr>\n",
              "  </tbody>\n",
              "</table>\n",
              "</div><br><label><b>dtype:</b> int64</label>"
            ]
          },
          "metadata": {},
          "execution_count": 10
        }
      ],
      "source": [
        "holdout.nunique()"
      ]
    },
    {
      "cell_type": "code",
      "execution_count": null,
      "metadata": {
        "id": "v3NerS7eKF9K"
      },
      "outputs": [],
      "source": [
        "assert holdout_valid.set_index('userid')['timestamp'].ge(\n",
        "    testset_valid\n",
        "    .groupby('userid')\n",
        "    ['timestamp'].max()\n",
        ").all()"
      ]
    },
    {
      "cell_type": "code",
      "execution_count": null,
      "metadata": {
        "colab": {
          "base_uri": "https://localhost:8080/"
        },
        "id": "ZFt44BcdKF9L",
        "outputId": "4f6b356a-32c2-4870-a775-d2477d17b4ad"
      },
      "outputs": [
        {
          "output_type": "execute_result",
          "data": {
            "text/plain": [
              "{'users': 'userid',\n",
              " 'items': 'movieid',\n",
              " 'order': 'timestamp',\n",
              " 'n_users': 5227,\n",
              " 'n_items': 3652}"
            ]
          },
          "metadata": {},
          "execution_count": 12
        }
      ],
      "source": [
        "data_description = dict(\n",
        "    users = data_index['users'].name,\n",
        "    items = data_index['items'].name,\n",
        "    order = 'timestamp',\n",
        "    n_users = len(data_index['users']),\n",
        "    n_items = len(data_index['items']),\n",
        ")\n",
        "data_description"
      ]
    },
    {
      "cell_type": "markdown",
      "metadata": {
        "id": "Xu-2akKsKF9L"
      },
      "source": [
        "# Batch Sampler"
      ]
    },
    {
      "cell_type": "code",
      "execution_count": null,
      "metadata": {
        "id": "4Warcm9oj7W8"
      },
      "outputs": [],
      "source": [
        "from random import randrange\n",
        "import numpy as np\n",
        "\n",
        "@njit(fastmath=True)\n",
        "def sample_unseen(sample_size, sampler_state, remaining, result):\n",
        "    \"\"\"\n",
        "    Sample a desired number of integers from a range (starting from zero)\n",
        "    excluding black-listed elements defined in sample state. Used with in\n",
        "    conjunction with `prime_sample_state` method, which initializes state.\n",
        "    Inspired by Fischer-Yates shuffle.\n",
        "    \"\"\"\n",
        "    # gradually sample from the decreased size range\n",
        "    for k in range(sample_size):\n",
        "        i = randrange(remaining) # Randomly select an index in the range of remaining items\n",
        "        result[k] = sampler_state.get(i, i) # Fetch item or assign i if not found in state\n",
        "        remaining -= 1 # Decrease the remaining number of items\n",
        "        sampler_state[i] = sampler_state.get(remaining, remaining)\n",
        "        sampler_state.pop(remaining, -1) # Remove the last item from the sampler state\n",
        "\n",
        "@njit(fastmath=True)\n",
        "def prime_sampler_state(n, exclude):\n",
        "    \"\"\"\n",
        "    Initialize state to be used in `sample_unseen_items`.\n",
        "    Ensures seen items are never sampled by placing them\n",
        "    outside of sampling region.\n",
        "    \"\"\"\n",
        "    # initialize typed numba dicts\n",
        "    state = {n: n}; state.pop(n)\n",
        "    track = {n: n}; track.pop(n)\n",
        "\n",
        "    n_pos = n - len(state) - 1\n",
        "    # reindex excluded items, placing them in the end\n",
        "    for i, item in enumerate(exclude):\n",
        "        pos = n_pos - i\n",
        "        x = track.get(item, item)\n",
        "        t = state.get(pos, pos)\n",
        "        state[x] = t\n",
        "        track[t] = x\n",
        "        state.pop(pos, n)\n",
        "        track.pop(item, n)\n",
        "    return state"
      ]
    },
    {
      "cell_type": "code",
      "execution_count": null,
      "metadata": {
        "id": "ddHRkgtxisTm"
      },
      "outputs": [],
      "source": [
        "@njit\n",
        "def sample_without_rep(user_items, maxlen, pad_token, n_neg_samples, itemnum, seed):\n",
        "    # generate n_neg_samples in case of BCE loss\n",
        "\n",
        "    seq = np.full(maxlen, pad_token, dtype=np.int32)\n",
        "    pos = np.full(maxlen, pad_token, dtype=np.int32)\n",
        "    neg = np.full((maxlen, n_neg_samples), pad_token, dtype=np.int32)\n",
        "\n",
        "    hist_items_counter = 1\n",
        "    nxt = user_items[-1]\n",
        "    idx = maxlen - 1\n",
        "\n",
        "    set_seed(seed)\n",
        "\n",
        "    ts_ = list(set(user_items))\n",
        "\n",
        "    for i in user_items[-2::-1]:\n",
        "        seq[idx] = i\n",
        "        pos[idx] = nxt\n",
        "\n",
        "        state = prime_sampler_state(itemnum, ts_)\n",
        "        remaining = itemnum - len(ts_)\n",
        "\n",
        "        sample_unseen(n_neg_samples, state, remaining, neg[idx])\n",
        "\n",
        "        nxt = i\n",
        "        idx -= 1\n",
        "        hist_items_counter += 1\n",
        "        if idx == -1:\n",
        "            break\n",
        "\n",
        "    neg = np.swapaxes(neg, 0, 1)\n",
        "    return seq, pos, neg\n",
        "\n",
        "def no_sample(user_items, maxlen, pad_token):\n",
        "    # return positive, leave negative empty\n",
        "    # used for CE and SCE\n",
        "\n",
        "    seq = np.full(maxlen, pad_token, dtype=np.int32)\n",
        "    pos = np.full(maxlen, pad_token, dtype=np.int32)\n",
        "    neg = np.empty((maxlen, 1))\n",
        "\n",
        "    n_user_items = min(len(user_items) - 1, maxlen)\n",
        "\n",
        "    seq[-n_user_items:] = user_items[-n_user_items-1:-1]\n",
        "    pos[-n_user_items:] = user_items[-n_user_items:]\n",
        "\n",
        "    return seq, pos, neg\n",
        "\n",
        "class SequentialDataset(Dataset):\n",
        "    def __init__(self, user_train, usernum, itemnum, maxlen, seed, n_neg_samples=1, sampling='without_rep', pad_token=None):\n",
        "        super().__init__()\n",
        "        self.user_train = user_train\n",
        "\n",
        "        self.valid_users = [user for user in range(usernum) if len(user_train.get(user, [])) > 1]\n",
        "\n",
        "        self.usernum = len(self.valid_users)\n",
        "\n",
        "        self.itemnum = itemnum\n",
        "        self.maxlen = maxlen\n",
        "        self.seed = seed\n",
        "        self.n_neg_samples = n_neg_samples\n",
        "        self.sampling = sampling\n",
        "\n",
        "        self.pad_token = pad_token\n",
        "\n",
        "        self.random_state = np.random.RandomState(self.seed)\n",
        "\n",
        "    def __len__(self):\n",
        "        return self.usernum\n",
        "\n",
        "    def __getitem__(self, idx):\n",
        "        user = self.valid_users[idx]\n",
        "        user_items = List()\n",
        "        [user_items.append(x) for x in self.user_train[user]]\n",
        "\n",
        "        if self.sampling == 'without_rep':\n",
        "            seq, pos, neg = sample_without_rep(user_items, self.maxlen, self.pad_token, self.n_neg_samples, self.itemnum, self.random_state.randint(np.iinfo(int).min, np.iinfo(int).max))\n",
        "\n",
        "        elif self.sampling == 'no_sampling':\n",
        "            seq, pos, neg = no_sample(user_items, self.maxlen, self.pad_token)\n",
        "\n",
        "        return user, seq, pos, neg"
      ]
    },
    {
      "cell_type": "markdown",
      "metadata": {
        "id": "8ZTXNYdmKF9L"
      },
      "source": [
        "# SASRec model"
      ]
    },
    {
      "cell_type": "markdown",
      "metadata": {
        "id": "U0DeZnNBKF9L"
      },
      "source": [
        "The code is adapted from https://github.com/pmixer/SASRec.pytorch"
      ]
    },
    {
      "cell_type": "code",
      "execution_count": null,
      "metadata": {
        "id": "SDi6J5iLBbcx",
        "colab": {
          "base_uri": "https://localhost:8080/",
          "height": 456
        },
        "outputId": "0c471cc8-5ab4-40bf-9e49-e18431aa4eb5"
      },
      "outputs": [
        {
          "output_type": "display_data",
          "data": {
            "text/plain": [
              "<Figure size 640x480 with 2 Axes>"
            ],
            "image/png": "[encoded data removed]"
          },
          "metadata": {}
        }
      ],
      "source": [
        "class PointWiseFeedForward(nn.Module):\n",
        "    def __init__(self, hidden_units, dropout_rate):\n",
        "\n",
        "        super(PointWiseFeedForward, self).__init__()\n",
        "\n",
        "        self.conv1 = nn.Conv1d(hidden_units, hidden_units, kernel_size=1)\n",
        "        self.dropout1 = nn.Dropout(p=dropout_rate)\n",
        "        self.relu = nn.ReLU()\n",
        "        self.conv2 = nn.Conv1d(hidden_units, hidden_units, kernel_size=1)\n",
        "        self.dropout2 = nn.Dropout(p=dropout_rate)\n",
        "\n",
        "    def forward(self, inputs):\n",
        "        outputs = self.dropout2(self.conv2(self.relu(self.dropout1(self.conv1(inputs.transpose(-1, -2))))))\n",
        "        outputs = outputs.transpose(-1, -2) # as Conv1D requires (N, C, Length)\n",
        "        outputs += inputs\n",
        "        return outputs\n",
        "\n",
        "\n",
        "import torch\n",
        "import torch.nn as nn\n",
        "import numpy as np\n",
        "import seaborn as sns\n",
        "import matplotlib.pyplot as plt\n",
        "\n",
        "class SASRecBackBone(nn.Module):\n",
        "    def __init__(self, item_num, config):\n",
        "        super(SASRecBackBone, self).__init__()\n",
        "        self.item_num = item_num\n",
        "        self.pad_token = item_num\n",
        "\n",
        "        self.item_emb = nn.Embedding(self.item_num+1, config['hidden_units'], padding_idx=self.pad_token)\n",
        "        self.pos_emb = nn.Embedding(config['maxlen'], config['hidden_units'])\n",
        "        self.emb_dropout = nn.Dropout(p=config['dropout_rate'])\n",
        "\n",
        "        self.attention_layernorms = nn.ModuleList() # to be Q for self-attention\n",
        "        self.attention_layers = nn.ModuleList()\n",
        "        self.forward_layernorms = nn.ModuleList()\n",
        "        self.forward_layers = nn.ModuleList()\n",
        "        self.last_layernorm = nn.LayerNorm(config['hidden_units'], eps=1e-8)\n",
        "\n",
        "        for _ in range(config['num_blocks']):\n",
        "            new_attn_layernorm = nn.LayerNorm(config['hidden_units'], eps=1e-8)\n",
        "            self.attention_layernorms.append(new_attn_layernorm)\n",
        "            new_attn_layer =  nn.MultiheadAttention(\n",
        "                config['hidden_units'], config['num_heads'], config['dropout_rate']\n",
        "            )\n",
        "            self.attention_layers.append(new_attn_layer)\n",
        "\n",
        "            new_fwd_layernorm = nn.LayerNorm(config['hidden_units'], eps=1e-8)\n",
        "            self.forward_layernorms.append(new_fwd_layernorm)\n",
        "\n",
        "            new_fwd_layer = PointWiseFeedForward(config['hidden_units'], config['dropout_rate'])\n",
        "            self.forward_layers.append(new_fwd_layer)\n",
        "\n",
        "        fix_torch_seed(config['manual_seed'])\n",
        "        self.initialize()\n",
        "\n",
        "    def initialize(self):\n",
        "        for _, param in self.named_parameters():\n",
        "            try:\n",
        "                torch.nn.init.xavier_uniform_(param.data)\n",
        "            except:\n",
        "                pass # just ignore those failed init layers\n",
        "\n",
        "    def log2feats(self, log_seqs):\n",
        "        device = log_seqs.device\n",
        "\n",
        "        seqs = self.item_emb(log_seqs)\n",
        "        seqs *= self.item_emb.embedding_dim ** 0.5\n",
        "        positions = np.tile(np.arange(log_seqs.shape[1]), [log_seqs.shape[0], 1])\n",
        "        seqs += self.pos_emb(torch.LongTensor(positions).to(device))\n",
        "        seqs = self.emb_dropout(seqs)\n",
        "\n",
        "        timeline_mask = log_seqs == self.pad_token\n",
        "        seqs *= ~timeline_mask.unsqueeze(-1) # broadcast in last dim\n",
        "\n",
        "        tl = seqs.shape[1] # time dim len for enforce causality\n",
        "        attention_mask = ~torch.tril(torch.full((tl, tl), True, device=device))\n",
        "\n",
        "        all_attn_weights = []  # Хранилище для весов внимания\n",
        "\n",
        "        for i in range(len(self.attention_layers)):\n",
        "            seqs = torch.transpose(seqs, 0, 1)\n",
        "            Q = self.attention_layernorms[i](seqs)\n",
        "\n",
        "            # Изменяем на сохранение и получение весов внимания\n",
        "            mha_outputs, attn_weights = self.attention_layers[i](\n",
        "                Q, seqs, seqs, attn_mask=attention_mask\n",
        "            )\n",
        "\n",
        "            all_attn_weights.append(attn_weights)  # Сохраняем веса внимания\n",
        "\n",
        "            seqs = Q + mha_outputs\n",
        "            seqs = torch.transpose(seqs, 0, 1)\n",
        "\n",
        "            seqs = self.forward_layernorms[i](seqs)\n",
        "            seqs = self.forward_layers[i](seqs)\n",
        "            seqs *= ~timeline_mask.unsqueeze(-1)\n",
        "\n",
        "        log_feats = self.last_layernorm(seqs)  # (U, T, C) -> (U, -1, C)\n",
        "\n",
        "        # Усредняем веса по батчу\n",
        "        avg_attn_weights = [torch.mean(weights, dim=0).detach().cpu() for weights in all_attn_weights]\n",
        "\n",
        "        return log_feats, avg_attn_weights\n",
        "\n",
        "    def forward(self, log_seqs, pos_seqs, neg_seqs):\n",
        "        log_feats, avg_attn_weights = self.log2feats(log_seqs)\n",
        "        pos_embs = self.item_emb(pos_seqs)\n",
        "        neg_embs = self.item_emb(neg_seqs)\n",
        "\n",
        "        pos_logits = (log_feats * pos_embs).sum(dim=-1)\n",
        "        neg_logits = (log_feats[:, None, :, :] * neg_embs).sum(dim=-1)\n",
        "\n",
        "        return pos_logits, neg_logits, avg_attn_weights\n",
        "\n",
        "# Пример визуализации тепловой карты\n",
        "def plot_attention_heatmap(attn_weights, layer=0):\n",
        "    sns.heatmap(attn_weights[layer], cmap=\"viridis\")\n",
        "    plt.title(f'Attention Weights for Layer {layer+1}')\n",
        "    plt.show()\n",
        "\n",
        "class SASRec(SASRecBackBone):\n",
        "    def __init__(self, item_num, config):\n",
        "        super().__init__(item_num + 1, config)\n",
        "\n",
        "        self.fwd_type = config['fwd_type']\n",
        "\n",
        "        if self.fwd_type == 'bce':\n",
        "            self.n_neg_samples = config['n_neg_samples']\n",
        "\n",
        "        if self.fwd_type == 'sce':\n",
        "            self.n_buckets = config['n_buckets']\n",
        "            self.bucket_size_x = eval(config['bucket_size_x']) if type(config['bucket_size_x']) == str else config['bucket_size_x']\n",
        "            self.bucket_size_y = eval(config['bucket_size_y']) if type(config['bucket_size_y']) == str else config['bucket_size_y']\n",
        "\n",
        "            self.mix_x = config['mix_x']\n",
        "\n",
        "\n",
        "    def forward(self, log_seqs, pos_seqs, neg_seqs):\n",
        "        if self.fwd_type == 'bce':\n",
        "            return self.bce_forward(log_seqs, pos_seqs, neg_seqs)\n",
        "\n",
        "        elif self.fwd_type == 'ce':\n",
        "            return self.ce_forward(log_seqs, pos_seqs)\n",
        "\n",
        "        if self.fwd_type == 'sce':\n",
        "            return self.sce_forward(log_seqs, pos_seqs)\n",
        "\n",
        "        else:\n",
        "            raise ValueError(f'Wrong fwd_type type - {self.fwd_type}')\n",
        "\n",
        "    def bce_forward(self, log_seqs, pos_seqs, neg_seqs):\n",
        "        device = log_seqs.device\n",
        "        pos_logits, neg_logits = super().forward(log_seqs, pos_seqs, neg_seqs)\n",
        "\n",
        "        pos_logits = pos_logits[:, :, None]\n",
        "        neg_logits = neg_logits.permute(0, 2, 1)\n",
        "\n",
        "        pos_labels = torch.ones(pos_logits.shape, device=device)\n",
        "        neg_labels = torch.zeros(neg_logits.shape, device=device)\n",
        "\n",
        "        logits = torch.cat([pos_logits, neg_logits], -1)\n",
        "\n",
        "        gt = torch.cat([pos_labels, neg_labels], -1)\n",
        "\n",
        "        mask = (pos_seqs != self.pad_token).float()\n",
        "\n",
        "        loss_per_element = torch.nn.functional.binary_cross_entropy_with_logits(logits, gt, reduction='none').mean(-1) * mask\n",
        "        loss = loss_per_element.sum() / mask.sum()\n",
        "\n",
        "        return loss\n",
        "\n",
        "    def ce_forward(self, log_seqs, pos_seqs):\n",
        "        emb = self.log2feats(log_seqs)\n",
        "        logits = emb @ self.item_emb.weight.T\n",
        "        indices = torch.where(pos_seqs.view(-1) != self.pad_token)\n",
        "        loss = F.cross_entropy(logits.view(-1, logits.shape[-1])[indices], pos_seqs.view(-1)[indices], reduction='mean')\n",
        "        return loss\n",
        "\n",
        "    def sce_forward(self, log_seqs, pos_seqs):\n",
        "        emb = self.log2feats(log_seqs)\n",
        "        hd = emb.shape[-1]\n",
        "\n",
        "        x = emb.view(-1, hd)\n",
        "        y = pos_seqs.view(-1)\n",
        "        w = self.item_emb.weight\n",
        "\n",
        "        correct_class_logits_ = (x * torch.index_select(w, dim=0, index=y)).sum(dim=1) # (bs,)\n",
        "\n",
        "        with torch.no_grad():\n",
        "            if self.mix_x:\n",
        "                omega = 1/np.sqrt(np.sqrt(hd)) * torch.randn(x.shape[0], self.n_buckets, device=x.device)\n",
        "                buckets = omega.T @ x\n",
        "                del omega\n",
        "            else:\n",
        "                buckets = 1/np.sqrt(np.sqrt(hd)) * torch.randn(self.n_buckets, hd, device=x.device) # (n_b, hd)\n",
        "\n",
        "        with torch.no_grad():\n",
        "            x_bucket = buckets @ x.T # (n_b, hd) x (hd, b) -> (n_b, b)\n",
        "            x_bucket[:, log_seqs.view(-1) == self.pad_token] = float('-inf')\n",
        "            _, top_x_bucket = torch.topk(x_bucket, dim=1, k=self.bucket_size_x) # (n_b, bs_x)\n",
        "            del x_bucket\n",
        "\n",
        "            y_bucket = buckets @ w.T # (n_b, hd) x (hd, n_cl) -> (n_b, n_cl)\n",
        "\n",
        "            y_bucket[:, self.pad_token] = float('-inf')\n",
        "            _, top_y_bucket = torch.topk(y_bucket, dim=1, k=self.bucket_size_y) # (n_b, bs_y)\n",
        "            del y_bucket\n",
        "\n",
        "        x_bucket = torch.gather(x, 0, top_x_bucket.view(-1, 1).expand(-1, hd)).view(self.n_buckets, self.bucket_size_x, hd) # (n_b, bs_x, hd)\n",
        "        y_bucket = torch.gather(w, 0, top_y_bucket.view(-1, 1).expand(-1, hd)).view(self.n_buckets, self.bucket_size_y, hd) # (n_b, bs_y, hd)\n",
        "\n",
        "        wrong_class_logits = (x_bucket @ y_bucket.transpose(-1, -2)) # (n_b, bs_x, bs_y)\n",
        "        mask = torch.index_select(y, dim=0, index=top_x_bucket.view(-1)).view(self.n_buckets, self.bucket_size_x)[:, :, None] == top_y_bucket[:, None, :] # (n_b, bs_x, bs_y)\n",
        "        wrong_class_logits = wrong_class_logits.masked_fill(mask, float('-inf')) # (n_b, bs_x, bs_y)\n",
        "        correct_class_logits = torch.index_select(correct_class_logits_, dim=0, index=top_x_bucket.view(-1)).view(self.n_buckets, self.bucket_size_x)[:, :, None] # (n_b, bs_x, 1)\n",
        "        logits = torch.cat((wrong_class_logits, correct_class_logits), dim=2) # (n_b, bs_x, bs_y + 1)\n",
        "\n",
        "        loss_ = F.cross_entropy(logits.view(-1, logits.shape[-1]), (logits.shape[-1] - 1) * torch.ones(logits.shape[0] * logits.shape[1], dtype=torch.int64, device=logits.device), reduction='none') # (n_b * bs_x,)\n",
        "        loss = torch.zeros(x.shape[0], device=x.device, dtype=x.dtype)\n",
        "        loss.scatter_reduce_(0, top_x_bucket.view(-1), loss_, reduce='amax', include_self=False)\n",
        "        loss = loss[(loss != 0) & (y != self.pad_token)]\n",
        "        loss = torch.mean(loss)\n",
        "\n",
        "        return loss\n",
        "\n",
        "config = {\n",
        "    'hidden_units': 64,\n",
        "    'maxlen': 50,\n",
        "    'dropout_rate': 0.2,\n",
        "    'num_blocks': 2,\n",
        "    'num_heads': 4,\n",
        "    'manual_seed': 42\n",
        "}\n",
        "\n",
        "# Количество уникальных элементов (например, количество товаров)\n",
        "item_num = 1000\n",
        "\n",
        "# Инициализация модели\n",
        "model = SASRecBackBone(item_num, config)\n",
        "\n",
        "# Пример данных (лог последовательностей, положительные и отрицательные примеры)\n",
        "log_seqs = torch.randint(0, item_num, (32, config['maxlen']))  # батч из 32 последовательностей\n",
        "pos_seqs = torch.randint(0, item_num, (32, config['maxlen']))  # положительные примеры\n",
        "neg_seqs = torch.randint(0, item_num, (32, config['maxlen']))  # отрицательные примеры\n",
        "\n",
        "# Прогон данных через модель\n",
        "pos_logits, neg_logits, avg_attn_weights = model.forward(log_seqs, pos_seqs, neg_seqs)\n",
        "\n",
        "# Визуализация тепловой карты для первого слоя\n",
        "plot_attention_heatmap(avg_attn_weights, layer=0)"
      ]
    },
    {
      "cell_type": "markdown",
      "metadata": {
        "id": "yuv1sLfwKF9M"
      },
      "source": [
        "# Training"
      ]
    },
    {
      "cell_type": "code",
      "execution_count": null,
      "metadata": {
        "id": "pvld-ngXKF9M"
      },
      "outputs": [],
      "source": [
        "def data_to_sequences(data, data_description):\n",
        "    userid = data_description['users']\n",
        "    itemid = data_description['items']\n",
        "    sequences = (\n",
        "        data.sort_values([userid, data_description['order']])\n",
        "        .groupby(userid, sort=False)[itemid].apply(list)\n",
        "    )\n",
        "    return sequences"
      ]
    },
    {
      "cell_type": "code",
      "execution_count": null,
      "metadata": {
        "id": "T6PNap7QKF9M"
      },
      "outputs": [],
      "source": [
        "def prepare_sasrec_model(config, data, data_description):\n",
        "    n_users = data_description['n_users']\n",
        "    n_items = data_description['n_items']\n",
        "    model = SASRec(n_items, config)\n",
        "    if torch.cuda.is_available():\n",
        "        model = model.cuda()\n",
        "\n",
        "    train_sequences = data_to_sequences(data, data_description)\n",
        "    sampler = DataLoader(SequentialDataset(train_sequences, n_users, n_items,\n",
        "        maxlen = config['maxlen'],\n",
        "        seed = config['sampler_seed'],\n",
        "        n_neg_samples = config['n_neg_samples'],\n",
        "        pad_token = model.pad_token,\n",
        "        sampling = config['sampling']), batch_size=config['batch_size'], shuffle=True, num_workers=2, pin_memory=True, prefetch_factor=10, drop_last=True)\n",
        "\n",
        "    n_batches = len(train_sequences) // config['batch_size']\n",
        "    optimizer = torch.optim.Adam(\n",
        "        model.parameters(),\n",
        "        lr = config['learning_rate'],\n",
        "        betas = (0.9, 0.98)\n",
        "    )\n",
        "    return model, sampler, n_batches, optimizer"
      ]
    },
    {
      "cell_type": "code",
      "execution_count": null,
      "metadata": {
        "id": "yLUzxVSSKF9M"
      },
      "outputs": [],
      "source": [
        "def train_sasrec_epoch(model, num_batch, l2_emb, sampler, optimizer, device):\n",
        "    model.train()\n",
        "    pad_token = model.pad_token\n",
        "    losses = []\n",
        "    for _, *seq_data in sampler:\n",
        "        # convert batch data into torch tensors\n",
        "        seq, pos, neg = (torch.LongTensor(np.array(x)).to(device) for x in seq_data)\n",
        "        loss = model(seq, pos, neg)\n",
        "        optimizer.zero_grad()\n",
        "        if l2_emb != 0:\n",
        "          for param in model.item_emb.parameters():\n",
        "            loss += l2_emb * torch.norm(param) ** 2\n",
        "        loss.backward()\n",
        "        optimizer.step()\n",
        "        losses.append(loss.item())\n",
        "    return losses"
      ]
    },
    {
      "cell_type": "code",
      "execution_count": null,
      "metadata": {
        "id": "7qnhYJ4fnds-"
      },
      "outputs": [],
      "source": [
        "def sasrec_model_scoring(params, data, data_description):\n",
        "    model = params\n",
        "    model.eval()\n",
        "    tensor = torch.cuda.LongTensor if torch.cuda.is_available() else torch.LongTensor\n",
        "    test_sequences = data_to_sequences(data, data_description)\n",
        "    # perform scoring on a user-batch level\n",
        "    scores = []\n",
        "    for _, seq in test_sequences.items():\n",
        "        with torch.no_grad():\n",
        "          predictions = model.score(tensor(seq))\n",
        "        scores.append(predictions.detach().cpu().numpy())\n",
        "    return np.concatenate(scores, axis=0)"
      ]
    },
    {
      "cell_type": "code",
      "execution_count": null,
      "metadata": {
        "id": "H7eyOkq_KF9M"
      },
      "outputs": [],
      "source": [
        "def build_sasrec_model(config, data, data_description):\n",
        "    '''Simple MF training routine without early stopping'''\n",
        "    model, sampler, n_batches, optimizer = prepare_sasrec_model(config, data, data_description)\n",
        "    device = 'cpu'\n",
        "    if torch.cuda.is_available():\n",
        "        device = torch.device(f'cuda:{torch.cuda.current_device()}')\n",
        "    losses = {}\n",
        "    hr, mrr, cov = {}, {}, {}\n",
        "    best_hr = 0\n",
        "    wait = 0\n",
        "    start_time = time()\n",
        "    torch.cuda.synchronize()\n",
        "    torch.cuda.reset_peak_memory_stats()\n",
        "\n",
        "    for epoch in tqdm(range(config['num_epochs'])):\n",
        "        losses[epoch] = train_sasrec_epoch(\n",
        "            model, n_batches, config['l2_emb'], sampler, optimizer, device\n",
        "        )\n",
        "        val_scores = sasrec_model_scoring(model, testset_valid, data_description)\n",
        "        downvote_seen_items(val_scores, testset_valid, data_description)\n",
        "        val_recs = topn_recommendations(val_scores, topn=10)\n",
        "        metrics = model_evaluate(val_recs, holdout_valid, data_description)\n",
        "        hr_ = metrics['hr']\n",
        "        mrr_ = metrics['mrr']\n",
        "        cov_ = metrics['cov']\n",
        "\n",
        "        hr[epoch] = hr_\n",
        "        mrr[epoch] = mrr_\n",
        "        cov[epoch] = cov_\n",
        "\n",
        "        if hr_ > best_hr:\n",
        "          best_hr = hr_\n",
        "          wait = 0\n",
        "        elif wait < 20:\n",
        "          wait += 1\n",
        "        else:\n",
        "          break\n",
        "\n",
        "    torch.cuda.synchronize()\n",
        "    training_time_sec = time() - start_time\n",
        "    full_peak_training_memory_bytes = torch.cuda.max_memory_allocated()\n",
        "    training_epoches = len(losses)\n",
        "\n",
        "    print('Peak training memory, mb:', round(full_peak_training_memory_bytes/ 1024. / 1024., 2))\n",
        "    print('Training epoches:', training_epoches)\n",
        "    print('Training time, m:', round(training_time_sec/ 60., 2))\n",
        "\n",
        "    return model, losses, hr, mrr, cov"
      ]
    },
    {
      "cell_type": "code",
      "execution_count": null,
      "metadata": {
        "id": "br2tSmGtzvdD"
      },
      "outputs": [],
      "source": [
        "base_config_test = dict(\n",
        "    num_epochs = 1,\n",
        "    maxlen = 200,\n",
        "    hidden_units = 64,\n",
        "    dropout_rate = 0.4,\n",
        "    num_blocks = 2,\n",
        "    num_heads = 1,\n",
        "    batch_size = 2048,\n",
        "    sampler_seed = 99,\n",
        "    manual_seed = 111,\n",
        "    learning_rate = 1e-3,\n",
        "    l2_emb = 0,\n",
        "    n_neg_samples = 0,\n",
        "    sampling = 'no_sampling',\n",
        ")"
      ]
    },
    {
      "cell_type": "code",
      "execution_count": null,
      "metadata": {
        "colab": {
          "base_uri": "https://localhost:8080/",
          "height": 423,
          "referenced_widgets": [
            "67cc7e90602c4777af7dc3e7b6af2a36",
            "1be0fbd8ab63491aa711d6154092c0f3",
            "2f7defdc24bc48289f9668e40c9cc4ee",
            "4db7a72e29c447dd8278b85b1aa04314",
            "02fee2945cab42f68c759465bbbaf3e5",
            "87195f84835b4d59b30324085cf1e367",
            "512fe5bc570d48008ef4405c3148fc72",
            "42a45a724fc04e06a9830c50fab4c9ec",
            "9c19b3e2d27f4e1fa584ae3b4520e924",
            "a7fa3469952e457f843ebc689d59e1d6",
            "145c4429030147b3bf4c4d048c298252"
          ]
        },
        "id": "bwk6fTRHjMZu",
        "outputId": "bd2cb414-9cf2-4531-a760-8f5e05840043"
      },
      "outputs": [
        {
          "output_type": "display_data",
          "data": {
            "text/plain": [
              "  0%|          | 0/1 [00:00<?, ?it/s]"
            ],
            "application/vnd.jupyter.widget-view+json": {
              "version_major": 2,
              "version_minor": 0,
              "model_id": "67cc7e90602c4777af7dc3e7b6af2a36"
            }
          },
          "metadata": {}
        },
        {
          "output_type": "error",
          "ename": "OutOfMemoryError",
          "evalue": "CUDA out of memory. Tried to allocate 100.00 MiB. GPU 0 has a total capacity of 14.75 GiB of which 47.06 MiB is free. Process 3063 has 14.70 GiB memory in use. Of the allocated memory 14.45 GiB is allocated by PyTorch, and 112.59 MiB is reserved by PyTorch but unallocated. If reserved but unallocated memory is large try setting PYTORCH_CUDA_ALLOC_CONF=expandable_segments:True to avoid fragmentation.  See documentation for Memory Management  (https://pytorch.org/docs/stable/notes/cuda.html#environment-variables)",
          "traceback": [
            "\u001b[0;31m---------------------------------------------------------------------------\u001b[0m",
            "\u001b[0;31mOutOfMemoryError\u001b[0m                          Traceback (most recent call last)",
            "\u001b[0;32m<ipython-input-34-45b01acc6c77>\u001b[0m in \u001b[0;36m<cell line: 8>\u001b[0;34m()\u001b[0m\n\u001b[1;32m      6\u001b[0m \u001b[0mconfig_sce_test\u001b[0m\u001b[0;34m[\u001b[0m\u001b[0;34m'fwd_type'\u001b[0m\u001b[0;34m]\u001b[0m \u001b[0;34m=\u001b[0m \u001b[0;34m'sce'\u001b[0m\u001b[0;34m\u001b[0m\u001b[0;34m\u001b[0m\u001b[0m\n\u001b[1;32m      7\u001b[0m \u001b[0;34m\u001b[0m\u001b[0m\n\u001b[0;32m----> 8\u001b[0;31m \u001b[0mmodel_sce_test\u001b[0m\u001b[0;34m,\u001b[0m \u001b[0mlosses_sce\u001b[0m\u001b[0;34m,\u001b[0m \u001b[0mhr_sce\u001b[0m\u001b[0;34m,\u001b[0m \u001b[0mmrr_sce\u001b[0m\u001b[0;34m,\u001b[0m \u001b[0mcov_sce\u001b[0m \u001b[0;34m=\u001b[0m \u001b[0mbuild_sasrec_model\u001b[0m\u001b[0;34m(\u001b[0m\u001b[0mconfig_sce_test\u001b[0m\u001b[0;34m,\u001b[0m \u001b[0mtraining\u001b[0m\u001b[0;34m,\u001b[0m \u001b[0mdata_description\u001b[0m\u001b[0;34m)\u001b[0m\u001b[0;34m\u001b[0m\u001b[0;34m\u001b[0m\u001b[0m\n\u001b[0m",
            "\u001b[0;32m<ipython-input-32-024105d18e3c>\u001b[0m in \u001b[0;36mbuild_sasrec_model\u001b[0;34m(config, data, data_description)\u001b[0m\n\u001b[1;32m     14\u001b[0m \u001b[0;34m\u001b[0m\u001b[0m\n\u001b[1;32m     15\u001b[0m     \u001b[0;32mfor\u001b[0m \u001b[0mepoch\u001b[0m \u001b[0;32min\u001b[0m \u001b[0mtqdm\u001b[0m\u001b[0;34m(\u001b[0m\u001b[0mrange\u001b[0m\u001b[0;34m(\u001b[0m\u001b[0mconfig\u001b[0m\u001b[0;34m[\u001b[0m\u001b[0;34m'num_epochs'\u001b[0m\u001b[0;34m]\u001b[0m\u001b[0;34m)\u001b[0m\u001b[0;34m)\u001b[0m\u001b[0;34m:\u001b[0m\u001b[0;34m\u001b[0m\u001b[0;34m\u001b[0m\u001b[0m\n\u001b[0;32m---> 16\u001b[0;31m         losses[epoch] = train_sasrec_epoch(\n\u001b[0m\u001b[1;32m     17\u001b[0m             \u001b[0mmodel\u001b[0m\u001b[0;34m,\u001b[0m \u001b[0mn_batches\u001b[0m\u001b[0;34m,\u001b[0m \u001b[0mconfig\u001b[0m\u001b[0;34m[\u001b[0m\u001b[0;34m'l2_emb'\u001b[0m\u001b[0;34m]\u001b[0m\u001b[0;34m,\u001b[0m \u001b[0msampler\u001b[0m\u001b[0;34m,\u001b[0m \u001b[0moptimizer\u001b[0m\u001b[0;34m,\u001b[0m \u001b[0mdevice\u001b[0m\u001b[0;34m\u001b[0m\u001b[0;34m\u001b[0m\u001b[0m\n\u001b[1;32m     18\u001b[0m         )\n",
            "\u001b[0;32m<ipython-input-30-5631b72544fe>\u001b[0m in \u001b[0;36mtrain_sasrec_epoch\u001b[0;34m(model, num_batch, l2_emb, sampler, optimizer, device)\u001b[0m\n\u001b[1;32m      6\u001b[0m         \u001b[0;31m# convert batch data into torch tensors\u001b[0m\u001b[0;34m\u001b[0m\u001b[0;34m\u001b[0m\u001b[0m\n\u001b[1;32m      7\u001b[0m         \u001b[0mseq\u001b[0m\u001b[0;34m,\u001b[0m \u001b[0mpos\u001b[0m\u001b[0;34m,\u001b[0m \u001b[0mneg\u001b[0m \u001b[0;34m=\u001b[0m \u001b[0;34m(\u001b[0m\u001b[0mtorch\u001b[0m\u001b[0;34m.\u001b[0m\u001b[0mLongTensor\u001b[0m\u001b[0;34m(\u001b[0m\u001b[0mnp\u001b[0m\u001b[0;34m.\u001b[0m\u001b[0marray\u001b[0m\u001b[0;34m(\u001b[0m\u001b[0mx\u001b[0m\u001b[0;34m)\u001b[0m\u001b[0;34m)\u001b[0m\u001b[0;34m.\u001b[0m\u001b[0mto\u001b[0m\u001b[0;34m(\u001b[0m\u001b[0mdevice\u001b[0m\u001b[0;34m)\u001b[0m \u001b[0;32mfor\u001b[0m \u001b[0mx\u001b[0m \u001b[0;32min\u001b[0m \u001b[0mseq_data\u001b[0m\u001b[0;34m)\u001b[0m\u001b[0;34m\u001b[0m\u001b[0;34m\u001b[0m\u001b[0m\n\u001b[0;32m----> 8\u001b[0;31m         \u001b[0mloss\u001b[0m \u001b[0;34m=\u001b[0m \u001b[0mmodel\u001b[0m\u001b[0;34m(\u001b[0m\u001b[0mseq\u001b[0m\u001b[0;34m,\u001b[0m \u001b[0mpos\u001b[0m\u001b[0;34m,\u001b[0m \u001b[0mneg\u001b[0m\u001b[0;34m)\u001b[0m\u001b[0;34m\u001b[0m\u001b[0;34m\u001b[0m\u001b[0m\n\u001b[0m\u001b[1;32m      9\u001b[0m         \u001b[0moptimizer\u001b[0m\u001b[0;34m.\u001b[0m\u001b[0mzero_grad\u001b[0m\u001b[0;34m(\u001b[0m\u001b[0;34m)\u001b[0m\u001b[0;34m\u001b[0m\u001b[0;34m\u001b[0m\u001b[0m\n\u001b[1;32m     10\u001b[0m         \u001b[0;32mif\u001b[0m \u001b[0ml2_emb\u001b[0m \u001b[0;34m!=\u001b[0m \u001b[0;36m0\u001b[0m\u001b[0;34m:\u001b[0m\u001b[0;34m\u001b[0m\u001b[0;34m\u001b[0m\u001b[0m\n",
            "\u001b[0;32m/usr/local/lib/python3.10/dist-packages/torch/nn/modules/module.py\u001b[0m in \u001b[0;36m_wrapped_call_impl\u001b[0;34m(self, *args, **kwargs)\u001b[0m\n\u001b[1;32m   1551\u001b[0m             \u001b[0;32mreturn\u001b[0m \u001b[0mself\u001b[0m\u001b[0;34m.\u001b[0m\u001b[0m_compiled_call_impl\u001b[0m\u001b[0;34m(\u001b[0m\u001b[0;34m*\u001b[0m\u001b[0margs\u001b[0m\u001b[0;34m,\u001b[0m \u001b[0;34m**\u001b[0m\u001b[0mkwargs\u001b[0m\u001b[0;34m)\u001b[0m  \u001b[0;31m# type: ignore[misc]\u001b[0m\u001b[0;34m\u001b[0m\u001b[0;34m\u001b[0m\u001b[0m\n\u001b[1;32m   1552\u001b[0m         \u001b[0;32melse\u001b[0m\u001b[0;34m:\u001b[0m\u001b[0;34m\u001b[0m\u001b[0;34m\u001b[0m\u001b[0m\n\u001b[0;32m-> 1553\u001b[0;31m             \u001b[0;32mreturn\u001b[0m \u001b[0mself\u001b[0m\u001b[0;34m.\u001b[0m\u001b[0m_call_impl\u001b[0m\u001b[0;34m(\u001b[0m\u001b[0;34m*\u001b[0m\u001b[0margs\u001b[0m\u001b[0;34m,\u001b[0m \u001b[0;34m**\u001b[0m\u001b[0mkwargs\u001b[0m\u001b[0;34m)\u001b[0m\u001b[0;34m\u001b[0m\u001b[0;34m\u001b[0m\u001b[0m\n\u001b[0m\u001b[1;32m   1554\u001b[0m \u001b[0;34m\u001b[0m\u001b[0m\n\u001b[1;32m   1555\u001b[0m     \u001b[0;32mdef\u001b[0m \u001b[0m_call_impl\u001b[0m\u001b[0;34m(\u001b[0m\u001b[0mself\u001b[0m\u001b[0;34m,\u001b[0m \u001b[0;34m*\u001b[0m\u001b[0margs\u001b[0m\u001b[0;34m,\u001b[0m \u001b[0;34m**\u001b[0m\u001b[0mkwargs\u001b[0m\u001b[0;34m)\u001b[0m\u001b[0;34m:\u001b[0m\u001b[0;34m\u001b[0m\u001b[0;34m\u001b[0m\u001b[0m\n",
            "\u001b[0;32m/usr/local/lib/python3.10/dist-packages/torch/nn/modules/module.py\u001b[0m in \u001b[0;36m_call_impl\u001b[0;34m(self, *args, **kwargs)\u001b[0m\n\u001b[1;32m   1560\u001b[0m                 \u001b[0;32mor\u001b[0m \u001b[0m_global_backward_pre_hooks\u001b[0m \u001b[0;32mor\u001b[0m \u001b[0m_global_backward_hooks\u001b[0m\u001b[0;34m\u001b[0m\u001b[0;34m\u001b[0m\u001b[0m\n\u001b[1;32m   1561\u001b[0m                 or _global_forward_hooks or _global_forward_pre_hooks):\n\u001b[0;32m-> 1562\u001b[0;31m             \u001b[0;32mreturn\u001b[0m \u001b[0mforward_call\u001b[0m\u001b[0;34m(\u001b[0m\u001b[0;34m*\u001b[0m\u001b[0margs\u001b[0m\u001b[0;34m,\u001b[0m \u001b[0;34m**\u001b[0m\u001b[0mkwargs\u001b[0m\u001b[0;34m)\u001b[0m\u001b[0;34m\u001b[0m\u001b[0;34m\u001b[0m\u001b[0m\n\u001b[0m\u001b[1;32m   1563\u001b[0m \u001b[0;34m\u001b[0m\u001b[0m\n\u001b[1;32m   1564\u001b[0m         \u001b[0;32mtry\u001b[0m\u001b[0;34m:\u001b[0m\u001b[0;34m\u001b[0m\u001b[0;34m\u001b[0m\u001b[0m\n",
            "\u001b[0;32m<ipython-input-27-9fd7a2300e60>\u001b[0m in \u001b[0;36mforward\u001b[0;34m(self, log_seqs, pos_seqs, neg_seqs)\u001b[0m\n\u001b[1;32m    146\u001b[0m \u001b[0;34m\u001b[0m\u001b[0m\n\u001b[1;32m    147\u001b[0m         \u001b[0;32mif\u001b[0m \u001b[0mself\u001b[0m\u001b[0;34m.\u001b[0m\u001b[0mfwd_type\u001b[0m \u001b[0;34m==\u001b[0m \u001b[0;34m'sce'\u001b[0m\u001b[0;34m:\u001b[0m\u001b[0;34m\u001b[0m\u001b[0;34m\u001b[0m\u001b[0m\n\u001b[0;32m--> 148\u001b[0;31m             \u001b[0;32mreturn\u001b[0m \u001b[0mself\u001b[0m\u001b[0;34m.\u001b[0m\u001b[0msce_forward\u001b[0m\u001b[0;34m(\u001b[0m\u001b[0mlog_seqs\u001b[0m\u001b[0;34m,\u001b[0m \u001b[0mpos_seqs\u001b[0m\u001b[0;34m)\u001b[0m\u001b[0;34m\u001b[0m\u001b[0;34m\u001b[0m\u001b[0m\n\u001b[0m\u001b[1;32m    149\u001b[0m \u001b[0;34m\u001b[0m\u001b[0m\n\u001b[1;32m    150\u001b[0m         \u001b[0;32melse\u001b[0m\u001b[0;34m:\u001b[0m\u001b[0;34m\u001b[0m\u001b[0;34m\u001b[0m\u001b[0m\n",
            "\u001b[0;32m<ipython-input-27-9fd7a2300e60>\u001b[0m in \u001b[0;36msce_forward\u001b[0;34m(self, log_seqs, pos_seqs)\u001b[0m\n\u001b[1;32m    180\u001b[0m \u001b[0;34m\u001b[0m\u001b[0m\n\u001b[1;32m    181\u001b[0m     \u001b[0;32mdef\u001b[0m \u001b[0msce_forward\u001b[0m\u001b[0;34m(\u001b[0m\u001b[0mself\u001b[0m\u001b[0;34m,\u001b[0m \u001b[0mlog_seqs\u001b[0m\u001b[0;34m,\u001b[0m \u001b[0mpos_seqs\u001b[0m\u001b[0;34m)\u001b[0m\u001b[0;34m:\u001b[0m\u001b[0;34m\u001b[0m\u001b[0;34m\u001b[0m\u001b[0m\n\u001b[0;32m--> 182\u001b[0;31m         \u001b[0memb\u001b[0m \u001b[0;34m=\u001b[0m \u001b[0mself\u001b[0m\u001b[0;34m.\u001b[0m\u001b[0mlog2feats\u001b[0m\u001b[0;34m(\u001b[0m\u001b[0mlog_seqs\u001b[0m\u001b[0;34m)\u001b[0m\u001b[0;34m\u001b[0m\u001b[0;34m\u001b[0m\u001b[0m\n\u001b[0m\u001b[1;32m    183\u001b[0m         \u001b[0mhd\u001b[0m \u001b[0;34m=\u001b[0m \u001b[0memb\u001b[0m\u001b[0;34m.\u001b[0m\u001b[0mshape\u001b[0m\u001b[0;34m[\u001b[0m\u001b[0;34m-\u001b[0m\u001b[0;36m1\u001b[0m\u001b[0;34m]\u001b[0m\u001b[0;34m\u001b[0m\u001b[0;34m\u001b[0m\u001b[0m\n\u001b[1;32m    184\u001b[0m \u001b[0;34m\u001b[0m\u001b[0m\n",
            "\u001b[0;32m<ipython-input-27-9fd7a2300e60>\u001b[0m in \u001b[0;36mlog2feats\u001b[0;34m(self, log_seqs)\u001b[0m\n\u001b[1;32m     66\u001b[0m         \u001b[0mdevice\u001b[0m \u001b[0;34m=\u001b[0m \u001b[0mlog_seqs\u001b[0m\u001b[0;34m.\u001b[0m\u001b[0mdevice\u001b[0m\u001b[0;34m\u001b[0m\u001b[0;34m\u001b[0m\u001b[0m\n\u001b[1;32m     67\u001b[0m \u001b[0;34m\u001b[0m\u001b[0m\n\u001b[0;32m---> 68\u001b[0;31m         \u001b[0mseqs\u001b[0m \u001b[0;34m=\u001b[0m \u001b[0mself\u001b[0m\u001b[0;34m.\u001b[0m\u001b[0mitem_emb\u001b[0m\u001b[0;34m(\u001b[0m\u001b[0mlog_seqs\u001b[0m\u001b[0;34m)\u001b[0m\u001b[0;34m\u001b[0m\u001b[0;34m\u001b[0m\u001b[0m\n\u001b[0m\u001b[1;32m     69\u001b[0m         \u001b[0mseqs\u001b[0m \u001b[0;34m*=\u001b[0m \u001b[0mself\u001b[0m\u001b[0;34m.\u001b[0m\u001b[0mitem_emb\u001b[0m\u001b[0;34m.\u001b[0m\u001b[0membedding_dim\u001b[0m \u001b[0;34m**\u001b[0m \u001b[0;36m0.5\u001b[0m\u001b[0;34m\u001b[0m\u001b[0;34m\u001b[0m\u001b[0m\n\u001b[1;32m     70\u001b[0m         \u001b[0mpositions\u001b[0m \u001b[0;34m=\u001b[0m \u001b[0mnp\u001b[0m\u001b[0;34m.\u001b[0m\u001b[0mtile\u001b[0m\u001b[0;34m(\u001b[0m\u001b[0mnp\u001b[0m\u001b[0;34m.\u001b[0m\u001b[0marange\u001b[0m\u001b[0;34m(\u001b[0m\u001b[0mlog_seqs\u001b[0m\u001b[0;34m.\u001b[0m\u001b[0mshape\u001b[0m\u001b[0;34m[\u001b[0m\u001b[0;36m1\u001b[0m\u001b[0;34m]\u001b[0m\u001b[0;34m)\u001b[0m\u001b[0;34m,\u001b[0m \u001b[0;34m[\u001b[0m\u001b[0mlog_seqs\u001b[0m\u001b[0;34m.\u001b[0m\u001b[0mshape\u001b[0m\u001b[0;34m[\u001b[0m\u001b[0;36m0\u001b[0m\u001b[0;34m]\u001b[0m\u001b[0;34m,\u001b[0m \u001b[0;36m1\u001b[0m\u001b[0;34m]\u001b[0m\u001b[0;34m)\u001b[0m\u001b[0;34m\u001b[0m\u001b[0;34m\u001b[0m\u001b[0m\n",
            "\u001b[0;32m/usr/local/lib/python3.10/dist-packages/torch/nn/modules/module.py\u001b[0m in \u001b[0;36m_wrapped_call_impl\u001b[0;34m(self, *args, **kwargs)\u001b[0m\n\u001b[1;32m   1551\u001b[0m             \u001b[0;32mreturn\u001b[0m \u001b[0mself\u001b[0m\u001b[0;34m.\u001b[0m\u001b[0m_compiled_call_impl\u001b[0m\u001b[0;34m(\u001b[0m\u001b[0;34m*\u001b[0m\u001b[0margs\u001b[0m\u001b[0;34m,\u001b[0m \u001b[0;34m**\u001b[0m\u001b[0mkwargs\u001b[0m\u001b[0;34m)\u001b[0m  \u001b[0;31m# type: ignore[misc]\u001b[0m\u001b[0;34m\u001b[0m\u001b[0;34m\u001b[0m\u001b[0m\n\u001b[1;32m   1552\u001b[0m         \u001b[0;32melse\u001b[0m\u001b[0;34m:\u001b[0m\u001b[0;34m\u001b[0m\u001b[0;34m\u001b[0m\u001b[0m\n\u001b[0;32m-> 1553\u001b[0;31m             \u001b[0;32mreturn\u001b[0m \u001b[0mself\u001b[0m\u001b[0;34m.\u001b[0m\u001b[0m_call_impl\u001b[0m\u001b[0;34m(\u001b[0m\u001b[0;34m*\u001b[0m\u001b[0margs\u001b[0m\u001b[0;34m,\u001b[0m \u001b[0;34m**\u001b[0m\u001b[0mkwargs\u001b[0m\u001b[0;34m)\u001b[0m\u001b[0;34m\u001b[0m\u001b[0;34m\u001b[0m\u001b[0m\n\u001b[0m\u001b[1;32m   1554\u001b[0m \u001b[0;34m\u001b[0m\u001b[0m\n\u001b[1;32m   1555\u001b[0m     \u001b[0;32mdef\u001b[0m \u001b[0m_call_impl\u001b[0m\u001b[0;34m(\u001b[0m\u001b[0mself\u001b[0m\u001b[0;34m,\u001b[0m \u001b[0;34m*\u001b[0m\u001b[0margs\u001b[0m\u001b[0;34m,\u001b[0m \u001b[0;34m**\u001b[0m\u001b[0mkwargs\u001b[0m\u001b[0;34m)\u001b[0m\u001b[0;34m:\u001b[0m\u001b[0;34m\u001b[0m\u001b[0;34m\u001b[0m\u001b[0m\n",
            "\u001b[0;32m/usr/local/lib/python3.10/dist-packages/torch/nn/modules/module.py\u001b[0m in \u001b[0;36m_call_impl\u001b[0;34m(self, *args, **kwargs)\u001b[0m\n\u001b[1;32m   1560\u001b[0m                 \u001b[0;32mor\u001b[0m \u001b[0m_global_backward_pre_hooks\u001b[0m \u001b[0;32mor\u001b[0m \u001b[0m_global_backward_hooks\u001b[0m\u001b[0;34m\u001b[0m\u001b[0;34m\u001b[0m\u001b[0m\n\u001b[1;32m   1561\u001b[0m                 or _global_forward_hooks or _global_forward_pre_hooks):\n\u001b[0;32m-> 1562\u001b[0;31m             \u001b[0;32mreturn\u001b[0m \u001b[0mforward_call\u001b[0m\u001b[0;34m(\u001b[0m\u001b[0;34m*\u001b[0m\u001b[0margs\u001b[0m\u001b[0;34m,\u001b[0m \u001b[0;34m**\u001b[0m\u001b[0mkwargs\u001b[0m\u001b[0;34m)\u001b[0m\u001b[0;34m\u001b[0m\u001b[0;34m\u001b[0m\u001b[0m\n\u001b[0m\u001b[1;32m   1563\u001b[0m \u001b[0;34m\u001b[0m\u001b[0m\n\u001b[1;32m   1564\u001b[0m         \u001b[0;32mtry\u001b[0m\u001b[0;34m:\u001b[0m\u001b[0;34m\u001b[0m\u001b[0;34m\u001b[0m\u001b[0m\n",
            "\u001b[0;32m/usr/local/lib/python3.10/dist-packages/torch/nn/modules/sparse.py\u001b[0m in \u001b[0;36mforward\u001b[0;34m(self, input)\u001b[0m\n\u001b[1;32m    162\u001b[0m \u001b[0;34m\u001b[0m\u001b[0m\n\u001b[1;32m    163\u001b[0m     \u001b[0;32mdef\u001b[0m \u001b[0mforward\u001b[0m\u001b[0;34m(\u001b[0m\u001b[0mself\u001b[0m\u001b[0;34m,\u001b[0m \u001b[0minput\u001b[0m\u001b[0;34m:\u001b[0m \u001b[0mTensor\u001b[0m\u001b[0;34m)\u001b[0m \u001b[0;34m->\u001b[0m \u001b[0mTensor\u001b[0m\u001b[0;34m:\u001b[0m\u001b[0;34m\u001b[0m\u001b[0;34m\u001b[0m\u001b[0m\n\u001b[0;32m--> 164\u001b[0;31m         return F.embedding(\n\u001b[0m\u001b[1;32m    165\u001b[0m             \u001b[0minput\u001b[0m\u001b[0;34m,\u001b[0m \u001b[0mself\u001b[0m\u001b[0;34m.\u001b[0m\u001b[0mweight\u001b[0m\u001b[0;34m,\u001b[0m \u001b[0mself\u001b[0m\u001b[0;34m.\u001b[0m\u001b[0mpadding_idx\u001b[0m\u001b[0;34m,\u001b[0m \u001b[0mself\u001b[0m\u001b[0;34m.\u001b[0m\u001b[0mmax_norm\u001b[0m\u001b[0;34m,\u001b[0m\u001b[0;34m\u001b[0m\u001b[0;34m\u001b[0m\u001b[0m\n\u001b[1;32m    166\u001b[0m             self.norm_type, self.scale_grad_by_freq, self.sparse)\n",
            "\u001b[0;32m/usr/local/lib/python3.10/dist-packages/torch/nn/functional.py\u001b[0m in \u001b[0;36membedding\u001b[0;34m(input, weight, padding_idx, max_norm, norm_type, scale_grad_by_freq, sparse)\u001b[0m\n\u001b[1;32m   2265\u001b[0m         \u001b[0;31m# remove once script supports set_grad_enabled\u001b[0m\u001b[0;34m\u001b[0m\u001b[0;34m\u001b[0m\u001b[0m\n\u001b[1;32m   2266\u001b[0m         \u001b[0m_no_grad_embedding_renorm_\u001b[0m\u001b[0;34m(\u001b[0m\u001b[0mweight\u001b[0m\u001b[0;34m,\u001b[0m \u001b[0minput\u001b[0m\u001b[0;34m,\u001b[0m \u001b[0mmax_norm\u001b[0m\u001b[0;34m,\u001b[0m \u001b[0mnorm_type\u001b[0m\u001b[0;34m)\u001b[0m\u001b[0;34m\u001b[0m\u001b[0;34m\u001b[0m\u001b[0m\n\u001b[0;32m-> 2267\u001b[0;31m     \u001b[0;32mreturn\u001b[0m \u001b[0mtorch\u001b[0m\u001b[0;34m.\u001b[0m\u001b[0membedding\u001b[0m\u001b[0;34m(\u001b[0m\u001b[0mweight\u001b[0m\u001b[0;34m,\u001b[0m \u001b[0minput\u001b[0m\u001b[0;34m,\u001b[0m \u001b[0mpadding_idx\u001b[0m\u001b[0;34m,\u001b[0m \u001b[0mscale_grad_by_freq\u001b[0m\u001b[0;34m,\u001b[0m \u001b[0msparse\u001b[0m\u001b[0;34m)\u001b[0m\u001b[0;34m\u001b[0m\u001b[0;34m\u001b[0m\u001b[0m\n\u001b[0m\u001b[1;32m   2268\u001b[0m \u001b[0;34m\u001b[0m\u001b[0m\n\u001b[1;32m   2269\u001b[0m \u001b[0;34m\u001b[0m\u001b[0m\n",
            "\u001b[0;31mOutOfMemoryError\u001b[0m: CUDA out of memory. Tried to allocate 100.00 MiB. GPU 0 has a total capacity of 14.75 GiB of which 47.06 MiB is free. Process 3063 has 14.70 GiB memory in use. Of the allocated memory 14.45 GiB is allocated by PyTorch, and 112.59 MiB is reserved by PyTorch but unallocated. If reserved but unallocated memory is large try setting PYTORCH_CUDA_ALLOC_CONF=expandable_segments:True to avoid fragmentation.  See documentation for Memory Management  (https://pytorch.org/docs/stable/notes/cuda.html#environment-variables)"
          ]
        }
      ],
      "source": [
        "config_sce_test = base_config_test.copy()\n",
        "config_sce_test['mix_x'] = True\n",
        "config_sce_test['n_buckets'] = 500\n",
        "config_sce_test['bucket_size_x'] = 500\n",
        "config_sce_test['bucket_size_y'] = 200\n",
        "config_sce_test['fwd_type'] = 'sce'\n",
        "\n",
        "model_sce_test, losses_sce, hr_sce, mrr_sce, cov_sce = build_sasrec_model(config_sce_test, training, data_description)"
      ]
    },
    {
      "cell_type": "code",
      "execution_count": null,
      "metadata": {
        "id": "F0kGxlkfjGT3"
      },
      "outputs": [],
      "source": [
        "config_ce_test = base_config_test.copy()\n",
        "config_ce_test['fwd_type'] = 'ce'\n",
        "\n",
        "model_ce_test, losses_ce, hr_ce, mrr_ce, cov_ce = build_sasrec_model(config_ce_test, training, data_description)"
      ]
    },
    {
      "cell_type": "code",
      "execution_count": null,
      "metadata": {
        "id": "21b40ooujHVO"
      },
      "outputs": [],
      "source": [
        "config_bce_test = base_config_test.copy()\n",
        "config_bce_test['fwd_type'] = 'bce'\n",
        "config_bce_test['n_neg_samples'] = 32\n",
        "config_bce_test['sampling'] = 'without_rep'\n",
        "\n",
        "model_bce_test, losses_bce, hr_bce, mrr_bce, cov_bce = build_sasrec_model(config_bce_test, training, data_description)"
      ]
    },
    {
      "cell_type": "markdown",
      "metadata": {
        "id": "4fsEF5X9wfOg"
      },
      "source": [
        "# Let's train the models"
      ]
    },
    {
      "cell_type": "code",
      "execution_count": null,
      "metadata": {
        "id": "SI8O6J3RTU7O"
      },
      "outputs": [],
      "source": [
        "base_config = dict(\n",
        "    num_epochs = 20,\n",
        "    maxlen = 200,\n",
        "    hidden_units = 64,\n",
        "    dropout_rate = 0.4,\n",
        "    num_blocks = 2,\n",
        "    num_heads = 1,\n",
        "    batch_size = 256,\n",
        "    sampler_seed = 99,\n",
        "    manual_seed = 111,\n",
        "    learning_rate = 1e-3,\n",
        "    l2_emb = 0,\n",
        "    sampling = 'no_sampling',\n",
        "    n_neg_samples = 0\n",
        ")"
      ]
    },
    {
      "cell_type": "code",
      "execution_count": null,
      "metadata": {
        "id": "yHoivRZUiDlv"
      },
      "outputs": [],
      "source": [
        "config_bce = base_config.copy()\n",
        "config_bce['fwd_type'] = 'bce'\n",
        "config_bce['n_neg_samples'] = 32\n",
        "config_bce['sampling'] = 'without_rep'"
      ]
    },
    {
      "cell_type": "code",
      "execution_count": null,
      "metadata": {
        "id": "CXkoiAI6iGGE"
      },
      "outputs": [],
      "source": [
        "model_bce, losses_bce, hr_bce, mrr_bce, cov_bce = build_sasrec_model(config_bce, training, data_description)"
      ]
    },
    {
      "cell_type": "code",
      "execution_count": null,
      "metadata": {
        "id": "oRakZwaHKF9M"
      },
      "outputs": [],
      "source": [
        "config_ce = base_config.copy()\n",
        "config_ce['fwd_type'] = 'ce'"
      ]
    },
    {
      "cell_type": "code",
      "execution_count": null,
      "metadata": {
        "id": "_SNulmhcKF9N"
      },
      "outputs": [],
      "source": [
        "model_ce, losses_ce, hr_ce, mrr_ce, cov_ce = build_sasrec_model(config_ce, training, data_description)"
      ]
    },
    {
      "cell_type": "code",
      "execution_count": null,
      "metadata": {
        "id": "FI-qYJlildVj"
      },
      "outputs": [],
      "source": [
        "config_sce = base_config.copy()\n",
        "config_sce['mix_x'] = False\n",
        "config_sce['n_buckets'] = 500\n",
        "config_sce['bucket_size_x'] = 500\n",
        "config_sce['bucket_size_y'] = 200\n",
        "config_sce['fwd_type'] = 'sce'\n"
      ]
    },
    {
      "cell_type": "code",
      "execution_count": null,
      "metadata": {
        "id": "Uq0p6TRolgbE"
      },
      "outputs": [],
      "source": [
        "model_sce, losses_sce, hr_sce, mrr_sce, cov_sce = build_sasrec_model(config_sce, training, data_description)"
      ]
    },
    {
      "cell_type": "code",
      "execution_count": null,
      "metadata": {
        "id": "nSwWjM1lljYZ"
      },
      "outputs": [],
      "source": [
        "fig, ax = plt.subplots(1, 4, figsize=(20, 5))\n",
        "pd.Series(losses_sce).apply(np.mean).plot(title='Evolution of loss', xlabel='Epoch', ylabel='Loss', ax=ax[0], label='SCE');\n",
        "pd.Series(hr_sce).apply(np.mean).plot(title='Evolution of val HR', xlabel='Epoch', ylabel='HR', ax=ax[1], label='SCE');\n",
        "pd.Series(mrr_sce).apply(np.mean).plot(title='Evolution of val MRR', xlabel='Epoch', ylabel='MRR', ax=ax[2], label='SCE');\n",
        "pd.Series(cov_sce).apply(np.mean).plot(title='Evolution of val COV', xlabel='Epoch', ylabel='COV', ax=ax[3], label='SCE');\n",
        "\n",
        "pd.Series(losses_ce).apply(np.mean).plot(title='Evolution of loss', xlabel='Epoch', ylabel='Loss', ax=ax[0], label='CE');\n",
        "pd.Series(hr_ce).apply(np.mean).plot(title='Evolution of val HR', xlabel='Epoch', ylabel='HR', ax=ax[1], label='CE');\n",
        "pd.Series(mrr_ce).apply(np.mean).plot(title='Evolution of val MRR', xlabel='Epoch', ylabel='MRR', ax=ax[2], label='CE');\n",
        "pd.Series(cov_ce).apply(np.mean).plot(title='Evolution of val COV', xlabel='Epoch', ylabel='COV', ax=ax[3], label='CE');\n",
        "\n",
        "pd.Series(losses_bce).apply(np.mean).plot(title='Evolution of loss', xlabel='Epoch', ylabel='Loss', ax=ax[0], label='BCE');\n",
        "pd.Series(hr_bce).apply(np.mean).plot(title='Evolution of val HR', xlabel='Epoch', ylabel='HR', ax=ax[1], label='BCE');\n",
        "pd.Series(mrr_bce).apply(np.mean).plot(title='Evolution of val MRR', xlabel='Epoch', ylabel='MRR', ax=ax[2], label='BCE');\n",
        "pd.Series(cov_bce).apply(np.mean).plot(title='Evolution of val COV', xlabel='Epoch', ylabel='COV', ax=ax[3], label='BCE');\n",
        "\n",
        "plt.legend()"
      ]
    },
    {
      "cell_type": "markdown",
      "metadata": {
        "id": "9iplbj61KF9N"
      },
      "source": [
        "# Evaluation"
      ]
    },
    {
      "cell_type": "code",
      "execution_count": null,
      "metadata": {
        "id": "67GnPui2iuon"
      },
      "outputs": [],
      "source": [
        "# SASRec BCE\n",
        "sasrec_scores_bce = sasrec_model_scoring(model_bce, testset, data_description)\n",
        "downvote_seen_items(sasrec_scores_bce, testset, data_description)\n",
        "\n",
        "sasrec_recs_bce = topn_recommendations(sasrec_scores_bce, topn=10)\n",
        "model_evaluate(sasrec_recs_bce, holdout, data_description)"
      ]
    },
    {
      "cell_type": "code",
      "execution_count": null,
      "metadata": {
        "id": "69ocQuso62jU"
      },
      "outputs": [],
      "source": [
        "# CE\n",
        "sasrec_scores_ce = sasrec_model_scoring(model_ce, testset, data_description)\n",
        "downvote_seen_items(sasrec_scores_ce, testset, data_description)\n",
        "\n",
        "sasrec_recs_ce = topn_recommendations(sasrec_scores_ce, topn=10)\n",
        "model_evaluate(sasrec_recs_ce, holdout, data_description)"
      ]
    },
    {
      "cell_type": "code",
      "execution_count": null,
      "metadata": {
        "id": "x-rkMp9fDsmU"
      },
      "outputs": [],
      "source": [
        "# SCE\n",
        "sasrec_scores_sce = sasrec_model_scoring(model_sce, testset, data_description)\n",
        "downvote_seen_items(sasrec_scores_sce, testset, data_description)\n",
        "\n",
        "sasrec_recs_sce = topn_recommendations(sasrec_scores_sce, topn=10)\n",
        "model_evaluate(sasrec_recs_sce, holdout, data_description)"
      ]
    },
    {
      "cell_type": "code",
      "execution_count": null,
      "metadata": {
        "id": "qjAyW7KPuOfP"
      },
      "outputs": [],
      "source": []
    }
  ],
  "metadata": {
    "accelerator": "GPU",
    "colab": {
      "gpuType": "T4",
      "provenance": [],
      "include_colab_link": true
    },
    "interpreter": {
      "hash": "e587e8b75394de48c2e2a47def3a5e72a23054844b7abdff48af37dc7e76636d"
    },
    "kernelspec": {
      "display_name": "Python 3",
      "name": "python3"
    },
    "language_info": {
      "codemirror_mode": {
        "name": "ipython",
        "version": 3
      },
      "file_extension": ".py",
      "mimetype": "text/x-python",
      "name": "python",
      "nbconvert_exporter": "python",
      "pygments_lexer": "ipython3",
      "version": "3.9.10"
    },
    "orig_nbformat": 4,
    "widgets": {
      "application/vnd.jupyter.widget-state+json": {
        "67cc7e90602c4777af7dc3e7b6af2a36": {
          "model_module": "@jupyter-widgets/controls",
          "model_name": "HBoxModel",
          "model_module_version": "1.5.0",
          "state": {
            "_dom_classes": [],
            "_model_module": "@jupyter-widgets/controls",
            "_model_module_version": "1.5.0",
            "_model_name": "HBoxModel",
            "_view_count": null,
            "_view_module": "@jupyter-widgets/controls",
            "_view_module_version": "1.5.0",
            "_view_name": "HBoxView",
            "box_style": "",
            "children": [
              "IPY_MODEL_1be0fbd8ab63491aa711d6154092c0f3",
              "IPY_MODEL_2f7defdc24bc48289f9668e40c9cc4ee",
              "IPY_MODEL_4db7a72e29c447dd8278b85b1aa04314"
            ],
            "layout": "IPY_MODEL_02fee2945cab42f68c759465bbbaf3e5"
          }
        },
        "1be0fbd8ab63491aa711d6154092c0f3": {
          "model_module": "@jupyter-widgets/controls",
          "model_name": "HTMLModel",
          "model_module_version": "1.5.0",
          "state": {
            "_dom_classes": [],
            "_model_module": "@jupyter-widgets/controls",
            "_model_module_version": "1.5.0",
            "_model_name": "HTMLModel",
            "_view_count": null,
            "_view_module": "@jupyter-widgets/controls",
            "_view_module_version": "1.5.0",
            "_view_name": "HTMLView",
            "description": "",
            "description_tooltip": null,
            "layout": "IPY_MODEL_87195f84835b4d59b30324085cf1e367",
            "placeholder": "​",
            "style": "IPY_MODEL_512fe5bc570d48008ef4405c3148fc72",
            "value": "  0%"
          }
        },
        "2f7defdc24bc48289f9668e40c9cc4ee": {
          "model_module": "@jupyter-widgets/controls",
          "model_name": "FloatProgressModel",
          "model_module_version": "1.5.0",
          "state": {
            "_dom_classes": [],
            "_model_module": "@jupyter-widgets/controls",
            "_model_module_version": "1.5.0",
            "_model_name": "FloatProgressModel",
            "_view_count": null,
            "_view_module": "@jupyter-widgets/controls",
            "_view_module_version": "1.5.0",
            "_view_name": "ProgressView",
            "bar_style": "danger",
            "description": "",
            "description_tooltip": null,
            "layout": "IPY_MODEL_42a45a724fc04e06a9830c50fab4c9ec",
            "max": 1,
            "min": 0,
            "orientation": "horizontal",
            "style": "IPY_MODEL_9c19b3e2d27f4e1fa584ae3b4520e924",
            "value": 0
          }
        },
        "4db7a72e29c447dd8278b85b1aa04314": {
          "model_module": "@jupyter-widgets/controls",
          "model_name": "HTMLModel",
          "model_module_version": "1.5.0",
          "state": {
            "_dom_classes": [],
            "_model_module": "@jupyter-widgets/controls",
            "_model_module_version": "1.5.0",
            "_model_name": "HTMLModel",
            "_view_count": null,
            "_view_module": "@jupyter-widgets/controls",
            "_view_module_version": "1.5.0",
            "_view_name": "HTMLView",
            "description": "",
            "description_tooltip": null,
            "layout": "IPY_MODEL_a7fa3469952e457f843ebc689d59e1d6",
            "placeholder": "​",
            "style": "IPY_MODEL_145c4429030147b3bf4c4d048c298252",
            "value": " 0/1 [00:06&lt;?, ?it/s]"
          }
        },
        "02fee2945cab42f68c759465bbbaf3e5": {
          "model_module": "@jupyter-widgets/base",
          "model_name": "LayoutModel",
          "model_module_version": "1.2.0",
          "state": {
            "_model_module": "@jupyter-widgets/base",
            "_model_module_version": "1.2.0",
            "_model_name": "LayoutModel",
            "_view_count": null,
            "_view_module": "@jupyter-widgets/base",
            "_view_module_version": "1.2.0",
            "_view_name": "LayoutView",
            "align_content": null,
            "align_items": null,
            "align_self": null,
            "border": null,
            "bottom": null,
            "display": null,
            "flex": null,
            "flex_flow": null,
            "grid_area": null,
            "grid_auto_columns": null,
            "grid_auto_flow": null,
            "grid_auto_rows": null,
            "grid_column": null,
            "grid_gap": null,
            "grid_row": null,
            "grid_template_areas": null,
            "grid_template_columns": null,
            "grid_template_rows": null,
            "height": null,
            "justify_content": null,
            "justify_items": null,
            "left": null,
            "margin": null,
            "max_height": null,
            "max_width": null,
            "min_height": null,
            "min_width": null,
            "object_fit": null,
            "object_position": null,
            "order": null,
            "overflow": null,
            "overflow_x": null,
            "overflow_y": null,
            "padding": null,
            "right": null,
            "top": null,
            "visibility": null,
            "width": null
          }
        },
        "87195f84835b4d59b30324085cf1e367": {
          "model_module": "@jupyter-widgets/base",
          "model_name": "LayoutModel",
          "model_module_version": "1.2.0",
          "state": {
            "_model_module": "@jupyter-widgets/base",
            "_model_module_version": "1.2.0",
            "_model_name": "LayoutModel",
            "_view_count": null,
            "_view_module": "@jupyter-widgets/base",
            "_view_module_version": "1.2.0",
            "_view_name": "LayoutView",
            "align_content": null,
            "align_items": null,
            "align_self": null,
            "border": null,
            "bottom": null,
            "display": null,
            "flex": null,
            "flex_flow": null,
            "grid_area": null,
            "grid_auto_columns": null,
            "grid_auto_flow": null,
            "grid_auto_rows": null,
            "grid_column": null,
            "grid_gap": null,
            "grid_row": null,
            "grid_template_areas": null,
            "grid_template_columns": null,
            "grid_template_rows": null,
            "height": null,
            "justify_content": null,
            "justify_items": null,
            "left": null,
            "margin": null,
            "max_height": null,
            "max_width": null,
            "min_height": null,
            "min_width": null,
            "object_fit": null,
            "object_position": null,
            "order": null,
            "overflow": null,
            "overflow_x": null,
            "overflow_y": null,
            "padding": null,
            "right": null,
            "top": null,
            "visibility": null,
            "width": null
          }
        },
        "512fe5bc570d48008ef4405c3148fc72": {
          "model_module": "@jupyter-widgets/controls",
          "model_name": "DescriptionStyleModel",
          "model_module_version": "1.5.0",
          "state": {
            "_model_module": "@jupyter-widgets/controls",
            "_model_module_version": "1.5.0",
            "_model_name": "DescriptionStyleModel",
            "_view_count": null,
            "_view_module": "@jupyter-widgets/base",
            "_view_module_version": "1.2.0",
            "_view_name": "StyleView",
            "description_width": ""
          }
        },
        "42a45a724fc04e06a9830c50fab4c9ec": {
          "model_module": "@jupyter-widgets/base",
          "model_name": "LayoutModel",
          "model_module_version": "1.2.0",
          "state": {
            "_model_module": "@jupyter-widgets/base",
            "_model_module_version": "1.2.0",
            "_model_name": "LayoutModel",
            "_view_count": null,
            "_view_module": "@jupyter-widgets/base",
            "_view_module_version": "1.2.0",
            "_view_name": "LayoutView",
            "align_content": null,
            "align_items": null,
            "align_self": null,
            "border": null,
            "bottom": null,
            "display": null,
            "flex": null,
            "flex_flow": null,
            "grid_area": null,
            "grid_auto_columns": null,
            "grid_auto_flow": null,
            "grid_auto_rows": null,
            "grid_column": null,
            "grid_gap": null,
            "grid_row": null,
            "grid_template_areas": null,
            "grid_template_columns": null,
            "grid_template_rows": null,
            "height": null,
            "justify_content": null,
            "justify_items": null,
            "left": null,
            "margin": null,
            "max_height": null,
            "max_width": null,
            "min_height": null,
            "min_width": null,
            "object_fit": null,
            "object_position": null,
            "order": null,
            "overflow": null,
            "overflow_x": null,
            "overflow_y": null,
            "padding": null,
            "right": null,
            "top": null,
            "visibility": null,
            "width": null
          }
        },
        "9c19b3e2d27f4e1fa584ae3b4520e924": {
          "model_module": "@jupyter-widgets/controls",
          "model_name": "ProgressStyleModel",
          "model_module_version": "1.5.0",
          "state": {
            "_model_module": "@jupyter-widgets/controls",
            "_model_module_version": "1.5.0",
            "_model_name": "ProgressStyleModel",
            "_view_count": null,
            "_view_module": "@jupyter-widgets/base",
            "_view_module_version": "1.2.0",
            "_view_name": "StyleView",
            "bar_color": null,
            "description_width": ""
          }
        },
        "a7fa3469952e457f843ebc689d59e1d6": {
          "model_module": "@jupyter-widgets/base",
          "model_name": "LayoutModel",
          "model_module_version": "1.2.0",
          "state": {
            "_model_module": "@jupyter-widgets/base",
            "_model_module_version": "1.2.0",
            "_model_name": "LayoutModel",
            "_view_count": null,
            "_view_module": "@jupyter-widgets/base",
            "_view_module_version": "1.2.0",
            "_view_name": "LayoutView",
            "align_content": null,
            "align_items": null,
            "align_self": null,
            "border": null,
            "bottom": null,
            "display": null,
            "flex": null,
            "flex_flow": null,
            "grid_area": null,
            "grid_auto_columns": null,
            "grid_auto_flow": null,
            "grid_auto_rows": null,
            "grid_column": null,
            "grid_gap": null,
            "grid_row": null,
            "grid_template_areas": null,
            "grid_template_columns": null,
            "grid_template_rows": null,
            "height": null,
            "justify_content": null,
            "justify_items": null,
            "left": null,
            "margin": null,
            "max_height": null,
            "max_width": null,
            "min_height": null,
            "min_width": null,
            "object_fit": null,
            "object_position": null,
            "order": null,
            "overflow": null,
            "overflow_x": null,
            "overflow_y": null,
            "padding": null,
            "right": null,
            "top": null,
            "visibility": null,
            "width": null
          }
        },
        "145c4429030147b3bf4c4d048c298252": {
          "model_module": "@jupyter-widgets/controls",
          "model_name": "DescriptionStyleModel",
          "model_module_version": "1.5.0",
          "state": {
            "_model_module": "@jupyter-widgets/controls",
            "_model_module_version": "1.5.0",
            "_model_name": "DescriptionStyleModel",
            "_view_count": null,
            "_view_module": "@jupyter-widgets/base",
            "_view_module_version": "1.2.0",
            "_view_name": "StyleView",
            "description_width": ""
          }
        }
      }
    }
  },
  "nbformat": 4,
  "nbformat_minor": 0
}